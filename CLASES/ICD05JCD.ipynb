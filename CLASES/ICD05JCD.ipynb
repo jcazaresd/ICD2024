{
 "cells": [
  {
   "cell_type": "markdown",
   "id": "47f47eb8-280b-473b-a8e9-808dcca6b700",
   "metadata": {},
   "source": [
    "# Introducción a la Ciencia de Datos \n",
    "## Notebook de práctica en clase\n",
    "\n",
    "### Clase 05 "
   ]
  },
  {
   "cell_type": "markdown",
   "id": "4866fcdf-96f9-4962-a48a-283e6f34cdbe",
   "metadata": {},
   "source": [
    "Importamos las librerias que se van a utilizar"
   ]
  },
  {
   "cell_type": "code",
   "execution_count": 9,
   "id": "670577e9-57d3-40d8-9510-e76c48cb0b3a",
   "metadata": {},
   "outputs": [],
   "source": [
    "import numpy as np\n",
    "import pandas as pd\n",
    "import matplotlib.pyplot as plt"
   ]
  },
  {
   "cell_type": "markdown",
   "id": "3d9d10dd-0097-4f57-8315-e0e9277a5cbc",
   "metadata": {},
   "source": [
    "Importamos los datos objeto del análisis y los visualizamos"
   ]
  },
  {
   "cell_type": "code",
   "execution_count": 11,
   "id": "0ec391c5-d0ab-4859-b602-13e1e8d00ca6",
   "metadata": {},
   "outputs": [],
   "source": [
    "DATOS = pd.read_csv(r'train.csv')"
   ]
  },
  {
   "cell_type": "code",
   "execution_count": 13,
   "id": "56554f2c-3574-4a12-bed0-f52200c2159f",
   "metadata": {},
   "outputs": [
    {
     "name": "stdout",
     "output_type": "stream",
     "text": [
      "     survived  pclass                                               name  \\\n",
      "0           0       3                            Braund, Mr. Owen Harris   \n",
      "1           1       1  Cumings, Mrs. John Bradley (Florence Briggs Th...   \n",
      "2           1       3                             Heikkinen, Miss. Laina   \n",
      "3           1       1       Futrelle, Mrs. Jacques Heath (Lily May Peel)   \n",
      "4           0       3                           Allen, Mr. William Henry   \n",
      "..        ...     ...                                                ...   \n",
      "886         0       2                              Montvila, Rev. Juozas   \n",
      "887         1       1                       Graham, Miss. Margaret Edith   \n",
      "888         0       3           Johnston, Miss. Catherine Helen \"Carrie\"   \n",
      "889         1       1                              Behr, Mr. Karl Howell   \n",
      "890         0       3                                Dooley, Mr. Patrick   \n",
      "\n",
      "        sex   age  sibsp  parch            ticket     fare cabin embarked  \n",
      "0      male  22.0      1      0         A/5 21171   7.2500   NaN        S  \n",
      "1    female  38.0      1      0          PC 17599  71.2833   C85        C  \n",
      "2    female  26.0      0      0  STON/O2. 3101282   7.9250   NaN        S  \n",
      "3    female  35.0      1      0            113803  53.1000  C123        S  \n",
      "4      male  35.0      0      0            373450   8.0500   NaN        S  \n",
      "..      ...   ...    ...    ...               ...      ...   ...      ...  \n",
      "886    male  27.0      0      0            211536  13.0000   NaN        S  \n",
      "887  female  19.0      0      0            112053  30.0000   B42        S  \n",
      "888  female   NaN      1      2        W./C. 6607  23.4500   NaN        S  \n",
      "889    male  26.0      0      0            111369  30.0000  C148        C  \n",
      "890    male  32.0      0      0            370376   7.7500   NaN        Q  \n",
      "\n",
      "[891 rows x 11 columns]\n"
     ]
    }
   ],
   "source": [
    "print (DATOS) "
   ]
  },
  {
   "cell_type": "markdown",
   "id": "6affffec-809e-418c-91c0-8a05937c02e5",
   "metadata": {},
   "source": [
    "## 1 Inspección y exploración de datos \n",
    "\n",
    "Se utiliza ls función .duplicated() de pandas para identificar los valores que se repiten"
   ]
  },
  {
   "cell_type": "code",
   "execution_count": 23,
   "id": "ebee6895-1553-4268-9d38-6d948da46c0b",
   "metadata": {},
   "outputs": [
    {
     "name": "stdout",
     "output_type": "stream",
     "text": [
      "0      False\n",
      "1      False\n",
      "2      False\n",
      "3      False\n",
      "4      False\n",
      "       ...  \n",
      "886    False\n",
      "887    False\n",
      "888    False\n",
      "889    False\n",
      "890    False\n",
      "Length: 891, dtype: bool\n"
     ]
    }
   ],
   "source": [
    "print (df.duplicated())"
   ]
  },
  {
   "cell_type": "markdown",
   "id": "ce52aa20-47d8-4420-a5c4-7a55fdb9bcfa",
   "metadata": {},
   "source": [
    "Se revisa la información que contiene el dataset"
   ]
  },
  {
   "cell_type": "code",
   "execution_count": 32,
   "id": "0e04accc-7bc9-4394-a9ed-9dd3760c1a90",
   "metadata": {},
   "outputs": [
    {
     "name": "stdout",
     "output_type": "stream",
     "text": [
      "<class 'pandas.core.frame.DataFrame'>\n",
      "RangeIndex: 891 entries, 0 to 890\n",
      "Data columns (total 11 columns):\n",
      " #   Column    Non-Null Count  Dtype  \n",
      "---  ------    --------------  -----  \n",
      " 0   survived  891 non-null    int64  \n",
      " 1   pclass    891 non-null    int64  \n",
      " 2   name      891 non-null    object \n",
      " 3   sex       891 non-null    object \n",
      " 4   age       714 non-null    float64\n",
      " 5   sibsp     891 non-null    int64  \n",
      " 6   parch     891 non-null    int64  \n",
      " 7   ticket    891 non-null    object \n",
      " 8   fare      891 non-null    float64\n",
      " 9   cabin     204 non-null    object \n",
      " 10  embarked  889 non-null    object \n",
      "dtypes: float64(2), int64(4), object(5)\n",
      "memory usage: 76.7+ KB\n",
      "None\n"
     ]
    }
   ],
   "source": [
    "print(df.info())"
   ]
  },
  {
   "cell_type": "markdown",
   "id": "c2976d8d-fa7e-483c-8916-dc961202d028",
   "metadata": {},
   "source": [
    "A partir de la información anterior, podemos ver que Edad y Cabina tienen un número desigual de recuentos. Además, algunas de las columnas son categóricas y tienen tipo de dato objeto, mientras que otras son de tipo entero y flotante. Veamos la estructura descriptiva de los datos usando df.describe()."
   ]
  },
  {
   "cell_type": "code",
   "execution_count": 34,
   "id": "6a07fcf4-7cd9-43f7-98b1-8aa62b05c823",
   "metadata": {},
   "outputs": [
    {
     "name": "stdout",
     "output_type": "stream",
     "text": [
      "         survived      pclass         age       sibsp       parch        fare\n",
      "count  891.000000  891.000000  714.000000  891.000000  891.000000  891.000000\n",
      "mean     0.383838    2.308642   29.699118    0.523008    0.381594   32.204208\n",
      "std      0.486592    0.836071   14.526497    1.102743    0.806057   49.693429\n",
      "min      0.000000    1.000000    0.420000    0.000000    0.000000    0.000000\n",
      "25%      0.000000    2.000000   20.125000    0.000000    0.000000    7.910400\n",
      "50%      0.000000    3.000000   28.000000    0.000000    0.000000   14.454200\n",
      "75%      1.000000    3.000000   38.000000    1.000000    0.000000   31.000000\n",
      "max      1.000000    3.000000   80.000000    8.000000    6.000000  512.329200\n"
     ]
    }
   ],
   "source": [
    "print (df.describe())"
   ]
  },
  {
   "cell_type": "markdown",
   "id": "7fc75c72-9087-48b3-a654-93bcff96cb70",
   "metadata": {},
   "source": [
    "Para revisar las columnas categoricas y numéricas se utiliza la función [col]"
   ]
  },
  {
   "cell_type": "code",
   "execution_count": 38,
   "id": "8f8048ef-61c4-4c1e-9158-ccb3d71923a0",
   "metadata": {},
   "outputs": [
    {
     "name": "stdout",
     "output_type": "stream",
     "text": [
      "Categorical columns : ['name', 'sex', 'ticket', 'cabin', 'embarked']\n",
      "Numerical columns : ['survived', 'pclass', 'age', 'sibsp', 'parch', 'fare']\n"
     ]
    }
   ],
   "source": [
    "# Categorical columns\n",
    "cat_col = [col for col in df.columns if df[col].dtype == 'object']\n",
    "print('Categorical columns :',cat_col)\n",
    "# Numerical columns\n",
    "num_col = [col for col in df.columns if df[col].dtype != 'object']\n",
    "print('Numerical columns :',num_col)"
   ]
  },
  {
   "cell_type": "markdown",
   "id": "18fcfdec-9764-4f48-b045-fd7c3e43aa97",
   "metadata": {},
   "source": [
    "Para revisar el número total de valores en las colpumnas categóricas se usa la función  .unique()"
   ]
  },
  {
   "cell_type": "code",
   "execution_count": 41,
   "id": "87d91856-d071-47a9-804f-db393959364e",
   "metadata": {},
   "outputs": [
    {
     "data": {
      "text/plain": [
       "name        891\n",
       "sex           2\n",
       "ticket      681\n",
       "cabin       147\n",
       "embarked      3\n",
       "dtype: int64"
      ]
     },
     "execution_count": 41,
     "metadata": {},
     "output_type": "execute_result"
    }
   ],
   "source": [
    "df[cat_col].nunique()"
   ]
  },
  {
   "cell_type": "markdown",
   "id": "ce12a010-6f8b-49dd-863a-2b0fd49babba",
   "metadata": {},
   "source": [
    "## 2. Remover observaciones no deseadas \n",
    "\n",
    "Esto incluye eliminar valores duplicados, redundantes o irrelevantes de tu conjunto de datos. Las observaciones duplicadas surgen con mayor frecuencia durante la recolección de datos y las observaciones irrelevantes son aquellas que no se ajustan al problema específico que estás tratando de resolver.\r\n",
    "\r\n",
    "Las observaciones redundantes alteran la eficiencia en gran medida, ya que los datos se repiten y pueden sumar hacia el lado correcto o incorrecto, produciendo resultados poco fiables. Las observaciones irrelevantes son cualquier tipo de datos que no nos son útiles y pueden eliminarse directamente. Ahora tenemos que tomar una decisión según el tema de análisis, sobre qué factor es importante para nuestra discusión. Como sabemos, nuestras máquinas no entienden los datos de texto. Por lo tanto, tenemos que eliminar o convertir los valores de las columnas categóricas en tipos numéricos. Aquí estamos eliminando las columnas de Nombre porque el Nombre siempre será único y no tiene una gran influencia en las variables objetivo. Para el ticket, primero imprimamos los 50 tickets únicos."
   ]
  },
  {
   "cell_type": "code",
   "execution_count": 46,
   "id": "e1f804be-079f-47c0-afaa-7aeef88cbead",
   "metadata": {},
   "outputs": [
    {
     "data": {
      "text/plain": [
       "array(['A/5 21171', 'PC 17599', 'STON/O2. 3101282', '113803', '373450',\n",
       "       '330877', '17463', '349909', '347742', '237736', 'PP 9549',\n",
       "       '113783', 'A/5. 2151', '347082', '350406', '248706', '382652',\n",
       "       '244373', '345763', '2649', '239865', '248698', '330923', '113788',\n",
       "       '347077', '2631', '19950', '330959', '349216', 'PC 17601',\n",
       "       'PC 17569', '335677', 'C.A. 24579', 'PC 17604', '113789', '2677',\n",
       "       'A./5. 2152', '345764', '2651', '7546', '11668', '349253',\n",
       "       'SC/Paris 2123', '330958', 'S.C./A.4. 23567', '370371', '14311',\n",
       "       '2662', '349237', '3101295'], dtype=object)"
      ]
     },
     "execution_count": 46,
     "metadata": {},
     "output_type": "execute_result"
    }
   ],
   "source": [
    "df['ticket'].unique()[:50]"
   ]
  },
  {
   "cell_type": "markdown",
   "id": "7231f6cc-dd09-41cc-8e5b-da6ab5359df6",
   "metadata": {},
   "source": [
    "A partir de los tickets anteriores, podemos observar que están compuestos por dos partes, como el primer valor ‘A/5 21171’, que es una combinación de ‘A/5’ y ‘21171’. Esto puede influir en nuestras variables objetivo. Será un caso de Ingeniería de Características, donde derivamos nuevas características a partir de una columna o un grupo de columnas. En el caso actual, estamos eliminando las columnas ‘Nombre’ y ‘Ticket’."
   ]
  },
  {
   "cell_type": "markdown",
   "id": "88bdce16-2074-4fe0-af08-105dbcd286af",
   "metadata": {},
   "source": [
    "Descartamos los atributos de nombre y ticket con la función .drop()"
   ]
  },
  {
   "cell_type": "code",
   "execution_count": 49,
   "id": "c89e296d-707f-42a9-bc20-07452847e5ec",
   "metadata": {},
   "outputs": [
    {
     "name": "stdout",
     "output_type": "stream",
     "text": [
      "(891, 9)\n"
     ]
    }
   ],
   "source": [
    "df1 = df.drop(columns=['name','ticket'])\n",
    "print(df1.shape)"
   ]
  },
  {
   "cell_type": "markdown",
   "id": "f1e83300-ab03-4e4a-8489-a5f453743447",
   "metadata": {},
   "source": [
    "## 3. Manejo de datos faltantes \n",
    "\n",
    "Los datos faltantes son un problema común en los conjuntos de datos del mundo real y pueden ocurrir por diversas razones, como errores humanos, fallos del sistema o problemas de recolección de datos. Se pueden utilizar varias técnicas para manejar los datos faltantes, como la imputación, eliminación o sustitución.\r\n",
    "\r\n",
    "Vamos a comprobar el porcentaje de valores faltantes por columnas para cada fila usando df.isnull(), que verifica si los valores son nulos o no y devuelve valores booleanos. Luego, .sum() sumará el número total de filas con valores nulos y lo dividiremos por el número total de filas presentes en el conjunto de datos, y luego multiplicamos para obtener los valores en porcentaje, es decir, por cada 100 valores, cuántos son nulos.\n"
   ]
  },
  {
   "cell_type": "code",
   "execution_count": 57,
   "id": "e69684ad-cb3a-4639-921f-dac23961c32b",
   "metadata": {},
   "outputs": [
    {
     "data": {
      "text/plain": [
       "survived     0.00\n",
       "pclass       0.00\n",
       "sex          0.00\n",
       "age         19.87\n",
       "sibsp        0.00\n",
       "parch        0.00\n",
       "fare         0.00\n",
       "cabin       77.10\n",
       "embarked     0.22\n",
       "dtype: float64"
      ]
     },
     "execution_count": 57,
     "metadata": {},
     "output_type": "execute_result"
    }
   ],
   "source": [
    "round((df1.isnull().sum()/df1.shape[0])*100,2)"
   ]
  },
  {
   "cell_type": "markdown",
   "id": "379f28b3-8c0e-4e3e-8dcc-dbbc9fe1fbc3",
   "metadata": {},
   "source": [
    "No podemos simplemente ignorar o eliminar las observaciones faltantes. Deben manejarse con cuidado, ya que pueden ser una indicación de algo importante.\r\n",
    "\r\n",
    "Las dos formas más comunes de tratar los datos faltantes son:1. \r\n",
    "\r\n",
    "Eliminar observaciones con valores faltant* es.\r\n",
    "El hecho de que el valor esté faltante puede ser informativo en sí mi* smo.\r\n",
    "Además, en el mundo real, a menudo necesitas hacer predicciones con nuevos datos, incluso si algunas de las características están faltantes.\r\n",
    "\r\n",
    "Como podemos ver en el resultado anterior, la columna Cabina tiene un 77% de valores nulos, Edad tiene un 19.87% y Embarque tiene un 0.22% de valores nulos. Por lo tanto, no es una buena idea llenar el 77% de valores nulos. Así que eliminaremos la columna Cabina. La columna Embarque tiene solo un 0.22% de valores nulos, por lo que eliminaremos las filas con valores nulos de la columna Embarque."
   ]
  },
  {
   "cell_type": "code",
   "execution_count": 60,
   "id": "a8c91481-70f0-43ea-8a58-89c835df341d",
   "metadata": {},
   "outputs": [
    {
     "name": "stdout",
     "output_type": "stream",
     "text": [
      "Before:  (891, 9)\n",
      "After:  (889, 8)\n"
     ]
    }
   ],
   "source": [
    "print(\"Before: \", df1.shape)\n",
    "df2 = df1.drop(columns='cabin')\n",
    "df2.dropna(subset=['embarked'], axis=0, inplace=True)\n",
    "print(\"After: \", df2.shape)"
   ]
  },
  {
   "cell_type": "markdown",
   "id": "01481d06-1c5f-43e2-8e97-85649aa6e4d9",
   "metadata": {},
   "source": [
    "2. Imputar los valores faltantes a partir de observaciones pasadas.\n",
    "\n",
    "Nuevamente, la ‘ausencia’ casi siempre es informativa en sí misma, y deberías indicarle a tu algoritmo si un valor estaba ausente. Incluso si construyes un modelo para imputar tus valores, no estás agregando ninguna información real. Solo estás reforzando los patrones ya proporcionados por otras características. A partir de la tabla descriptiva anterior, podemos ver que hay muy poca diferencia entre la media y la mediana, es decir, 29.6 y 28. Por lo tanto, aquí podemos hacer una imputación de la media o de la mediana.\n",
    "\n",
    "Nota: La imputación de la media es adecuada cuando los datos están distribuidos normalmente y no tienen valores atípicos extremos. La imputación de la mediana es preferible cuando los datos contienen valores atípicos o están sesgados."
   ]
  },
  {
   "cell_type": "code",
   "execution_count": 65,
   "id": "2e7a744f-3223-4a8c-bab2-1464022eaea2",
   "metadata": {},
   "outputs": [
    {
     "data": {
      "image/png": "[encoded data removed]",
      "text/plain": [
       "<Figure size 640x480 with 1 Axes>"
      ]
     },
     "metadata": {},
     "output_type": "display_data"
    }
   ],
   "source": [
    "# Mean imputation\n",
    "df3 = df2.fillna(df2.age.mean())\n",
    "# Let's check the null values again\n",
    "df3.isnull().sum()\n",
    "\n",
    "plt.hist([df2.age,df3.age], alpha=0.75, label=['before','after'])\n",
    "plt.legend(loc='upper right')\n",
    "plt.show()"
   ]
  },
  {
   "cell_type": "markdown",
   "id": "fa6a3616-a71d-498c-9ffa-836acf8dcd52",
   "metadata": {},
   "source": [
    "## \"4. Manejo de valores atípicos: \n",
    "\n",
    "Los valores atípicos son valores extremos que se desvían significativamente de la mayoría de los datos. Pueden afectar negativamente el análisis y el rendimiento del modelo. Se pueden utilizar técnicas como la agrupación, la interpolación o la transformación para manejar los valores atípicos.\r\n",
    "\r\n",
    "Para verificar los valores atípicos, generalmente usamos un diagrama de caja. Un diagrama de caja, también conocido como diagrama de caja y bigotes, es una representación gráfica de la distribución de un conjunto de datos. Muestra la mediana de una variable, los cuartiles y los posibles valores atípicos. La línea dentro de la caja denota la mediana, mientras que la caja en sí denota el rango intercuartil (IQR). Los bigotes se extienden hasta los valores no atípicos más extremos dentro de 1.5 veces el IQR. Los puntos individuales más allá de los bigotes se consideran posibles valores atípicos. Un diagrama de caja ofrece una visión general fácil de entender del rango de los datos y permite identificar valores atípicos o sesgos en la distribución.\r\n",
    "\r\n",
    "Vamos a trazar el diagrama de caja para los datos de la columna Ead.\"\n",
    "\n"
   ]
  },
  {
   "cell_type": "code",
   "execution_count": 68,
   "id": "be30d33f-0b91-486b-91a2-9c7364f9f1ea",
   "metadata": {},
   "outputs": [
    {
     "data": {
      "image/png": "[encoded data removed]",
      "text/plain": [
       "<Figure size 640x480 with 1 Axes>"
      ]
     },
     "metadata": {},
     "output_type": "display_data"
    }
   ],
   "source": [
    "import matplotlib.pyplot as plt\n",
    "plt.boxplot(df3['age'], vert=False)\n",
    "plt.ylabel('Variable')\n",
    "plt.xlabel('Age')\n",
    "plt.title('Before')\n",
    "plt.show()"
   ]
  },
  {
   "cell_type": "code",
   "execution_count": 70,
   "id": "f851cc6b-3ae4-4a80-96b2-8b56fc8df8c0",
   "metadata": {},
   "outputs": [
    {
     "name": "stdout",
     "output_type": "stream",
     "text": [
      "Lower Bound : 3.705400107925648\n",
      "Upper Bound : 55.578785285332785\n"
     ]
    }
   ],
   "source": [
    "# calculate summary statistics\n",
    "mean = df3['age'].mean()\n",
    "std  = df3['age'].std()\n",
    " \n",
    "# Calculate the lower and upper bounds\n",
    "lower_bound = mean - std*2\n",
    "upper_bound = mean + std*2\n",
    " \n",
    "print('Lower Bound :',lower_bound)\n",
    "print('Upper Bound :',upper_bound)\n",
    " \n",
    "# Drop the outliers\n",
    "df4 = df3[(df3['age'] >= lower_bound)\n",
    "                & (df3['age'] <= upper_bound)]"
   ]
  },
  {
   "cell_type": "code",
   "execution_count": 72,
   "id": "c6a01fd9-153a-451b-ba64-cb0bf7f1acc4",
   "metadata": {},
   "outputs": [
    {
     "data": {
      "image/png": "[encoded data removed]",
      "text/plain": [
       "<Figure size 640x480 with 1 Axes>"
      ]
     },
     "metadata": {},
     "output_type": "display_data"
    }
   ],
   "source": [
    "plt.boxplot(df4['age'], vert=False)\n",
    "plt.ylabel('Variable')\n",
    "plt.xlabel('Age')\n",
    "plt.title('After')\n",
    "plt.show()"
   ]
  },
  {
   "cell_type": "markdown",
   "id": "5533f376-1b6d-47f4-a8e5-990b86f0754b",
   "metadata": {},
   "source": [
    "## 5. Transformación de datos\n",
    "\n",
    "La transformación de datos implica convertir los datos de una forma a otra para hacerlos más adecuados para el análisis. Se pueden utilizar técnicas como la normalización, el escalado o la codificación para transformar los datos.\r\n",
    "\r\n",
    "Validación y verificación de datos: La validación y verificación de datos implican asegurar que los datos sean precisos y consistentes comparándolos con fuentes externas o conocimientos de expertos. Para la predicción con aprendizaje automático, primero separamos las características independientes y las variables objetivo. Aquí consideraremos solo ‘Sexo’, ‘Edad’, ‘SibSp’, ‘Parch’, ‘Tarifa’ y ‘Embarque’ como las características independientes y ‘Sobrevivió’ como la variable objetivo. Porque el ID del pasajero no afectará la tasa de supervivencia."
   ]
  },
  {
   "cell_type": "code",
   "execution_count": 75,
   "id": "e7edb7c2-f57b-4e71-b920-bc04535a162e",
   "metadata": {},
   "outputs": [],
   "source": [
    "X = df3[['pclass','sex','age', 'sibsp','parch','fare','embarked']]\n",
    "Y = df3['survived'] "
   ]
  },
  {
   "cell_type": "code",
   "execution_count": 77,
   "id": "79572aac-95a6-48d5-b6b7-ee2b5f779ae2",
   "metadata": {},
   "outputs": [
    {
     "data": {
      "text/html": [
       "<div>\n",
       "<style scoped>\n",
       "    .dataframe tbody tr th:only-of-type {\n",
       "        vertical-align: middle;\n",
       "    }\n",
       "\n",
       "    .dataframe tbody tr th {\n",
       "        vertical-align: top;\n",
       "    }\n",
       "\n",
       "    .dataframe thead th {\n",
       "        text-align: right;\n",
       "    }\n",
       "</style>\n",
       "<table border=\"1\" class=\"dataframe\">\n",
       "  <thead>\n",
       "    <tr style=\"text-align: right;\">\n",
       "      <th></th>\n",
       "      <th>pclass</th>\n",
       "      <th>sex</th>\n",
       "      <th>age</th>\n",
       "      <th>sibsp</th>\n",
       "      <th>parch</th>\n",
       "      <th>fare</th>\n",
       "      <th>embarked</th>\n",
       "    </tr>\n",
       "  </thead>\n",
       "  <tbody>\n",
       "    <tr>\n",
       "      <th>0</th>\n",
       "      <td>3</td>\n",
       "      <td>male</td>\n",
       "      <td>22.0</td>\n",
       "      <td>1</td>\n",
       "      <td>0</td>\n",
       "      <td>7.2500</td>\n",
       "      <td>S</td>\n",
       "    </tr>\n",
       "    <tr>\n",
       "      <th>1</th>\n",
       "      <td>1</td>\n",
       "      <td>female</td>\n",
       "      <td>38.0</td>\n",
       "      <td>1</td>\n",
       "      <td>0</td>\n",
       "      <td>71.2833</td>\n",
       "      <td>C</td>\n",
       "    </tr>\n",
       "    <tr>\n",
       "      <th>2</th>\n",
       "      <td>3</td>\n",
       "      <td>female</td>\n",
       "      <td>26.0</td>\n",
       "      <td>0</td>\n",
       "      <td>0</td>\n",
       "      <td>7.9250</td>\n",
       "      <td>S</td>\n",
       "    </tr>\n",
       "    <tr>\n",
       "      <th>3</th>\n",
       "      <td>1</td>\n",
       "      <td>female</td>\n",
       "      <td>35.0</td>\n",
       "      <td>1</td>\n",
       "      <td>0</td>\n",
       "      <td>53.1000</td>\n",
       "      <td>S</td>\n",
       "    </tr>\n",
       "    <tr>\n",
       "      <th>4</th>\n",
       "      <td>3</td>\n",
       "      <td>male</td>\n",
       "      <td>35.0</td>\n",
       "      <td>0</td>\n",
       "      <td>0</td>\n",
       "      <td>8.0500</td>\n",
       "      <td>S</td>\n",
       "    </tr>\n",
       "  </tbody>\n",
       "</table>\n",
       "</div>"
      ],
      "text/plain": [
       "   pclass     sex   age  sibsp  parch     fare embarked\n",
       "0       3    male  22.0      1      0   7.2500        S\n",
       "1       1  female  38.0      1      0  71.2833        C\n",
       "2       3  female  26.0      0      0   7.9250        S\n",
       "3       1  female  35.0      1      0  53.1000        S\n",
       "4       3    male  35.0      0      0   8.0500        S"
      ]
     },
     "execution_count": 77,
     "metadata": {},
     "output_type": "execute_result"
    }
   ],
   "source": [
    "\n",
    "X.head()"
   ]
  },
  {
   "cell_type": "markdown",
   "id": "1cd739c3-5270-4638-a7a2-3f47f879f1d1",
   "metadata": {},
   "source": [
    "Formato de datos: El formato de datos implica convertir los datos en un formato o estructura estándar que pueda ser fácilmente procesado por los algoritmos o modelos utilizados para el análisis. Aquí discutiremos las técnicas de formato de datos más comúnmente utilizadas, es decir, escalado y normalización. – Escalado: El escalado implica transformar los valores de las características a un rango específico. Mantiene la forma de la distribución original mientras cambia la escala. El escalado es particularmente útil cuando las características tienen diferentes escalas y ciertos algoritmos son sensibles a la magnitud de las características. Los métodos comunes de escalado incluyen el escalado Min-Max y la estandarización (escalado Z-score). Escalado Min-Max:\n",
    "\n",
    "El escalado Min-Max reescala los valores a un rango especificado, típicamente entre 0 y 1. Preserva la distribución original y asegura que el valor mínimo se mapee a 0 y el valor máximo se mapee a 1."
   ]
  },
  {
   "cell_type": "code",
   "execution_count": 81,
   "id": "4394da4a-f363-4b27-8e04-6ce70bbac555",
   "metadata": {},
   "outputs": [
    {
     "name": "stderr",
     "output_type": "stream",
     "text": [
      "C:\\Users\\ingeo\\AppData\\Local\\Temp\\ipykernel_8544\\3649388838.py:10: SettingWithCopyWarning: \n",
      "A value is trying to be set on a copy of a slice from a DataFrame.\n",
      "Try using .loc[row_indexer,col_indexer] = value instead\n",
      "\n",
      "See the caveats in the documentation: https://pandas.pydata.org/pandas-docs/stable/user_guide/indexing.html#returning-a-view-versus-a-copy\n",
      "  x1[num_col_] = scaler.fit_transform(x1[num_col_])\n"
     ]
    },
    {
     "data": {
      "text/html": [
       "<div>\n",
       "<style scoped>\n",
       "    .dataframe tbody tr th:only-of-type {\n",
       "        vertical-align: middle;\n",
       "    }\n",
       "\n",
       "    .dataframe tbody tr th {\n",
       "        vertical-align: top;\n",
       "    }\n",
       "\n",
       "    .dataframe thead th {\n",
       "        text-align: right;\n",
       "    }\n",
       "</style>\n",
       "<table border=\"1\" class=\"dataframe\">\n",
       "  <thead>\n",
       "    <tr style=\"text-align: right;\">\n",
       "      <th></th>\n",
       "      <th>pclass</th>\n",
       "      <th>sex</th>\n",
       "      <th>age</th>\n",
       "      <th>sibsp</th>\n",
       "      <th>parch</th>\n",
       "      <th>fare</th>\n",
       "      <th>embarked</th>\n",
       "    </tr>\n",
       "  </thead>\n",
       "  <tbody>\n",
       "    <tr>\n",
       "      <th>0</th>\n",
       "      <td>1.0</td>\n",
       "      <td>male</td>\n",
       "      <td>0.271174</td>\n",
       "      <td>0.125</td>\n",
       "      <td>0.0</td>\n",
       "      <td>0.014151</td>\n",
       "      <td>S</td>\n",
       "    </tr>\n",
       "    <tr>\n",
       "      <th>1</th>\n",
       "      <td>0.0</td>\n",
       "      <td>female</td>\n",
       "      <td>0.472229</td>\n",
       "      <td>0.125</td>\n",
       "      <td>0.0</td>\n",
       "      <td>0.139136</td>\n",
       "      <td>C</td>\n",
       "    </tr>\n",
       "    <tr>\n",
       "      <th>2</th>\n",
       "      <td>1.0</td>\n",
       "      <td>female</td>\n",
       "      <td>0.321438</td>\n",
       "      <td>0.000</td>\n",
       "      <td>0.0</td>\n",
       "      <td>0.015469</td>\n",
       "      <td>S</td>\n",
       "    </tr>\n",
       "    <tr>\n",
       "      <th>3</th>\n",
       "      <td>0.0</td>\n",
       "      <td>female</td>\n",
       "      <td>0.434531</td>\n",
       "      <td>0.125</td>\n",
       "      <td>0.0</td>\n",
       "      <td>0.103644</td>\n",
       "      <td>S</td>\n",
       "    </tr>\n",
       "    <tr>\n",
       "      <th>4</th>\n",
       "      <td>1.0</td>\n",
       "      <td>male</td>\n",
       "      <td>0.434531</td>\n",
       "      <td>0.000</td>\n",
       "      <td>0.0</td>\n",
       "      <td>0.015713</td>\n",
       "      <td>S</td>\n",
       "    </tr>\n",
       "  </tbody>\n",
       "</table>\n",
       "</div>"
      ],
      "text/plain": [
       "   pclass     sex       age  sibsp  parch      fare embarked\n",
       "0     1.0    male  0.271174  0.125    0.0  0.014151        S\n",
       "1     0.0  female  0.472229  0.125    0.0  0.139136        C\n",
       "2     1.0  female  0.321438  0.000    0.0  0.015469        S\n",
       "3     0.0  female  0.434531  0.125    0.0  0.103644        S\n",
       "4     1.0    male  0.434531  0.000    0.0  0.015713        S"
      ]
     },
     "execution_count": 81,
     "metadata": {},
     "output_type": "execute_result"
    }
   ],
   "source": [
    "from sklearn.preprocessing import MinMaxScaler\n",
    " \n",
    "# initialising the MinMaxScaler\n",
    "scaler = MinMaxScaler(feature_range=(0, 1))\n",
    " \n",
    "# Numerical columns\n",
    "num_col_ = [col for col in X.columns if X[col].dtype != 'object']\n",
    "x1 = X\n",
    "# learning the statistical parameters for each of the data and transforming\n",
    "x1[num_col_] = scaler.fit_transform(x1[num_col_])\n",
    "x1.head()"
   ]
  },
  {
   "cell_type": "code",
   "execution_count": null,
   "id": "9a9c2822-9f9b-4494-950e-f7a91c6f5358",
   "metadata": {},
   "outputs": [],
   "source": []
  }
 ],
 "metadata": {
  "kernelspec": {
   "display_name": "Python 3 (ipykernel)",
   "language": "python",
   "name": "python3"
  },
  "language_info": {
   "codemirror_mode": {
    "name": "ipython",
    "version": 3
   },
   "file_extension": ".py",
   "mimetype": "text/x-python",
   "name": "python",
   "nbconvert_exporter": "python",
   "pygments_lexer": "ipython3",
   "version": "3.12.4"
  }
 },
 "nbformat": 4,
 "nbformat_minor": 5
}
