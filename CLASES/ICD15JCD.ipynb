{
 "cells": [
  {
   "cell_type": "markdown",
   "id": "130d89e1-97a9-47e4-82e0-c6a1d27da24e",
   "metadata": {},
   "source": [
    "## ICD Clase 15 "
   ]
  },
  {
   "cell_type": "markdown",
   "id": "746bf930-431d-4558-901c-59298ce8ae92",
   "metadata": {},
   "source": [
    "### KNN desde cero\n",
    "El algoritmo K-Nearest Neighbors es un algoritmo de aprendizaje perezoso basado en instancias. Dada una instancia de consulta, calcula la distancia de esta instancia a todas las instancias de los datos de entrenamiento y selecciona los k vecinos más cercanos. La clase predicha para la instancia de consulta viene determinada por la clase mayoritaria entre estos vecinos.\n",
    "\n",
    "1. Almacena las instancias de entrenamiento y sus etiquetas correspondientes.\n",
    "2. Para una instancia de consulta, calcule la distancia entre la instancia de consulta y cada instancia de entrenamiento (utilizando una métrica de distancia como la distancia euclídea o Manhattan).\n",
    "3. Identificar los k vecinos más cercanos.\n",
    "4. Clasificar la instancia de consulta basándose en el voto mayoritario de las etiquetas de los vecinos.\n"
   ]
  },
  {
   "cell_type": "code",
   "execution_count": 3,
   "id": "e9380a47-2119-46eb-bc94-48147b5b6f9d",
   "metadata": {},
   "outputs": [],
   "source": [
    "import numpy as np\n",
    "import pandas as pd\n",
    "from collections import Counter"
   ]
  },
  {
   "cell_type": "code",
   "execution_count": 6,
   "id": "a6ec40f0-4612-418a-a8a6-0c1b56ccf80f",
   "metadata": {},
   "outputs": [],
   "source": [
    "\n",
    "import numpy as np\n",
    "import pandas as pd\n",
    "from collections import Counter\n",
    "\n",
    "class KNNClassifier:\n",
    "    def __init__(self, k=3):\n",
    "        \"\"\"\n",
    "        k: The number of nearest neighbors to consider for prediction.\n",
    "        \"\"\"\n",
    "        self.k = k\n",
    "        self.X_train = None  # Training data features\n",
    "        self.y_train = None  # Training data labels\n",
    "    \n",
    "    def fit(self, X, y):\n",
    "        \"\"\"\n",
    "        X: DataFrame containing the training features.\n",
    "        y: Series or array containing the class labels.\n",
    "        \"\"\"\n",
    "        self.X_train = X\n",
    "        self.y_train = y\n",
    "    \n",
    "    def _euclidean_distance(self, instance1, instance2):\n",
    "        \"\"\"\n",
    "        Calculates the Euclidean distance between two instances.\n",
    "        \n",
    "        instance1: First instance (row of feature values).\n",
    "        instance2: Second instance (row of feature values).\n",
    "        \n",
    "        Returns the Euclidean distance between the two instances.\n",
    "        \"\"\"\n",
    "        return np.sqrt(np.sum((instance1 - instance2) ** 2))\n",
    "    \n",
    "    def predict(self, X_test):\n",
    "        \"\"\"\n",
    "        Makes predictions for the test dataset using the KNN algorithm.\n",
    "        \n",
    "        X_test: DataFrame containing the test features.\n",
    "        \n",
    "        Returns a list of predicted class labels for each instance in X_test.\n",
    "        \"\"\"\n",
    "        predictions = []\n",
    "        \n",
    "        # Loop through each test instance\n",
    "        for _, x_test in X_test.iterrows():\n",
    "            # Calculate the distance between the test instance and all training instances\n",
    "            distances = []\n",
    "            for i, x_train in self.X_train.iterrows():\n",
    "                distance = self._euclidean_distance(x_test.values, x_train.values)\n",
    "                distances.append((distance, self.y_train[i]))\n",
    "            \n",
    "            # Sort distances from smallest to largest and select the k nearest neighbors\n",
    "            distances.sort(key=lambda x: x[0])\n",
    "            k_nearest_neighbors = distances[:self.k]\n",
    "            \n",
    "            # Retrieve the labels of the nearest neighbors\n",
    "            k_nearest_labels = [label for _, label in k_nearest_neighbors]\n",
    "            \n",
    "            # Predict the class by majority voting\n",
    "            most_common = Counter(k_nearest_labels).most_common(1)\n",
    "            predictions.append(most_common[0][0])\n",
    "        \n",
    "        return predictions"
   ]
  },
  {
   "cell_type": "markdown",
   "id": "bd8d6112-7133-4cc6-aa9d-6c86e074e3ba",
   "metadata": {},
   "source": [
    "#### Ejemplo de aplicación\r\n",
    "El conjunto de datos Weather (Play Tennis) consta de características como el tiempo, la temperatura, la humedad y las condiciones de viento, que se utilizan para determinar si es adecuado para jugar al tenis. Esta sección muestra cómo probar el clasificador KNN personalizado utilizando este conjunto de datos.\r\n",
    "\r\n",
    "En primer lugar, el conjunto de datos se carga en un DataFrame de pandas. Dado que KNN requiere entradas numéricas para calcular las distancias, las características categóricas (como la perspectiva, la temperatura, la humedad y el viento) deben convertirse en valores numéricos. Esto se consigue mediante un simple mapeo:\r\n",
    "\r\n",
    "El pronóstico se convierte en números: soleado = 0, nublado = 1, lluvia = 2. La temperatura se convierte en: caluroso = 1.\r\n",
    "La temperatura se convierte en: caluroso = 0, templado = 1, fresco = 2. La humedad se convierte en: alta = 0, normal = 1. El viento es una característica binaria y se convierte en un valor numérico. Viento es una característica binaria y se convierte directamente a enteros: Falso = 0, Verdadero = 1. Tras convertir estas variables categóricas en valores numéricos, el conjunto de datos se divide en dos partes:\r\n",
    "\r\n",
    "X: Contiene las características (perspectiva, temperatura, humedad y viento). y: Contiene las etiquetas objetivo (jugar al tenis: «sí» o «no»), que también se convierten en valores binarios (sí = 1, no = 0).\r\n",
    "\r\n",
    "Traducción realizada con la versión gratuita del traductor DeepL.com"
   ]
  },
  {
   "cell_type": "code",
   "execution_count": 11,
   "id": "a3fe441f-1015-4fa7-9132-f5a5ef434219",
   "metadata": {},
   "outputs": [
    {
     "data": {
      "text/html": [
       "<div>\n",
       "<style scoped>\n",
       "    .dataframe tbody tr th:only-of-type {\n",
       "        vertical-align: middle;\n",
       "    }\n",
       "\n",
       "    .dataframe tbody tr th {\n",
       "        vertical-align: top;\n",
       "    }\n",
       "\n",
       "    .dataframe thead th {\n",
       "        text-align: right;\n",
       "    }\n",
       "</style>\n",
       "<table border=\"1\" class=\"dataframe\">\n",
       "  <thead>\n",
       "    <tr style=\"text-align: right;\">\n",
       "      <th></th>\n",
       "      <th>outlook</th>\n",
       "      <th>temperature</th>\n",
       "      <th>humidity</th>\n",
       "      <th>windy</th>\n",
       "    </tr>\n",
       "  </thead>\n",
       "  <tbody>\n",
       "    <tr>\n",
       "      <th>0</th>\n",
       "      <td>0.0</td>\n",
       "      <td>0</td>\n",
       "      <td>0</td>\n",
       "      <td>0</td>\n",
       "    </tr>\n",
       "    <tr>\n",
       "      <th>1</th>\n",
       "      <td>0.0</td>\n",
       "      <td>0</td>\n",
       "      <td>0</td>\n",
       "      <td>1</td>\n",
       "    </tr>\n",
       "    <tr>\n",
       "      <th>2</th>\n",
       "      <td>1.0</td>\n",
       "      <td>0</td>\n",
       "      <td>0</td>\n",
       "      <td>0</td>\n",
       "    </tr>\n",
       "    <tr>\n",
       "      <th>3</th>\n",
       "      <td>NaN</td>\n",
       "      <td>1</td>\n",
       "      <td>0</td>\n",
       "      <td>0</td>\n",
       "    </tr>\n",
       "    <tr>\n",
       "      <th>4</th>\n",
       "      <td>NaN</td>\n",
       "      <td>2</td>\n",
       "      <td>1</td>\n",
       "      <td>0</td>\n",
       "    </tr>\n",
       "  </tbody>\n",
       "</table>\n",
       "</div>"
      ],
      "text/plain": [
       "   outlook  temperature  humidity  windy\n",
       "0      0.0            0         0      0\n",
       "1      0.0            0         0      1\n",
       "2      1.0            0         0      0\n",
       "3      NaN            1         0      0\n",
       "4      NaN            2         1      0"
      ]
     },
     "execution_count": 11,
     "metadata": {},
     "output_type": "execute_result"
    }
   ],
   "source": [
    "# Load the dataset (assumed to be uploaded or present in the local system)\n",
    "data = pd.read_csv('weather.nominal - weather.nominal.csv')\n",
    "data.head()\n",
    "\n",
    "# Convert categorical variables into numerical values for KNN\n",
    "data['outlook'] = data['outlook'].map({'sunny': 0, 'overcast': 1, 'rain': 2})\n",
    "data['temperature'] = data['temperature'].map({'hot': 0, 'mild': 1, 'cool': 2})\n",
    "data['humidity'] = data['humidity'].map({'high': 0, 'normal': 1})\n",
    "data['windy'] = data['windy'].astype(int)\n",
    "\n",
    "# Define X (features) and y (labels)\n",
    "X = data.drop(columns='play')\n",
    "y = data['play'].map({'no': 0, 'yes': 1})\n",
    "\n",
    "# Show the first transformed data\n",
    "X.head()"
   ]
  },
  {
   "cell_type": "markdown",
   "id": "25092e54-ab4d-4c4e-9def-db1eb02eb921",
   "metadata": {},
   "source": [
    "El clasificador KNN se instanciará con k=3, lo que significa que el algoritmo mirará a los 3 vecinos más cercanos para hacer predicciones. Tras inicializar el clasificador, se llama al método fit para «entrenar» (en realidad, almacenar) el modelo almacenando la matriz de características X y el vector de etiquetas y."
   ]
  },
  {
   "cell_type": "code",
   "execution_count": 14,
   "id": "58c04aa2-294b-4c2e-b68a-10251b298e0e",
   "metadata": {},
   "outputs": [],
   "source": [
    "# Instantiate the KNN classifier\n",
    "knn = KNNClassifier(k=3)\n",
    "\n",
    "# Train the classifier with the training data\n",
    "knn.fit(X, y)"
   ]
  },
  {
   "cell_type": "markdown",
   "id": "247ce69e-8964-4d73-9f3b-76b8c4d90130",
   "metadata": {},
   "source": [
    "A continuación, se crea manualmente una instancia de prueba para simular una nueva condición meteorológica. En este ejemplo, la instancia de prueba representa las siguientes condiciones:\n",
    "\n",
    "Tiempo: soleado (asignado a 0)\n",
    "Temperatura: cálida (asignada a 0)\n",
    "Humedad: normal (asignada a 1)\n",
    "Viento: Verdadero (asignado a 1)\n",
    "\n",
    "Esta instancia se pasa al método predict del clasificador, que calcula las distancias a todas las instancias de entrenamiento y determina la clase mayoritaria entre los 3 vecinos más cercanos."
   ]
  },
  {
   "cell_type": "code",
   "execution_count": 19,
   "id": "6ea46650-faf6-4251-a61a-eb88687708f4",
   "metadata": {},
   "outputs": [
    {
     "name": "stdout",
     "output_type": "stream",
     "text": [
      "Prediction for the test instance: no\n"
     ]
    }
   ],
   "source": [
    "# Create a test instance\n",
    "test_instance = pd.DataFrame([{\n",
    "    'outlook': 0,       # sunny\n",
    "    'temperature': 0,   # hot\n",
    "    'humidity': 1,      # normal\n",
    "    'windy': 1          # TRUE\n",
    "}])\n",
    "\n",
    "# Make the prediction\n",
    "prediction = knn.predict(test_instance)\n",
    "print(f\"Prediction for the test instance: {'yes' if prediction[0] == 1 else 'no'}\")"
   ]
  },
  {
   "cell_type": "markdown",
   "id": "fa4a1cce-0154-405c-b79d-39c8b2d4a198",
   "metadata": {},
   "source": [
    "#### Implementación de Scikit-learn\n",
    "La clasificación basada en vecinos es un tipo de aprendizaje basado en instancias o aprendizaje no generalizador: no intenta construir un modelo interno general, sino que simplemente almacena instancias de los datos de entrenamiento. La clasificación se calcula a partir de un simple voto mayoritario de los vecinos más cercanos de cada punto: a un punto de consulta se le asigna la clase de datos que tiene más representantes entre los vecinos más cercanos del punto.\n",
    "\n",
    "scikit-learn implementa dos clasificadores de vecinos más cercanos diferentes: KNeighborsClassifier implementa el aprendizaje basado en los k vecinos más cercanos de cada punto de consulta, donde :math:k es un valor entero especificado por el usuario. RadiusNeighborsClassifier implementa el aprendizaje basado en el número de vecinos dentro de un radio fijo r de cada punto de entrenamiento, donde r es un valor de punto flotante especificado por el usuario.\n",
    "\n",
    "La clasificación k-neighbors en KNeighborsClassifier es la técnica más utilizada. La elección óptima del valor k depende en gran medida de los datos: en general, un k mayor suprime los efectos del ruido, pero hace que los límites de la clasificación sean menos nítidos.\n",
    "\n",
    "En los casos en los que los datos no están muestreados uniformemente, la clasificación de vecinos basada en radios en RadiusNeighborsClassifier puede ser una mejor opción. El usuario especifica un radio fijo r, de forma que los puntos en vecindarios más dispersos utilizan menos vecinos más cercanos para la clasificación. Para espacios de parámetros de alta dimensión, este método se vuelve menos eficaz debido a la llamada «maldición de la dimensionalidad».\n",
    "\n",
    "La clasificación básica de vecinos más cercanos utiliza pesos uniformes: es decir, el valor asignado a un punto de consulta se calcula a partir de una votación por mayoría simple de los vecinos más cercanos. En algunas circunstancias, es mejor ponderar los vecinos de forma que los más cercanos contribuyan más al ajuste. Esto se puede conseguir mediante la palabra clave pesos. El valor por defecto, pesos = 'uniforme', asigna pesos uniformes a cada vecino. pesos = 'distancia' asigna pesos proporcionales a la inversa de la distancia desde el punto de consulta. Alternativamente, se puede proporcionar una función definida por el usuario de la distancia para calcular los pesos."
   ]
  },
  {
   "cell_type": "code",
   "execution_count": 23,
   "id": "5003d206-de28-4714-8259-7fb401a98a71",
   "metadata": {},
   "outputs": [],
   "source": [
    "from sklearn.neighbors import KNeighborsClassifier"
   ]
  },
  {
   "cell_type": "code",
   "execution_count": 25,
   "id": "22cdbd53-c438-4fc4-9713-d01a01bc15e3",
   "metadata": {},
   "outputs": [],
   "source": [
    "df = pd.read_csv(r'weather.numeric.csv')"
   ]
  },
  {
   "cell_type": "code",
   "execution_count": 27,
   "id": "94375ea9-7e92-4ce2-a2ae-bf9e62a662d7",
   "metadata": {},
   "outputs": [
    {
     "name": "stdout",
     "output_type": "stream",
     "text": [
      "    Day   Outlook  Temperature  Humidity    Wind   Play\n",
      "0     1     sunny           85        85    weak  False\n",
      "1     2     sunny           80        90  strong  False\n",
      "2     3  overcast           83        86    weak   True\n",
      "3     4      rain           70        96    weak   True\n",
      "4     5      rain           68        80    weak   True\n",
      "5     6      rain           65        70  strong  False\n",
      "6     7  overcast           64        65  strong   True\n",
      "7     8     sunny           72        95    weak  False\n",
      "8     9     sunny           69        70    weak   True\n",
      "9    10      rain           75        80    weak   True\n",
      "10   11     sunny           75        70  strong   True\n",
      "11   12  overcast           72        90  strong   True\n",
      "12   13  overcast           81        75    weak   True\n",
      "13   14      rain           71        91  strong  False\n"
     ]
    }
   ],
   "source": [
    "print (df) "
   ]
  },
  {
   "cell_type": "code",
   "execution_count": 29,
   "id": "30e01e97-7d0e-476b-8f49-b9b23be5335d",
   "metadata": {},
   "outputs": [
    {
     "name": "stdout",
     "output_type": "stream",
     "text": [
      "    Outlook  Temperature  Humidity    Wind\n",
      "0     sunny           85        85    weak\n",
      "1     sunny           80        90  strong\n",
      "2  overcast           83        86    weak\n",
      "3      rain           70        96    weak\n",
      "4      rain           68        80    weak\n",
      "    Play\n",
      "0  False\n",
      "1  False\n",
      "2   True\n",
      "3   True\n",
      "4   True\n"
     ]
    }
   ],
   "source": [
    "# defining the dependent and independent variables\n",
    "X_train = df[['Outlook', 'Temperature', 'Humidity', 'Wind']]\n",
    "y_train = df[['Play']]\n",
    "\n",
    "print(X_train.head())\n",
    "print(y_train.head())"
   ]
  },
  {
   "cell_type": "markdown",
   "id": "cdb6023f-15f3-4c47-b493-b95e16053630",
   "metadata": {},
   "source": [
    "### De categórico a numérico"
   ]
  },
  {
   "cell_type": "code",
   "execution_count": 32,
   "id": "e4ceab0a-b069-43a8-a608-d69fa1d8bab1",
   "metadata": {},
   "outputs": [
    {
     "name": "stdout",
     "output_type": "stream",
     "text": [
      "['sunny', 'sunny', 'overcast', 'rain', 'rain', 'rain', 'overcast', 'sunny', 'sunny', 'rain', 'sunny', 'overcast', 'overcast', 'rain']\n",
      "[2 2 0 1 1 1 0 2 2 1 2 0 0 1]\n",
      "['weak', 'strong', 'weak', 'weak', 'weak', 'strong', 'strong', 'weak', 'weak', 'weak', 'strong', 'strong', 'weak', 'strong']\n",
      "[1 0 1 1 1 0 0 1 1 1 0 0 1 0]\n"
     ]
    }
   ],
   "source": [
    "from sklearn.preprocessing import LabelEncoder\n",
    "encoder = LabelEncoder()\n",
    "\n",
    "outlook = X_train.iloc[:,0]\n",
    "outlook_enc = encoder.fit_transform(outlook)\n",
    "print(outlook.tolist())\n",
    "print(outlook_enc)\n",
    "\n",
    "wind = X_train.iloc[:,3]\n",
    "wind_enc = encoder.fit_transform(wind)\n",
    "print(wind.tolist())\n",
    "print(wind_enc)"
   ]
  },
  {
   "cell_type": "code",
   "execution_count": 34,
   "id": "26a87594-da00-4c20-89ab-8cf31a90ae0c",
   "metadata": {},
   "outputs": [
    {
     "name": "stdout",
     "output_type": "stream",
     "text": [
      "    Outlook  Temperature  Humidity  Wind\n",
      "0         2           85        85     2\n",
      "1         2           80        90     2\n",
      "2         0           83        86     0\n",
      "3         1           70        96     1\n",
      "4         1           68        80     1\n",
      "5         1           65        70     1\n",
      "6         0           64        65     0\n",
      "7         2           72        95     2\n",
      "8         2           69        70     2\n",
      "9         1           75        80     1\n",
      "10        2           75        70     2\n",
      "11        0           72        90     0\n",
      "12        0           81        75     0\n",
      "13        1           71        91     1\n"
     ]
    }
   ],
   "source": [
    "df_outlook = pd.DataFrame(outlook_enc, columns = ['Outlook'])\n",
    "df_wind = pd.DataFrame(outlook_enc, columns = ['Wind'])\n",
    "X_train_num = pd.concat([df_outlook, X_train.iloc[:,1], X_train.iloc[:,2], df_wind], axis=1)\n",
    "print(X_train_num)"
   ]
  },
  {
   "cell_type": "markdown",
   "id": "04e54663-9833-4014-ab5b-55ce15279de4",
   "metadata": {},
   "source": [
    "### Generación del modelo\n",
    "Classifier implementing the k-nearest neighbors vote."
   ]
  },
  {
   "cell_type": "code",
   "execution_count": 37,
   "id": "300fddf4-f1eb-4338-a9e4-aea283581a9d",
   "metadata": {},
   "outputs": [
    {
     "name": "stderr",
     "output_type": "stream",
     "text": [
      "C:\\Users\\ingeo\\anaconda3\\Lib\\site-packages\\sklearn\\neighbors\\_classification.py:238: DataConversionWarning: A column-vector y was passed when a 1d array was expected. Please change the shape of y to (n_samples,), for example using ravel().\n",
      "  return self._fit(X, y)\n"
     ]
    }
   ],
   "source": [
    "knn = KNeighborsClassifier(n_neighbors=3)\n",
    "clf = knn.fit(X_train_num, y_train)"
   ]
  },
  {
   "cell_type": "code",
   "execution_count": 39,
   "id": "ef9e0bf0-4739-400b-bb28-aa983ef97545",
   "metadata": {},
   "outputs": [
    {
     "name": "stdout",
     "output_type": "stream",
     "text": [
      "   Outlook  Temperature  Humidity  Wind\n",
      "0        2           60        65     1\n",
      "[ True]\n",
      "[[0.33333333 0.66666667]]\n"
     ]
    }
   ],
   "source": [
    "# sunny:2, hot:85, normal:65, strong:0 \n",
    "new_example = [[2, 60, 65, 1]]\n",
    "X_test = pd.DataFrame(new_example, columns = ['Outlook', 'Temperature', 'Humidity', 'Wind'])\n",
    "print(X_test)\n",
    "print(clf.predict(X_test))\n",
    "print(clf.predict_proba(X_test))"
   ]
  },
  {
   "cell_type": "code",
   "execution_count": 41,
   "id": "95b78032-3d90-4fa2-8e15-4b42fa37c693",
   "metadata": {},
   "outputs": [
    {
     "name": "stdout",
     "output_type": "stream",
     "text": [
      "    Temperature  Humidity\n",
      "0            85        85\n",
      "1            80        90\n",
      "2            83        86\n",
      "3            70        96\n",
      "4            68        80\n",
      "5            65        70\n",
      "6            64        65\n",
      "7            72        95\n",
      "8            69        70\n",
      "9            75        80\n",
      "10           75        70\n",
      "11           72        90\n",
      "12           81        75\n",
      "13           71        91\n"
     ]
    },
    {
     "name": "stderr",
     "output_type": "stream",
     "text": [
      "C:\\Users\\ingeo\\anaconda3\\Lib\\site-packages\\sklearn\\neighbors\\_classification.py:238: DataConversionWarning: A column-vector y was passed when a 1d array was expected. Please change the shape of y to (n_samples,), for example using ravel().\n",
      "  return self._fit(X, y)\n"
     ]
    },
    {
     "data": {
      "image/png": "[encoded data removed]",
      "text/plain": [
       "<Figure size 640x480 with 1 Axes>"
      ]
     },
     "metadata": {},
     "output_type": "display_data"
    }
   ],
   "source": [
    "import matplotlib.pyplot as plt\n",
    "from sklearn.inspection import DecisionBoundaryDisplay\n",
    "\n",
    "X = pd.concat([X_train_num[\"Temperature\"], X_train_num[\"Humidity\"]], axis=1)\n",
    "print(X)\n",
    "clf = knn.fit(X, y_train)\n",
    "\n",
    "disp = DecisionBoundaryDisplay.from_estimator(\n",
    "     clf, X, response_method=\"predict\",\n",
    "     xlabel=\"Temperature\", ylabel=\"Humidity\",\n",
    "     alpha=0.5,\n",
    ")\n",
    "disp.ax_.scatter(X.iloc[:, 0], X.iloc[:, 1], c=y_train.iloc[:, 0], edgecolor=\"k\")\n",
    "plt.show()"
   ]
  },
  {
   "cell_type": "code",
   "execution_count": null,
   "id": "77076c76-93ae-404a-9e8f-660ea9dd8fcc",
   "metadata": {},
   "outputs": [],
   "source": []
  }
 ],
 "metadata": {
  "kernelspec": {
   "display_name": "Python 3 (ipykernel)",
   "language": "python",
   "name": "python3"
  },
  "language_info": {
   "codemirror_mode": {
    "name": "ipython",
    "version": 3
   },
   "file_extension": ".py",
   "mimetype": "text/x-python",
   "name": "python",
   "nbconvert_exporter": "python",
   "pygments_lexer": "ipython3",
   "version": "3.12.3"
  }
 },
 "nbformat": 4,
 "nbformat_minor": 5
}
