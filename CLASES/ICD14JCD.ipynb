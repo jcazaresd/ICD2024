{
 "cells": [
  {
   "cell_type": "markdown",
   "id": "084ac4b7-ff2c-4577-96d4-d5442863f422",
   "metadata": {},
   "source": [
    "# Notebook ICD - 14\n",
    "## Importamos librarias"
   ]
  },
  {
   "cell_type": "code",
   "execution_count": 2,
   "id": "eda7483d-2698-4de3-9cd9-1578660af8a1",
   "metadata": {},
   "outputs": [],
   "source": [
    "import pandas as pd\n",
    "import numpy as np\n",
    "from collections import defaultdict, Counter"
   ]
  },
  {
   "cell_type": "markdown",
   "id": "3f723657-c67c-42be-8f23-b2ae036280b3",
   "metadata": {},
   "source": [
    "### Naive Bayes desde cero\n",
    "Esta sección implementa la clase NaiveBayesClassifier que incluye dos métodos principales: fit y predict.\n",
    "\n",
    "El método **init** inicializa las estructuras de datos que almacenarán las probabilidades a priori de cada clase (self.class_priors), así como las probabilidades condicionales de cada atributo dada una clase (self.likelihoods).\n",
    "\n",
    "El método **fit** se encarga de calcular las probabilidades a priori de las clases a partir de las frecuencias observadas en los datos de entrenamiento y, a continuación, calcula las probabilidades (probabilidades condicionales) aplicando el suavizado de Laplace para evitar valores de probabilidad cero cuando no se ha observado un valor de atributo.\n",
    "\n",
    "Por último, el método de **predict** toma instancias de prueba, calcula las probabilidades a posteriori de cada clase y asigna la clase con la probabilidad más alta a cada instancia."
   ]
  },
  {
   "cell_type": "code",
   "execution_count": 6,
   "id": "6dba68fe-2767-49cd-8e81-dda2a4a12f56",
   "metadata": {},
   "outputs": [],
   "source": [
    "class NaiveBayesClassifier:\n",
    "    def __init__(self):\n",
    "        self.class_priors = {}  # Prior probabilities of the classes\n",
    "        self.likelihoods = {}   # Conditional probabilities (likelihoods)\n",
    "        self.classes = None     # Unique classes in the dataset\n",
    "        self.features = None    # Features (attributes)\n",
    "    \n",
    "    def fit(self, X, y):\n",
    "\n",
    "        # Get the unique classes and features (attributes)\n",
    "        self.classes = np.unique(y)\n",
    "        self.features = X.columns\n",
    "        total_samples = len(y)  # Total number of training instances\n",
    "        \n",
    "        # Estimate prior probabilities (relative frequency of each class)\n",
    "        class_counts = y.value_counts().to_dict()\n",
    "        self.class_priors = {cls: (class_counts[cls] / total_samples) for cls in self.classes}\n",
    "        \n",
    "        # Initialize conditional probabilities (likelihoods)\n",
    "        self.likelihoods = {cls: {} for cls in self.classes}\n",
    "        \n",
    "        # Calculate the likelihoods (conditional probabilities) for each feature\n",
    "        for cls in self.classes:\n",
    "            X_cls = X[y == cls]  # Filter instances where the class is 'cls'\n",
    "            total_cls_samples = len(X_cls)  # Number of instances per class\n",
    "            \n",
    "            # Calculate the likelihoods for each attribute and attribute value\n",
    "            for feature in self.features:\n",
    "                feature_counts = X_cls[feature].value_counts().to_dict()  # Frequency of each attribute value\n",
    "                total_feature_values = len(X[feature].unique())  # Total number of possible attribute values\n",
    "                \n",
    "                # Apply Laplace smoothing and calculate the likelihoods\n",
    "                self.likelihoods[cls][feature] = {\n",
    "                    value: (feature_counts.get(value, 0) + 1) / (total_cls_samples + total_feature_values)\n",
    "                    for value in X[feature].unique()\n",
    "                }\n",
    "    \n",
    "    def predict(self, X_test):\n",
    "        \n",
    "        results = []\n",
    "        \n",
    "        # Iterate over each test instance\n",
    "        for _, x in X_test.iterrows():\n",
    "            class_probabilities = {}  # Store the posterior probabilities for each class\n",
    "            \n",
    "            # Calculate the posterior probability for each class\n",
    "            for cls in self.classes:\n",
    "                # Initialize with the prior probability of the class\n",
    "                prob = self.class_priors[cls]\n",
    "                \n",
    "                # Multiply by the likelihoods (conditional probabilities) of each feature\n",
    "                for feature in self.features:\n",
    "                    value = x[feature]\n",
    "                    prob *= self.likelihoods[cls][feature].get(value, 1 / (len(self.likelihoods[cls][feature]) + len(self.features)))\n",
    "                \n",
    "                # Store the calculated probability for the class\n",
    "                class_probabilities[cls] = prob\n",
    "            \n",
    "            # Select the class with the highest posterior probability\n",
    "            predicted_class = max(class_probabilities, key=class_probabilities.get)\n",
    "            results.append(predicted_class)\n",
    "        \n",
    "        return results"
   ]
  },
  {
   "cell_type": "markdown",
   "id": "c857a6aa-9f19-4e70-8190-be1bb6781f08",
   "metadata": {},
   "source": [
    "### Ejemplo de aplicación\n",
    "\n",
    "Se importará el conjunto de datos «Jugar al tenis» para construir un clasificador Naive Bayes que prediga si se va a jugar o no al tenis en función de condiciones meteorológicas como la temperatura, la humedad y el viento. Las 14 instancias disponibles servirán de base de entrenamiento para el modelo, mientras que una nueva instancia, no incluida en el entrenamiento, se utilizará para evaluar su rendimiento y generalización."
   ]
  },
  {
   "cell_type": "code",
   "execution_count": 9,
   "id": "78a00d1e-bf1d-409b-9633-176f927ffc5f",
   "metadata": {},
   "outputs": [
    {
     "name": "stdout",
     "output_type": "stream",
     "text": [
      "Prediction for the instance {'outlook': 'sunny', 'temperature': 'cool', 'humidity': 'high', 'windy': True}: no\n"
     ]
    }
   ],
   "source": [
    "data = pd.read_csv('weather.nominal - weather.nominal.csv')\n",
    "\n",
    "# Define X (features) and y (label)\n",
    "X = data.iloc[:, :-1]  # All columns except the last one\n",
    "y = data.iloc[:, -1]  # Last column (label)\n",
    "\n",
    "# Train the classifier using the Naive Bayes algorithm with the original column names\n",
    "nb_classifier = NaiveBayesClassifier()\n",
    "nb_classifier.fit(X, y)\n",
    "\n",
    "# Create the instance to test: sunny, hot, normal, TRUE\n",
    "test_instance = pd.DataFrame([{\n",
    "    'outlook': 'sunny',\n",
    "    'temperature': 'cool',\n",
    "    'humidity': 'high',\n",
    "    'windy': True\n",
    "}])\n",
    "\n",
    "# Make the prediction\n",
    "prediction = nb_classifier.predict(test_instance)\n",
    "print(f\"Prediction for the instance {test_instance.iloc[0].to_dict()}: {prediction[0]}\")"
   ]
  },
  {
   "cell_type": "markdown",
   "id": "2a409080-aa67-477c-b6bc-d8362eaf5b55",
   "metadata": {},
   "source": [
    "### Implementación de Scikit-learn\n",
    "\n",
    "El algoritmo Naive Bayes es un clasificador probabilístico sencillo y eficiente que asume la independencia condicional entre las características. Aunque esta suposición no siempre se cumple en los datos del mundo real, Naive Bayes suele funcionar extraordinariamente bien en muchas aplicaciones.\n",
    "\n",
    "#### Clasificador Naive Bayes\n",
    "\n",
    "El algoritmo Naive Bayes se basa en el Teorema de Bayes, que se expresa como:\n",
    "\n",
    "[ P(C|X) = \\frac{P(X|C)P(C)}{P(X)} ]\n",
    "\n",
    "donde\n",
    "\n",
    "(P(C|X)) representa la probabilidad posterior de la clase (C) dados los datos (X),\n",
    "(P(X|C)) es la probabilidad de los datos dada la clase (C),\n",
    "(P(C)) es la probabilidad a priori de la clase (C),\n",
    "(P(X)) es la probabilidad de los datos (que es constante para todas las clases y puede ignorarse a efectos de clasificación).\n",
    "Bayes ingenuo gaussiano\n",
    "\n",
    "En el caso del Naive Bayes gaussiano (GaussianNB), el algoritmo asume que las características siguen una distribución gaussiana (normal). La probabilidad de una característica (x_i) dada una clase (C_k) se calcula utilizando la función de densidad de probabilidad de la distribución gaussiana:\n",
    "\n",
    "[ P(x_i | C_k) = \\frac{1}{\\sqrt{2\\pi \\sigma_k^2}} \\exp\\left(-\\frac{(x_i - \\mu_k)^2}{2\\sigma_k^2}\\right) ]\n",
    "\n",
    "donde:\n",
    "\n",
    "( \\mu_k ) denota la media de la característica (x_i) para la clase (C_k),\n",
    "( \\sigma_k^2 ) es la varianza de la característica (x_i) para la clase (C_k),\n",
    "( x_i ) representa el valor de la característica para la instancia dada.\n",
    "\n",
    "### Biblioteca"
   ]
  },
  {
   "cell_type": "code",
   "execution_count": 12,
   "id": "88ce2b89-5e16-4d50-bc7b-6ece223a36f0",
   "metadata": {},
   "outputs": [],
   "source": [
    "from sklearn.naive_bayes import GaussianNB"
   ]
  },
  {
   "cell_type": "markdown",
   "id": "5f00bf91-a837-4ddd-bf85-474cb9f5f545",
   "metadata": {},
   "source": [
    "### Datos"
   ]
  },
  {
   "cell_type": "code",
   "execution_count": 16,
   "id": "a5935a8e-3b11-40e0-85eb-a7c7f2b53f1e",
   "metadata": {},
   "outputs": [],
   "source": [
    "df = pd.read_csv(r'weather.numeric.csv')"
   ]
  },
  {
   "cell_type": "code",
   "execution_count": 19,
   "id": "16bc1729-c834-4ded-9f44-1d246cf6ad22",
   "metadata": {},
   "outputs": [
    {
     "name": "stdout",
     "output_type": "stream",
     "text": [
      "    Day   Outlook  Temperature  Humidity    Wind   Play\n",
      "0     1     sunny           85        85    weak  False\n",
      "1     2     sunny           80        90  strong  False\n",
      "2     3  overcast           83        86    weak   True\n",
      "3     4      rain           70        96    weak   True\n",
      "4     5      rain           68        80    weak   True\n",
      "5     6      rain           65        70  strong  False\n",
      "6     7  overcast           64        65  strong   True\n",
      "7     8     sunny           72        95    weak  False\n",
      "8     9     sunny           69        70    weak   True\n",
      "9    10      rain           75        80    weak   True\n",
      "10   11     sunny           75        70  strong   True\n",
      "11   12  overcast           72        90  strong   True\n",
      "12   13  overcast           81        75    weak   True\n",
      "13   14      rain           71        91  strong  False\n"
     ]
    }
   ],
   "source": [
    "print (df) "
   ]
  },
  {
   "cell_type": "code",
   "execution_count": 21,
   "id": "e800130c-cf7f-4b0d-a424-52b978e14afe",
   "metadata": {},
   "outputs": [
    {
     "name": "stdout",
     "output_type": "stream",
     "text": [
      "    Outlook  Temperature  Humidity    Wind\n",
      "0     sunny           85        85    weak\n",
      "1     sunny           80        90  strong\n",
      "2  overcast           83        86    weak\n",
      "3      rain           70        96    weak\n",
      "4      rain           68        80    weak\n",
      "    Play\n",
      "0  False\n",
      "1  False\n",
      "2   True\n",
      "3   True\n",
      "4   True\n"
     ]
    }
   ],
   "source": [
    "# defining the dependent and independent variables\n",
    "X_train = df[['Outlook', 'Temperature', 'Humidity', 'Wind']]\n",
    "y_train = df[['Play']]\n",
    "\n",
    "print(X_train.head())\n",
    "print(y_train.head())"
   ]
  },
  {
   "cell_type": "markdown",
   "id": "cc248f29-06c1-4c1a-8622-5ed5bae4bb85",
   "metadata": {},
   "source": [
    "### From categorical to numeric"
   ]
  },
  {
   "cell_type": "code",
   "execution_count": 24,
   "id": "953ce223-13fa-4e38-bcbb-baa988223801",
   "metadata": {},
   "outputs": [
    {
     "name": "stdout",
     "output_type": "stream",
     "text": [
      "['sunny', 'sunny', 'overcast', 'rain', 'rain', 'rain', 'overcast', 'sunny', 'sunny', 'rain', 'sunny', 'overcast', 'overcast', 'rain']\n",
      "[2 2 0 1 1 1 0 2 2 1 2 0 0 1]\n",
      "['weak', 'strong', 'weak', 'weak', 'weak', 'strong', 'strong', 'weak', 'weak', 'weak', 'strong', 'strong', 'weak', 'strong']\n",
      "[1 0 1 1 1 0 0 1 1 1 0 0 1 0]\n"
     ]
    }
   ],
   "source": [
    "from sklearn.preprocessing import LabelEncoder\n",
    "encoder = LabelEncoder()\n",
    "\n",
    "outlook = X_train.iloc[:,0]\n",
    "outlook_enc = encoder.fit_transform(outlook)\n",
    "print(outlook.tolist())\n",
    "print(outlook_enc)\n",
    "\n",
    "wind = X_train.iloc[:,3]\n",
    "wind_enc = encoder.fit_transform(wind)\n",
    "print(wind.tolist())\n",
    "print(wind_enc)"
   ]
  },
  {
   "cell_type": "code",
   "execution_count": 26,
   "id": "e986e38b-4f41-4047-a3b6-f0866f5160ce",
   "metadata": {},
   "outputs": [
    {
     "name": "stdout",
     "output_type": "stream",
     "text": [
      "    Outlook  Temperature  Humidity  Wind\n",
      "0         2           85        85     2\n",
      "1         2           80        90     2\n",
      "2         0           83        86     0\n",
      "3         1           70        96     1\n",
      "4         1           68        80     1\n",
      "5         1           65        70     1\n",
      "6         0           64        65     0\n",
      "7         2           72        95     2\n",
      "8         2           69        70     2\n",
      "9         1           75        80     1\n",
      "10        2           75        70     2\n",
      "11        0           72        90     0\n",
      "12        0           81        75     0\n",
      "13        1           71        91     1\n"
     ]
    }
   ],
   "source": [
    "df_outlook = pd.DataFrame(outlook_enc, columns = ['Outlook'])\n",
    "df_wind = pd.DataFrame(outlook_enc, columns = ['Wind'])\n",
    "X_train_num = pd.concat([df_outlook, X_train.iloc[:,1], X_train.iloc[:,2], df_wind], axis=1)\n",
    "print(X_train_num)"
   ]
  },
  {
   "cell_type": "markdown",
   "id": "d6bb428f-d192-4d4d-9c76-ac8597f505fc",
   "metadata": {},
   "source": [
    "### Generación del modelo\n",
    "Gaussian Naive Bayes. GaussianNB implements the Gaussian Naive Bayes algorithm for classification. The likelihood of the features is assumed to be Gaussian."
   ]
  },
  {
   "cell_type": "code",
   "execution_count": 29,
   "id": "47630b1d-c2e8-4ae2-b743-3f7b5964b44b",
   "metadata": {},
   "outputs": [
    {
     "name": "stderr",
     "output_type": "stream",
     "text": [
      "C:\\Users\\ingeo\\anaconda3\\Lib\\site-packages\\sklearn\\utils\\validation.py:1339: DataConversionWarning: A column-vector y was passed when a 1d array was expected. Please change the shape of y to (n_samples, ), for example using ravel().\n",
      "  y = column_or_1d(y, warn=True)\n"
     ]
    }
   ],
   "source": [
    "clf = GaussianNB().fit(X_train_num, y_train)"
   ]
  },
  {
   "cell_type": "markdown",
   "id": "c848d00f-0bf5-40ff-9bc4-ec41fc2b8eca",
   "metadata": {},
   "source": [
    "# Evaluación"
   ]
  },
  {
   "cell_type": "code",
   "execution_count": 32,
   "id": "b74b9389-b5b8-48ad-838a-8d34c874f9d8",
   "metadata": {},
   "outputs": [
    {
     "name": "stdout",
     "output_type": "stream",
     "text": [
      "   Outlook  Temperature  Humidity  Wind\n",
      "0        2           60        65     1\n"
     ]
    },
    {
     "data": {
      "text/plain": [
       "array([ True])"
      ]
     },
     "execution_count": 32,
     "metadata": {},
     "output_type": "execute_result"
    }
   ],
   "source": [
    "# sunny:2, hot:85, normal:65, strong:0 \n",
    "new_example = [[2, 60, 65, 1]]\n",
    "X_test = pd.DataFrame(new_example, columns = ['Outlook', 'Temperature', 'Humidity', 'Wind'])\n",
    "print(X_test)\n",
    "clf.predict(X_test)"
   ]
  },
  {
   "cell_type": "code",
   "execution_count": null,
   "id": "e18e2e92-69fa-4128-8685-7ee1fc8867e3",
   "metadata": {},
   "outputs": [],
   "source": []
  }
 ],
 "metadata": {
  "kernelspec": {
   "display_name": "Python 3 (ipykernel)",
   "language": "python",
   "name": "python3"
  },
  "language_info": {
   "codemirror_mode": {
    "name": "ipython",
    "version": 3
   },
   "file_extension": ".py",
   "mimetype": "text/x-python",
   "name": "python",
   "nbconvert_exporter": "python",
   "pygments_lexer": "ipython3",
   "version": "3.12.4"
  }
 },
 "nbformat": 4,
 "nbformat_minor": 5
}
