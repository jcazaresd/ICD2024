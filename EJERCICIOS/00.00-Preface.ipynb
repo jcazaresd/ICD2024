{
 "cells": [
  {
   "cell_type": "markdown",
   "id": "ae9c5527-0d6a-4724-b554-55c533a7631e",
   "metadata": {},
   "source": [
    "# **Preface**"
   ]
  },
  {
   "cell_type": "markdown",
   "id": "9fed7467-2bd4-43ba-ba36-4e628a74dc9c",
   "metadata": {},
   "source": [
    "## What is Data Science"
   ]
  },
  {
   "cell_type": "markdown",
   "id": "6355d806-e574-436e-83d0-deeac74cf268",
   "metadata": {},
   "source": [
    "This is a book about doing data science with Python, which immediately begs the\r\n",
    "question: what is data science? It’s a surprisingly hard definition to nail down, espe‐\r\n",
    "cially given how ubiquitous the term has become. Vocal critics have variously dis‐\r\n",
    "missed it as a superfluous label (after all, what science doesn’t involve data?) or a\r\n",
    "simple buzzword that only exists to salt resumes and catch the eye of overzealous tech\r\n",
    "recruiters."
   ]
  },
  {
   "cell_type": "markdown",
   "id": "9f4fc9b5-9891-40f5-8ba2-8954fd7e4f21",
   "metadata": {},
   "source": [
    "In my mind, these critiques miss something important. Data science, despite its hype-laden veneer, is perhaps the best label we have for the cross-disciplinary set of skills that are becoming increasingly important in many applications across industry and academia. This cross-disciplinary piece is key: in my mind, the best existing definition of data science is illustrated by Drew Conway's Data Science Venn Diagram, first published on his blog in September 2010 (see the following figure)."
   ]
  },
  {
   "cell_type": "markdown",
   "id": "8331cd0b-f509-4ca6-afff-0deb7075ce42",
   "metadata": {},
   "source": [
    "![Data Science Venn Diagram](https://miro.medium.com/v2/resize:fit:1400/format:webp/1*jE_M7C9YZhe17OMq8FxVGA.png)"
   ]
  },
  {
   "cell_type": "markdown",
   "id": "cb09e1e3-40eb-4252-badc-facb363c297a",
   "metadata": {},
   "source": [
    "Figure P-1. Drew Conway’s Data Science Venn Diagram (source: [Drew Conway](http://drewconway.com/zia/2013/3/26/the-data-science-venn-diagram), used with permission)"
   ]
  },
  {
   "cell_type": "markdown",
   "id": "55246c0f-ddb8-4329-a3bd-9e102368006f",
   "metadata": {},
   "source": [
    "While some of the intersection labels are a bit tongue-in-cheek, this diagram captures the essence of what I think people mean when they say “data science”: it is fundamen‐ tally an interdisciplinary subject. Data science comprises three distinct and overlap‐ ping areas: the skills of a statistician who knows how to model and summarize datasets (which are growing ever larger); the skills of a computer scientist who can design and use algorithms to efficiently store, process, and visualize this data; and the domain expertise—what we might think of as “classical” training in a subject—neces‐ sary both to formulate the right questions and to put their answers in context."
   ]
  },
  {
   "cell_type": "markdown",
   "id": "32ea90da-5dad-400b-b422-9e502c96c31e",
   "metadata": {},
   "source": [
    "While some of the intersection labels are a bit tongue-in-cheek, this diagram captures the essence of what I think people mean when they say “data science”: it is fundamen‐ tally an interdisciplinary subject. Data science comprises three distinct and overlap‐ ping areas: the skills of a statistician who knows how to model and summarize datasets (which are growing ever larger); the skills of a computer scientist who can design and use algorithms to efficiently store, process, and visualize this data; and the domain expertise—what we might think of as “classical” training in a subject—neces‐ sary both to formulate the right questions and to put their answers in context."
   ]
  },
  {
   "cell_type": "markdown",
   "id": "2f78130a-f373-461f-a0f0-537449ec3532",
   "metadata": {},
   "source": [
    "With this in mind, I would encourage you to think of data science not as a new domain of knowledge to learn, but a new set of skills that you can apply within your current area of expertise. Whether you are reporting election results, forecasting stock returns, optimizing online ad clicks, identifying microorganisms in microscope photos, seeking new classes of astronomical objects, or working with data in any xix other field, the goal of this book is to give you the ability to ask and answer new ques‐ tions about your chosen subject area."
   ]
  },
  {
   "cell_type": "markdown",
   "id": "c34d5ce3-ade0-4c5b-a813-43f175d62420",
   "metadata": {},
   "source": [
    "## Who Is This Book For?"
   ]
  },
  {
   "cell_type": "markdown",
   "id": "f8ca2b2f-cd03-48fa-a341-196276370ba2",
   "metadata": {},
   "source": [
    "In my teaching both at the University of Washington and at various tech-focused conferences and meetups, one of the most common questions I have heard is this: “How should I learn Python?” The people asking are generally technically minded students, developers, or researchers, often with an already strong background in writ‐ ing code and using computational and numerical tools. Most of these folks don’t want to learn Python per se, but want to learn the language with the aim of using it as a tool for data-intensive and computational science. While a large patchwork of videos, blog posts, and tutorials for this audience is available online, I’ve long been frustrated by the lack of a single good answer to this question; that is what inspired this book."
   ]
  },
  {
   "cell_type": "markdown",
   "id": "8c02b98b-e588-4b29-b90e-ddfe8faa9515",
   "metadata": {},
   "source": [
    "The book is not meant to be an introduction to Python or to programming in gen‐ eral; I assume the reader has familiarity with the Python language, including defining functions, assigning variables, calling methods of objects, controlling the flow of a program, and other basic tasks. Instead, it is meant to help Python users learn to use Python’s data science stack—libraries such as those mentioned in the following sec‐ tion, and related tools—to effectively store, manipulate, and gain insight from data."
   ]
  },
  {
   "cell_type": "markdown",
   "id": "bba46b87-9c08-4b72-b75f-4bf166728225",
   "metadata": {},
   "source": [
    "## Why Python?"
   ]
  },
  {
   "cell_type": "markdown",
   "id": "8114ec24-4756-4d58-88e5-9b5758168aa2",
   "metadata": {},
   "source": [
    "Python has emerged over the past couple of decades as a first-class tool for scientific computing tasks, including the analysis and visualization of large datasets. This may have come as a surprise to early proponents of the Python language: the language itself was not specifically designed with data analysis or scientific computing in mind. The usefulness of Python for data science stems primarily from the large and active ecosystem of third-party packages: NumPy for manipulation of homogeneous array- based data, Pandas for manipulation of heterogeneous and labeled data, SciPy for common scientific computing tasks, Matplotlib for publication-quality visualizations, IPython for interactive execution and sharing of code, Scikit-Learn for machine learn‐ ing, and many more tools that will be mentioned in the following pages."
   ]
  },
  {
   "cell_type": "markdown",
   "id": "1c69cafc-dd6e-4454-8889-b238847148fa",
   "metadata": {},
   "source": [
    "If you are looking for a guide to the Python language itself, I would suggest the sister project to this book, [A Whirlwind Tour of Python](https://www.google.com/url?q=https://oreil.ly/jFtWj&sa=D&source=apps-viewer-frontend&ust=1725092693079861&usg=AOvVaw2xQFAAwrnQJ-MdnQUtvZ6Y&hl=es). This short report provides a tour of the essential features of the Python language, aimed at data scientists who are already familiar with one or more other programming languages."
   ]
  },
  {
   "cell_type": "markdown",
   "id": "764ebc39-ce1f-4e3b-922e-48852b712293",
   "metadata": {},
   "source": [
    "## Outline of the Book"
   ]
  },
  {
   "cell_type": "markdown",
   "id": "d8178360-3702-4b0b-9c06-f33f88497f44",
   "metadata": {},
   "source": [
    "Each numbered part of this book focuses on a particular package or tool that contributes a fundamental piece of the Python data science story, and is broken into short self-contained chapters that each discuss a single concept:"
   ]
  },
  {
   "cell_type": "markdown",
   "id": "bdd409d1-d5b6-4012-a3fa-1b3cdee96c48",
   "metadata": {},
   "source": [
    "* Part I, Jupyter: Beyond Normal Python, introduces IPython and Jupyter. These packages provide the computational environment in which many Python-using data scientists work.\n",
    "* Part II, Introduction to NumPy, focuses on the NumPy library, which provides the ndarray for efficient storage and manipulation of dense data arrays in Python.\n",
    "* Part III, Data Manipulation with Pandas, introduces the Pandas library, which provides the DataFrame for efficient storage and manipulation of labeled/columnar data in Python.\n",
    "* Part IV, Visualization with Matplotlib, concentrates on Matplotlib, a library that provides capabilities for a flexible range of data visualizations in Python.\n",
    "* Part V, Machine Learning, focuses on the Scikit-Learn library, which provides efficient and clean Python implementations of the most important and established machine learning algorithms."
   ]
  },
  {
   "cell_type": "markdown",
   "id": "896b9793-6aa4-44e1-8d14-18818d33b7d9",
   "metadata": {},
   "source": [
    "The PyData world is certainly much larger than these six packages, and is growing every day. With this in mind, I make every attempt throughout this book to provide references to other interesting efforts, projects, and packages that are pushing the boundaries of what can be done in Python. Nevertheless, the packages I concentrate on are currently fundamental to much of the work being done in the Python data science space, and I expect they will remain important even as the ecosystem continues growing around them."
   ]
  },
  {
   "cell_type": "markdown",
   "id": "35e0f05b-1623-484f-bbac-71de172c7cbb",
   "metadata": {},
   "source": [
    "## Using Code Examples"
   ]
  },
  {
   "cell_type": "markdown",
   "id": "50befced-9322-41ce-b52b-2424a4eb58e8",
   "metadata": {},
   "source": [
    "Supplemental material (code examples, figures, etc.) is available for download at http://github.com/jakevdp/PythonDataScienceHandbook/. This book is here to help you get your job done. In general, if example code is offered with this book, you may use it in your programs and documentation. You do not need to contact us for permission unless you’re reproducing a significant portion of the code. For example, writing a program that uses several chunks of code from this book does not require permission. Selling or distributing a CD-ROM of examples from O’Reilly books does require permission. Answering a question by citing this book and quoting example code does not require permission. Incorporating a significant amount of example code from this book into your product’s documentation does require permission.\n",
    "\n",
    "We appreciate, but do not require, attribution. An attribution usually includes the title, author, publisher, and ISBN. For example: \"Python Data Science Handbook, 2nd edition, by Jake VanderPlas (O’Reilly). Copyright 2023 Jake VanderPlas, 978-1-098-12122-8.\"\n",
    "\n",
    "If you feel your use of code examples falls outside fair use or the permission given above, feel free to contact us at permissions@oreilly.com."
   ]
  },
  {
   "cell_type": "markdown",
   "id": "767385c7-3c14-4122-b78f-614bb0d8ae79",
   "metadata": {},
   "source": [
    "## Instalation Consideratios"
   ]
  },
  {
   "cell_type": "markdown",
   "id": "bfdeec7d-ccef-4640-baf5-2e59659976d8",
   "metadata": {},
   "source": [
    "Installing Python and the suite of libraries that enable scientific computing is straightforward. This section will outline some of the things to keep in mind when setting up your computer.\n",
    "\n",
    "Though there are various ways to install Python, the one I would suggest for use in data science is the Anaconda distribution, which works similarly whether you use Windows, Linux, or macOS. The Anaconda distribution comes in two flavors:\n",
    "\n",
    "* [Miniconda](http://conda.pydata.org/miniconda.html) gives you the Python interpreter itself, along with a command-line tool called conda which operates as a cross-platform package manager geared toward Python packages, similar in spirit to the apt or yum tools that Linux users might be familiar with.\n",
    "\n",
    "* [Anaconda](https://www.continuum.io/downloads) includes both Python and conda, and additionally bundles a suite of other preinstalled packages geared toward scientific computing. Because of the size of this bundle, expect the installation to consume several gigabytes of disk space.\n",
    "\n",
    "Any of the packages included with Anaconda can also be installed manually on top of Miniconda; for this reason I suggest starting with Miniconda.\n",
    "\n",
    "To get started, download and install the Miniconda package—make sure to choose a version with Python 3—and then install the core packages used in this book:\n",
    "\n",
    "    [~]$ conda install numpy pandas scikit-learn matplotlib seaborn jupyter\n",
    "\n",
    "Throughout the text, we will also make use of other more specialized tools in Python's scientific ecosystem; installation is usually as easy as typing conda install packagename. If you ever come across packages that are not available in the default conda channel, be sure to check out [conda-forge](https://conda-forge.org/), a broad, community-driven repository of conda packages.\n",
    "\n",
    "For more information on conda, including information about creating and using conda environments (which I would highly recommend), refer to [conda's online documentation](http://conda.pydata.org/docs/)."
   ]
  },
  {
   "cell_type": "code",
   "execution_count": null,
   "id": "f41a614b-a9c2-43db-a707-00051b6064fc",
   "metadata": {},
   "outputs": [],
   "source": []
  }
 ],
 "metadata": {
  "kernelspec": {
   "display_name": "Python 3 (ipykernel)",
   "language": "python",
   "name": "python3"
  },
  "language_info": {
   "codemirror_mode": {
    "name": "ipython",
    "version": 3
   },
   "file_extension": ".py",
   "mimetype": "text/x-python",
   "name": "python",
   "nbconvert_exporter": "python",
   "pygments_lexer": "ipython3",
   "version": "3.12.4"
  }
 },
 "nbformat": 4,
 "nbformat_minor": 5
}
