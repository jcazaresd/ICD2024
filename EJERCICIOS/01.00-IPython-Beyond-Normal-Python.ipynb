{
 "cells": [
  {
   "cell_type": "markdown",
   "id": "a77f17f2-984f-4228-8fc8-f4e23fd7fe40",
   "metadata": {},
   "source": [
    "## Jupyter: Beyond Normal Python "
   ]
  },
  {
   "cell_type": "markdown",
   "id": "7920c42d-456a-4bfb-b8a2-bb14981cb462",
   "metadata": {},
   "source": [
    "There are many options for development environments for Python, and I'm often asked which one I use in my own work. My answer sometimes surprises people: my preferred environment is [IPython](http://ipython.org/) plus a text editor (in my case, Emacs or VSCode depending on my mood). Jupyter got its start as the IPython shell, which was created in 2001 by Fernando Perez as an enhanced Python interpreter and has since grown into a project aiming to provide, in Perez's words, \"Tools for the entire life cycle of research computing.\" If Python is the engine of our data science task, you might think of Jupyter as the interactive control panel. \n",
    "\n",
    "As well as being a useful interactive interface to Python, Jupyter also provides a number of useful syntactic additions to the language; we'll cover the most useful of these additions here. Perhaps the most familiar interface provided by the Jupyter project is the Jupyter Notebook, a browser-based environment that is useful for development, collaboration, sharing, and even publication of data science results. As an example of the usefulness of the notebook format, look no further than the page you are reading: the entire manuscript for this book was composed as a set of Jupyter notebooks. \n",
    "\n",
    "This part of the book will start by stepping through some of the Jupyter and IPython features that are useful to the practice of data science, focusing especially on the syntax they offer beyond the standard features of Python. Next, we will go into a bit more depth on some of the more useful magic commands that can speed up common tasks in creating and using data science code. Finally, we will touch on some of the features of the notebook that make it useful for understanding data and sharing results."
   ]
  },
  {
   "cell_type": "code",
   "execution_count": null,
   "id": "dec54327-f24a-49b9-8990-6991c2007ebc",
   "metadata": {},
   "outputs": [],
   "source": []
  }
 ],
 "metadata": {
  "kernelspec": {
   "display_name": "Python 3 (ipykernel)",
   "language": "python",
   "name": "python3"
  },
  "language_info": {
   "codemirror_mode": {
    "name": "ipython",
    "version": 3
   },
   "file_extension": ".py",
   "mimetype": "text/x-python",
   "name": "python",
   "nbconvert_exporter": "python",
   "pygments_lexer": "ipython3",
   "version": "3.12.4"
  }
 },
 "nbformat": 4,
 "nbformat_minor": 5
}
