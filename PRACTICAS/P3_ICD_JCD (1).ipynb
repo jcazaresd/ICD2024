{
  "cells": [
    {
      "cell_type": "markdown",
      "metadata": {
        "id": "eC2nkjBplKcm"
      },
      "source": [
        "<div style=\"background-color: #080930; color: #ffff; padding: 15px; border-radius: 15px; text-align:center\">\n",
        "  <h2>PRÁCTICA 3</h2>\n",
        "</div>"
      ]
    },
    {
      "cell_type": "markdown",
      "metadata": {
        "id": "veuFLgkc-cwJ"
      },
      "source": [
        "# Reto de clasificación y predicción\n",
        "El presente reto consiste en la elaboración de un modelo de clasificación que sea capaz de asignar un conjuntos de valores dados a sus respectiva variable. Además el modelo debe ser capáz de predecir el valor de una variable (Retraso en la llegada) con los datos que se tienen.  "
      ]
    },
    {
      "cell_type": "markdown",
      "metadata": {
        "id": "DgYyP25i_sV_"
      },
      "source": [
        "## 1. Análisis exploratorio"
      ]
    },
    {
      "cell_type": "markdown",
      "metadata": {
        "id": "3tR0lJxu_euT"
      },
      "source": [
        "Inicialmente, se importan las librerías que permitirán un análisis exploratorio detallado de las variables contenidas en la base de datos"
      ]
    },
    {
      "cell_type": "code",
      "execution_count": null,
      "metadata": {
        "id": "KuhAX0KP-cR0"
      },
      "outputs": [],
      "source": [
        "import numpy as np\n",
        "import pandas as pd\n",
        "import matplotlib.pyplot as plt\n",
        "import seaborn as sns\n",
        "import geopandas as gpd\n",
        "import sklearn as sk"
      ]
    },
    {
      "cell_type": "code",
      "execution_count": null,
      "metadata": {
        "colab": {
          "base_uri": "https://localhost:8080/"
        },
        "id": "u5DLAO7s-WpI",
        "outputId": "7d3a7549-7b12-4777-d106-9e51314aab22"
      },
      "outputs": [
        {
          "name": "stdout",
          "output_type": "stream",
          "text": [
            "Mounted at /content/drive\n"
          ]
        }
      ],
      "source": [
        "from google.colab import drive\n",
        "drive.mount('/content/drive')"
      ]
    },
    {
      "cell_type": "code",
      "execution_count": null,
      "metadata": {
        "id": "_NkS4RFgB-0S"
      },
      "outputs": [],
      "source": [
        "df = pd.read_csv('/content/drive/My Drive/train_airlines_delay_challenge (1).csv')"
      ]
    },
    {
      "cell_type": "markdown",
      "metadata": {
        "id": "JBFOzpQKCpg-"
      },
      "source": [
        "#### Vista incial de la base de datos\n",
        "Una vez importadas las librerías y la base de datos, se continúa con la visualiazión general de los componentes de esta."
      ]
    },
    {
      "cell_type": "code",
      "execution_count": null,
      "metadata": {
        "colab": {
          "base_uri": "https://localhost:8080/"
        },
        "id": "hmLOqXrQCoNu",
        "outputId": "76814193-0c3b-47db-a5df-a54b127e9896"
      },
      "outputs": [
        {
          "name": "stdout",
          "output_type": "stream",
          "text": [
            "      FL_DATE OP_CARRIER  OP_CARRIER_FL_NUM ORIGIN DEST  CRS_DEP_TIME  \\\n",
            "0  2009-09-05         AA               2062    MIA  BOS        1055.0   \n",
            "1  2009-05-08         XE               2926    IAH  ELP        2115.0   \n",
            "2  2009-03-16         OH               6433    CVG  DSM        1430.0   \n",
            "3  2009-03-04         OO               5439    LAX  SBA         820.0   \n",
            "4  2009-06-12         WN                615    LAS  MCI        1235.0   \n",
            "\n",
            "   DEP_TIME  DEP_DELAY  TAXI_OUT  WHEELS_OFF  CRS_ARR_TIME  ARR_DELAY  \\\n",
            "0    1139.0       44.0      15.0      1154.0        1405.0       30.0   \n",
            "1    2112.0       -3.0      17.0      2129.0        2219.0      -15.0   \n",
            "2    1425.0       -5.0      25.0      1450.0        1518.0        7.0   \n",
            "3     814.0       -6.0      15.0       829.0         905.0      -11.0   \n",
            "4    1234.0       -1.0      13.0      1247.0        1735.0      -26.0   \n",
            "\n",
            "   CRS_ELAPSED_TIME  DISTANCE  \n",
            "0             190.0    1258.0  \n",
            "1             124.0     667.0  \n",
            "2             108.0     505.0  \n",
            "3              45.0      89.0  \n",
            "4             180.0    1140.0  \n"
          ]
        }
      ],
      "source": [
        "print (df.head())"
      ]
    },
    {
      "cell_type": "markdown",
      "metadata": {
        "id": "9zryorATlqYY"
      },
      "source": [
        "#### Conteos en las variables que componen la base de datos"
      ]
    },
    {
      "cell_type": "code",
      "execution_count": null,
      "metadata": {
        "colab": {
          "base_uri": "https://localhost:8080/"
        },
        "id": "GYfIt-o3DD_S",
        "outputId": "59cd34f6-d754-4429-9c7b-ce9958a0220d"
      },
      "outputs": [
        {
          "name": "stdout",
          "output_type": "stream",
          "text": [
            "                     Total  Con valor  Valor 0\n",
            "FL_DATE            9000000    9000000        0\n",
            "OP_CARRIER         9000000    9000000        0\n",
            "OP_CARRIER_FL_NUM  9000000    9000000        0\n",
            "ORIGIN             9000000    9000000        0\n",
            "DEST               9000000    9000000        0\n",
            "CRS_DEP_TIME       9000000    9000000        0\n",
            "DEP_TIME           9000000    9000000        0\n",
            "DEP_DELAY          9000000    9000000   547973\n",
            "TAXI_OUT           9000000    9000000        0\n",
            "WHEELS_OFF         9000000    9000000        0\n",
            "CRS_ARR_TIME       9000000    9000000        0\n",
            "ARR_DELAY          9000000    9000000   211818\n",
            "CRS_ELAPSED_TIME   9000000    9000000        0\n",
            "DISTANCE           9000000    9000000        0\n"
          ]
        }
      ],
      "source": [
        "total = len(df)\n",
        "conteos = df.notna().sum()\n",
        "ceros = (df == 0).sum()\n",
        "resultado = pd.DataFrame({\n",
        "    'Total': total,\n",
        "    'Con valor': conteos,\n",
        "    'Valor 0': ceros\n",
        "})\n",
        "print(resultado)"
      ]
    },
    {
      "cell_type": "code",
      "execution_count": null,
      "metadata": {
        "colab": {
          "base_uri": "https://localhost:8080/"
        },
        "id": "DpDmwTevKW7Z",
        "outputId": "884bc3f5-91e7-4928-e105-2d3d404f7bb4"
      },
      "outputs": [
        {
          "name": "stdout",
          "output_type": "stream",
          "text": [
            "            FL_DATE OP_CARRIER  OP_CARRIER_FL_NUM ORIGIN DEST  CRS_DEP_TIME  \\\n",
            "13       2009-09-18         UA                402    MCI  ORD        1450.0   \n",
            "37       2009-09-12         UA                650    ORD  IAD        2145.0   \n",
            "89       2009-09-30         WN               2040    ORF  BWI        1430.0   \n",
            "105      2009-09-07         OH               6615    JFK  PIT         820.0   \n",
            "150      2009-09-27         WN                 26    CRP  HOU        1145.0   \n",
            "...             ...        ...                ...    ...  ...           ...   \n",
            "2999736  2011-06-06         EV               5546    GSP  ATL        1523.0   \n",
            "2999737  2011-06-12         WN               3296    STL  PHX         810.0   \n",
            "2999852  2011-06-12         AA               2255    OMA  DFW        1900.0   \n",
            "2999887  2011-06-11         WN               3994    LAS  SMF        1040.0   \n",
            "2999950  2011-06-27         WN               3154    MCO  MHT        2030.0   \n",
            "\n",
            "         DEP_TIME  DEP_DELAY  TAXI_OUT  WHEELS_OFF  CRS_ARR_TIME  ARR_DELAY  \\\n",
            "13         1446.0       -4.0      22.0      1508.0        1615.0        4.0   \n",
            "37         2138.0       -7.0      11.0      2149.0          29.0      -21.0   \n",
            "89         1431.0        1.0      12.0      1443.0        1525.0       -1.0   \n",
            "105         820.0        0.0      16.0       836.0        1012.0      -25.0   \n",
            "150        1145.0        0.0      10.0      1155.0        1235.0        1.0   \n",
            "...           ...        ...       ...         ...           ...        ...   \n",
            "2999736    1520.0       -3.0      10.0      1530.0        1625.0       -8.0   \n",
            "2999737     810.0        0.0      11.0       821.0         930.0       -1.0   \n",
            "2999852    1856.0       -4.0      12.0      1908.0        2045.0       -9.0   \n",
            "2999887    1040.0        0.0      11.0      1051.0        1210.0      -12.0   \n",
            "2999950    2027.0       -3.0       8.0      2035.0        2325.0      -10.0   \n",
            "\n",
            "         CRS_ELAPSED_TIME  DISTANCE  \n",
            "13                   85.0     403.0  \n",
            "37                  104.0     589.0  \n",
            "89                   55.0     159.0  \n",
            "105                 112.0     340.0  \n",
            "150                  50.0     187.0  \n",
            "...                   ...       ...  \n",
            "2999736              62.0     153.0  \n",
            "2999737             200.0    1262.0  \n",
            "2999852             105.0     583.0  \n",
            "2999887              90.0     397.0  \n",
            "2999950             175.0    1142.0  \n",
            "\n",
            "[55044 rows x 14 columns]\n"
          ]
        }
      ],
      "source": [
        "duplicados = df[df.duplicated(keep=False)]\n",
        "\n",
        "print (duplicados)"
      ]
    },
    {
      "cell_type": "code",
      "execution_count": null,
      "metadata": {
        "colab": {
          "base_uri": "https://localhost:8080/",
          "height": 489
        },
        "id": "1y_ISUofVfk8",
        "outputId": "b73d707e-af60-4875-8e60-4d473d14d2cc"
      },
      "outputs": [
        {
          "data": {
            "text/html": [
              "<div>\n",
              "<style scoped>\n",
              "    .dataframe tbody tr th:only-of-type {\n",
              "        vertical-align: middle;\n",
              "    }\n",
              "\n",
              "    .dataframe tbody tr th {\n",
              "        vertical-align: top;\n",
              "    }\n",
              "\n",
              "    .dataframe thead th {\n",
              "        text-align: right;\n",
              "    }\n",
              "</style>\n",
              "<table border=\"1\" class=\"dataframe\">\n",
              "  <thead>\n",
              "    <tr style=\"text-align: right;\">\n",
              "      <th></th>\n",
              "      <th>count</th>\n",
              "    </tr>\n",
              "    <tr>\n",
              "      <th>OP_CARRIER_FL_NUM</th>\n",
              "      <th></th>\n",
              "    </tr>\n",
              "  </thead>\n",
              "  <tbody>\n",
              "    <tr>\n",
              "      <th>16</th>\n",
              "      <td>5326</td>\n",
              "    </tr>\n",
              "    <tr>\n",
              "      <th>12</th>\n",
              "      <td>5091</td>\n",
              "    </tr>\n",
              "    <tr>\n",
              "      <th>403</th>\n",
              "      <td>5042</td>\n",
              "    </tr>\n",
              "    <tr>\n",
              "      <th>407</th>\n",
              "      <td>4937</td>\n",
              "    </tr>\n",
              "    <tr>\n",
              "      <th>15</th>\n",
              "      <td>4863</td>\n",
              "    </tr>\n",
              "    <tr>\n",
              "      <th>...</th>\n",
              "      <td>...</td>\n",
              "    </tr>\n",
              "    <tr>\n",
              "      <th>8994</th>\n",
              "      <td>1</td>\n",
              "    </tr>\n",
              "    <tr>\n",
              "      <th>8520</th>\n",
              "      <td>1</td>\n",
              "    </tr>\n",
              "    <tr>\n",
              "      <th>8101</th>\n",
              "      <td>1</td>\n",
              "    </tr>\n",
              "    <tr>\n",
              "      <th>8992</th>\n",
              "      <td>1</td>\n",
              "    </tr>\n",
              "    <tr>\n",
              "      <th>7441</th>\n",
              "      <td>1</td>\n",
              "    </tr>\n",
              "  </tbody>\n",
              "</table>\n",
              "<p>7538 rows × 1 columns</p>\n",
              "</div><br><label><b>dtype:</b> int64</label>"
            ],
            "text/plain": [
              "OP_CARRIER_FL_NUM\n",
              "16      5326\n",
              "12      5091\n",
              "403     5042\n",
              "407     4937\n",
              "15      4863\n",
              "        ... \n",
              "8994       1\n",
              "8520       1\n",
              "8101       1\n",
              "8992       1\n",
              "7441       1\n",
              "Name: count, Length: 7538, dtype: int64"
            ]
          },
          "execution_count": 21,
          "metadata": {},
          "output_type": "execute_result"
        }
      ],
      "source": [
        "df['OP_CARRIER_FL_NUM'].value_counts()"
      ]
    },
    {
      "cell_type": "code",
      "execution_count": null,
      "metadata": {
        "colab": {
          "base_uri": "https://localhost:8080/",
          "height": 774
        },
        "id": "_3jaujxdWpst",
        "outputId": "6389018c-c39b-400c-d32a-b1783d33db7f"
      },
      "outputs": [
        {
          "data": {
            "text/html": [
              "<div>\n",
              "<style scoped>\n",
              "    .dataframe tbody tr th:only-of-type {\n",
              "        vertical-align: middle;\n",
              "    }\n",
              "\n",
              "    .dataframe tbody tr th {\n",
              "        vertical-align: top;\n",
              "    }\n",
              "\n",
              "    .dataframe thead th {\n",
              "        text-align: right;\n",
              "    }\n",
              "</style>\n",
              "<table border=\"1\" class=\"dataframe\">\n",
              "  <thead>\n",
              "    <tr style=\"text-align: right;\">\n",
              "      <th></th>\n",
              "      <th>count</th>\n",
              "    </tr>\n",
              "    <tr>\n",
              "      <th>OP_CARRIER</th>\n",
              "      <th></th>\n",
              "    </tr>\n",
              "  </thead>\n",
              "  <tbody>\n",
              "    <tr>\n",
              "      <th>WN</th>\n",
              "      <td>1797926</td>\n",
              "    </tr>\n",
              "    <tr>\n",
              "      <th>DL</th>\n",
              "      <td>1161883</td>\n",
              "    </tr>\n",
              "    <tr>\n",
              "      <th>AA</th>\n",
              "      <td>964037</td>\n",
              "    </tr>\n",
              "    <tr>\n",
              "      <th>OO</th>\n",
              "      <td>911078</td>\n",
              "    </tr>\n",
              "    <tr>\n",
              "      <th>EV</th>\n",
              "      <td>741999</td>\n",
              "    </tr>\n",
              "    <tr>\n",
              "      <th>UA</th>\n",
              "      <td>705030</td>\n",
              "    </tr>\n",
              "    <tr>\n",
              "      <th>MQ</th>\n",
              "      <td>464337</td>\n",
              "    </tr>\n",
              "    <tr>\n",
              "      <th>US</th>\n",
              "      <td>432815</td>\n",
              "    </tr>\n",
              "    <tr>\n",
              "      <th>B6</th>\n",
              "      <td>363733</td>\n",
              "    </tr>\n",
              "    <tr>\n",
              "      <th>AS</th>\n",
              "      <td>237757</td>\n",
              "    </tr>\n",
              "    <tr>\n",
              "      <th>FL</th>\n",
              "      <td>195679</td>\n",
              "    </tr>\n",
              "    <tr>\n",
              "      <th>XE</th>\n",
              "      <td>173991</td>\n",
              "    </tr>\n",
              "    <tr>\n",
              "      <th>YV</th>\n",
              "      <td>134190</td>\n",
              "    </tr>\n",
              "    <tr>\n",
              "      <th>F9</th>\n",
              "      <td>131721</td>\n",
              "    </tr>\n",
              "    <tr>\n",
              "      <th>9E</th>\n",
              "      <td>126681</td>\n",
              "    </tr>\n",
              "    <tr>\n",
              "      <th>CO</th>\n",
              "      <td>118819</td>\n",
              "    </tr>\n",
              "    <tr>\n",
              "      <th>HA</th>\n",
              "      <td>111342</td>\n",
              "    </tr>\n",
              "    <tr>\n",
              "      <th>NK</th>\n",
              "      <td>71815</td>\n",
              "    </tr>\n",
              "    <tr>\n",
              "      <th>VX</th>\n",
              "      <td>63501</td>\n",
              "    </tr>\n",
              "    <tr>\n",
              "      <th>NW</th>\n",
              "      <td>45931</td>\n",
              "    </tr>\n",
              "    <tr>\n",
              "      <th>OH</th>\n",
              "      <td>45735</td>\n",
              "    </tr>\n",
              "  </tbody>\n",
              "</table>\n",
              "</div><br><label><b>dtype:</b> int64</label>"
            ],
            "text/plain": [
              "OP_CARRIER\n",
              "WN    1797926\n",
              "DL    1161883\n",
              "AA     964037\n",
              "OO     911078\n",
              "EV     741999\n",
              "UA     705030\n",
              "MQ     464337\n",
              "US     432815\n",
              "B6     363733\n",
              "AS     237757\n",
              "FL     195679\n",
              "XE     173991\n",
              "YV     134190\n",
              "F9     131721\n",
              "9E     126681\n",
              "CO     118819\n",
              "HA     111342\n",
              "NK      71815\n",
              "VX      63501\n",
              "NW      45931\n",
              "OH      45735\n",
              "Name: count, dtype: int64"
            ]
          },
          "execution_count": 16,
          "metadata": {},
          "output_type": "execute_result"
        }
      ],
      "source": [
        "df['OP_CARRIER'].value_counts()"
      ]
    },
    {
      "cell_type": "code",
      "execution_count": null,
      "metadata": {
        "colab": {
          "base_uri": "https://localhost:8080/",
          "height": 489
        },
        "id": "C_YDa1i2bF-Q",
        "outputId": "51ff31d8-9bf3-45c3-b41a-46db9c1bfe65"
      },
      "outputs": [
        {
          "data": {
            "text/html": [
              "<div>\n",
              "<style scoped>\n",
              "    .dataframe tbody tr th:only-of-type {\n",
              "        vertical-align: middle;\n",
              "    }\n",
              "\n",
              "    .dataframe tbody tr th {\n",
              "        vertical-align: top;\n",
              "    }\n",
              "\n",
              "    .dataframe thead th {\n",
              "        text-align: right;\n",
              "    }\n",
              "</style>\n",
              "<table border=\"1\" class=\"dataframe\">\n",
              "  <thead>\n",
              "    <tr style=\"text-align: right;\">\n",
              "      <th></th>\n",
              "      <th>count</th>\n",
              "    </tr>\n",
              "    <tr>\n",
              "      <th>TAXI_OUT</th>\n",
              "      <th></th>\n",
              "    </tr>\n",
              "  </thead>\n",
              "  <tbody>\n",
              "    <tr>\n",
              "      <th>11.0</th>\n",
              "      <td>722735</td>\n",
              "    </tr>\n",
              "    <tr>\n",
              "      <th>12.0</th>\n",
              "      <td>706926</td>\n",
              "    </tr>\n",
              "    <tr>\n",
              "      <th>10.0</th>\n",
              "      <td>697457</td>\n",
              "    </tr>\n",
              "    <tr>\n",
              "      <th>13.0</th>\n",
              "      <td>663230</td>\n",
              "    </tr>\n",
              "    <tr>\n",
              "      <th>9.0</th>\n",
              "      <td>609023</td>\n",
              "    </tr>\n",
              "    <tr>\n",
              "      <th>...</th>\n",
              "      <td>...</td>\n",
              "    </tr>\n",
              "    <tr>\n",
              "      <th>285.0</th>\n",
              "      <td>1</td>\n",
              "    </tr>\n",
              "    <tr>\n",
              "      <th>219.0</th>\n",
              "      <td>1</td>\n",
              "    </tr>\n",
              "    <tr>\n",
              "      <th>182.0</th>\n",
              "      <td>1</td>\n",
              "    </tr>\n",
              "    <tr>\n",
              "      <th>199.0</th>\n",
              "      <td>1</td>\n",
              "    </tr>\n",
              "    <tr>\n",
              "      <th>173.0</th>\n",
              "      <td>1</td>\n",
              "    </tr>\n",
              "  </tbody>\n",
              "</table>\n",
              "<p>230 rows × 1 columns</p>\n",
              "</div><br><label><b>dtype:</b> int64</label>"
            ],
            "text/plain": [
              "TAXI_OUT\n",
              "11.0     722735\n",
              "12.0     706926\n",
              "10.0     697457\n",
              "13.0     663230\n",
              "9.0      609023\n",
              "          ...  \n",
              "285.0         1\n",
              "219.0         1\n",
              "182.0         1\n",
              "199.0         1\n",
              "173.0         1\n",
              "Name: count, Length: 230, dtype: int64"
            ]
          },
          "execution_count": 18,
          "metadata": {},
          "output_type": "execute_result"
        }
      ],
      "source": [
        "df['TAXI_OUT'].value_counts()"
      ]
    },
    {
      "cell_type": "markdown",
      "metadata": {
        "id": "r1qP_L4_HZ6N"
      },
      "source": [
        "#### Generación de gráficos generales\n",
        "Todas las columnas serán de utilidad para el procesamiento de los datos y la generación del modelo, sin embargo, para fines del análisis exploratorio. Se elegirán a criterio las columnas de mayor peso para la predicción."
      ]
    },
    {
      "cell_type": "code",
      "execution_count": null,
      "metadata": {
        "colab": {
          "base_uri": "https://localhost:8080/",
          "height": 560
        },
        "id": "ioV3BgRTI7mT",
        "outputId": "191b2df6-24a2-4e29-ab4d-a392234d2fc0"
      },
      "outputs": [
        {
          "data": {
            "image/png": "[encoded data removed]",
            "text/plain": [
              "<Figure size 640x480 with 2 Axes>"
            ]
          },
          "metadata": {},
          "output_type": "display_data"
        }
      ],
      "source": [
        "columnas = df[['CRS_DEP_TIME', 'DEP_TIME', 'DEP_DELAY', 'TAXI_OUT', 'WHEELS_OFF', 'CRS_ARR_TIME', 'ARR_DELAY', 'CRS_ELAPSED_TIME', 'DISTANCE']]\n",
        "columnasnan = columnas.dropna()\n",
        "\n",
        "cor = columnasnan.corr()\n",
        "sns.heatmap(cor, annot=True)\n",
        "plt.show()"
      ]
    },
    {
      "cell_type": "code",
      "execution_count": null,
      "metadata": {
        "colab": {
          "base_uri": "https://localhost:8080/"
        },
        "id": "Lzvwo3DQ7Dax",
        "outputId": "bab0541d-5cab-4ef1-93a4-50a0c61f75f0"
      },
      "outputs": [
        {
          "name": "stdout",
          "output_type": "stream",
          "text": [
            "Proporción ARR_DELAY/DEP_DELAY: 0.524006891451514\n"
          ]
        }
      ],
      "source": [
        "media_arr_delay = df['ARR_DELAY'].mean()\n",
        "media_dep_delay = df['DEP_DELAY'].mean()\n",
        "proporcion = media_arr_delay / media_dep_delay\n",
        "print(f\"Proporción ARR_DELAY/DEP_DELAY: {proporcion}\")"
      ]
    },
    {
      "cell_type": "code",
      "execution_count": null,
      "metadata": {
        "colab": {
          "base_uri": "https://localhost:8080/",
          "height": 1000
        },
        "id": "9th_l2ntKQ3B",
        "outputId": "b7ed2f83-972a-41f9-97f5-8faf6066c38d"
      },
      "outputs": [
        {
          "data": {
            "text/plain": [
              "Text(0, 0.5, 'Frecuencia')"
            ]
          },
          "execution_count": 14,
          "metadata": {},
          "output_type": "execute_result"
        },
        {
          "data": {
            "image/png": "[encoded data removed]",
            "text/plain": [
              "<Figure size 1000x600 with 1 Axes>"
            ]
          },
          "metadata": {},
          "output_type": "display_data"
        },
        {
          "data": {
            "image/png": "[encoded data removed]",
            "text/plain": [
              "<Figure size 1000x600 with 1 Axes>"
            ]
          },
          "metadata": {},
          "output_type": "display_data"
        }
      ],
      "source": [
        "plt.figure(figsize=(10, 6))\n",
        "sns.histplot(df['ARR_DELAY'], bins=30, kde=True, color='blue')\n",
        "\n",
        "plt.title('Distribución de retrasos promedio', fontsize=16)\n",
        "plt.xlabel('Retraso', fontsize=12)\n",
        "plt.ylabel('Frecuencia', fontsize=12)\n",
        "\n",
        "plt.figure(figsize=(10, 6))\n",
        "sns.histplot(df['DEP_DELAY'], bins=30, kde=True, color='blue')\n",
        "\n",
        "# Añadir título y etiquetas\n",
        "plt.title('Distribución de la salida retrasada promedio', fontsize=16)\n",
        "plt.xlabel('Retraso en salida promedio', fontsize=12)\n",
        "plt.ylabel('Frecuencia', fontsize=12)"
      ]
    },
    {
      "cell_type": "code",
      "execution_count": null,
      "metadata": {
        "colab": {
          "base_uri": "https://localhost:8080/"
        },
        "id": "IowBsvRO3nam",
        "outputId": "b2ed0f49-3135-4661-8e3a-bfb19e9198f2"
      },
      "outputs": [
        {
          "name": "stdout",
          "output_type": "stream",
          "text": [
            "Número de años diferentes en la columna 'FL_DATE': 9\n"
          ]
        }
      ],
      "source": [
        "df['FL_DATE'] = pd.to_datetime(df['FL_DATE'])\n",
        "df['año'] = df['FL_DATE'].dt.year\n",
        "años_diferentes = df['año'].nunique()\n",
        "print(f\"Número de años diferentes en la columna 'FL_DATE': {años_diferentes}\")"
      ]
    },
    {
      "cell_type": "code",
      "execution_count": null,
      "metadata": {
        "colab": {
          "base_uri": "https://localhost:8080/",
          "height": 428
        },
        "id": "0_47uVtEb_2D",
        "outputId": "611318d0-b011-474f-8279-1b4eef0fdb3d"
      },
      "outputs": [
        {
          "data": {
            "text/plain": [
              "<Axes: ylabel='TAXI_OUT'>"
            ]
          },
          "execution_count": 22,
          "metadata": {},
          "output_type": "execute_result"
        },
        {
          "data": {
            "image/png": "[encoded data removed]",
            "text/plain": [
              "<Figure size 640x480 with 1 Axes>"
            ]
          },
          "metadata": {},
          "output_type": "display_data"
        }
      ],
      "source": [
        "sns.boxplot(data=df['TAXI_OUT'])"
      ]
    },
    {
      "cell_type": "code",
      "execution_count": null,
      "metadata": {
        "colab": {
          "base_uri": "https://localhost:8080/",
          "height": 447
        },
        "id": "rZj-Ch6Wdois",
        "outputId": "11996917-5043-427c-894a-ba598b2596da"
      },
      "outputs": [
        {
          "data": {
            "text/plain": [
              "<Axes: >"
            ]
          },
          "execution_count": 23,
          "metadata": {},
          "output_type": "execute_result"
        },
        {
          "data": {
            "image/png": "[encoded data removed]",
            "text/plain": [
              "<Figure size 640x480 with 1 Axes>"
            ]
          },
          "metadata": {},
          "output_type": "display_data"
        }
      ],
      "source": [
        "sns.boxplot(data=df[['ARR_DELAY', 'DEP_DELAY']])"
      ]
    },
    {
      "cell_type": "code",
      "execution_count": null,
      "metadata": {
        "colab": {
          "base_uri": "https://localhost:8080/"
        },
        "id": "mJlxeWtZeaPb",
        "outputId": "32ba3cba-8e96-4722-f3ad-0e7c3004fa31"
      },
      "outputs": [
        {
          "data": {
            "text/plain": [
              "801302"
            ]
          },
          "execution_count": 24,
          "metadata": {},
          "output_type": "execute_result"
        }
      ],
      "source": [
        "Q1 = df['ARR_DELAY'].quantile(0.25)\n",
        "Q3 = df['ARR_DELAY'].quantile(0.75)\n",
        "IQR = Q3 - Q1\n",
        "\n",
        "limite_inferior = Q1 - 1.5 * IQR\n",
        "limite_superior = Q3 + 1.5 * IQR\n",
        "\n",
        "outliers = df[(df['ARR_DELAY'] < limite_inferior) | (df['ARR_DELAY'] > limite_superior)]\n",
        "len(outliers)"
      ]
    },
    {
      "cell_type": "code",
      "execution_count": null,
      "metadata": {
        "colab": {
          "base_uri": "https://localhost:8080/"
        },
        "id": "DSF-eLHreio_",
        "outputId": "61f44091-6717-488a-b05b-f7fdd77393a9"
      },
      "outputs": [
        {
          "data": {
            "text/plain": [
              "1122161"
            ]
          },
          "execution_count": 25,
          "metadata": {},
          "output_type": "execute_result"
        }
      ],
      "source": [
        "Q1 = df['DEP_DELAY'].quantile(0.25)\n",
        "Q3 = df['DEP_DELAY'].quantile(0.75)\n",
        "IQR = Q3 - Q1\n",
        "\n",
        "limite_inferior = Q1 - 1.5 * IQR\n",
        "limite_superior = Q3 + 1.5 * IQR\n",
        "\n",
        "outliers = df[(df['DEP_DELAY'] < limite_inferior) | (df['DEP_DELAY'] > limite_superior)]\n",
        "len(outliers)"
      ]
    },
    {
      "cell_type": "code",
      "execution_count": null,
      "metadata": {
        "colab": {
          "base_uri": "https://localhost:8080/"
        },
        "id": "kvp-T8LPLhNQ",
        "outputId": "713af88c-3933-4f5e-8e46-cb3c82222631"
      },
      "outputs": [
        {
          "name": "stdout",
          "output_type": "stream",
          "text": [
            "Varianza explicada por cada componente: [0.40829226 0.223972   0.21034696 0.10575924 0.03812491]\n",
            "Componentes principales:\n",
            " [[-0.52334594  1.28756385  0.97967184 -0.51333268  0.17873457]\n",
            " [ 2.95532107 -0.50425882 -1.17524859  0.3069688   0.03692575]\n",
            " [ 0.30953426 -0.47966003  0.03783393  1.13773809 -0.10361371]\n",
            " ...\n",
            " [ 0.51782139  0.18765767  0.80038007 -0.73686634 -0.07700466]\n",
            " [-2.49659977  3.94006664 -1.0199154  -1.11506413 -0.0552074 ]\n",
            " [ 1.12616172 -0.51317442 -0.38591168  0.25740565  0.10718366]]\n"
          ]
        }
      ],
      "source": [
        "from sklearn.preprocessing import StandardScaler\n",
        "from sklearn.decomposition import PCA\n",
        "import pandas as pd\n",
        "\n",
        "numericas = df[['DEP_DELAY', 'ARR_DELAY', 'CRS_DEP_TIME', 'DISTANCE', 'CRS_ELAPSED_TIME', 'CRS_ARR_TIME', 'WHEELS_OFF', 'TAXI_OUT', 'DEP_TIME']]\n",
        "\n",
        "scaler = StandardScaler()\n",
        "numericas_escaladas = scaler.fit_transform(numericas)\n",
        "\n",
        "pca = PCA(n_components=0.95)\n",
        "pca_resultados = pca.fit_transform(numericas_escaladas)\n",
        "\n",
        "print(\"Varianza explicada por cada componente:\", pca.explained_variance_ratio_)\n",
        "print(\"Componentes principales:\\n\", pca_resultados)"
      ]
    },
    {
      "cell_type": "code",
      "execution_count": null,
      "metadata": {
        "colab": {
          "base_uri": "https://localhost:8080/",
          "height": 472
        },
        "id": "_SU97W-ghQIX",
        "outputId": "64a46ba5-4dc9-47e1-f3ec-ba67a1c78444"
      },
      "outputs": [
        {
          "data": {
            "image/png": "[encoded data removed]",
            "text/plain": [
              "<Figure size 640x480 with 2 Axes>"
            ]
          },
          "metadata": {},
          "output_type": "display_data"
        }
      ],
      "source": [
        "from sklearn.decomposition import PCA\n",
        "from sklearn.preprocessing import StandardScaler\n",
        "from sklearn.discriminant_analysis import LinearDiscriminantAnalysis\n",
        "\n",
        "X = df[['DEP_DELAY', 'ARR_DELAY', 'CRS_DEP_TIME', 'DISTANCE', 'CRS_ELAPSED_TIME', 'CRS_ARR_TIME', 'WHEELS_OFF', 'TAXI_OUT', 'DEP_TIME']]\n",
        "y = df['ARR_DELAY']\n",
        "\n",
        "scaler = StandardScaler()\n",
        "X_scaled = scaler.fit_transform(X)\n",
        "\n",
        "pca = PCA(n_components=4)\n",
        "X_PCA = pca.fit_transform(X_scaled)\n",
        "\n",
        "\n",
        "\n",
        "plt.scatter(X_PCA[:, 0], X_PCA[:, 1], c=y)\n",
        "plt.title('PCA')\n",
        "plt.xlabel('Componente 1')\n",
        "plt.ylabel('Componente 2')\n",
        "plt.colorbar(label='Label for y')\n",
        "plt.show()"
      ]
    },
    {
      "cell_type": "code",
      "execution_count": null,
      "metadata": {
        "colab": {
          "base_uri": "https://localhost:8080/",
          "height": 472
        },
        "id": "3XEepM5UjHqS",
        "outputId": "1f82a70a-8721-4538-e1bb-e18ff6b81dac"
      },
      "outputs": [
        {
          "data": {
            "image/png": "[encoded data removed]",
            "text/plain": [
              "<Figure size 640x480 with 2 Axes>"
            ]
          },
          "metadata": {},
          "output_type": "display_data"
        }
      ],
      "source": [
        "from sklearn.discriminant_analysis import LinearDiscriminantAnalysis as LDA\n",
        "X = df[['DEP_DELAY', 'ARR_DELAY', 'CRS_DEP_TIME', 'DISTANCE', 'CRS_ELAPSED_TIME', 'CRS_ARR_TIME', 'WHEELS_OFF', 'TAXI_OUT', 'DEP_TIME']]\n",
        "y = df['ARR_DELAY']\n",
        "\n",
        "scaler = StandardScaler()\n",
        "X_scaled = scaler.fit_transform(X)\n",
        "\n",
        "lda = LDA(n_components=2)\n",
        "X_LDA = lda.fit_transform(X_scaled, y)\n",
        "\n",
        "scatter = plt.scatter(X_LDA[:, 0], y, c=y)\n",
        "plt.title('LDA')\n",
        "plt.xlabel('Componente 1')\n",
        "plt.ylabel('Componente 2')\n",
        "plt.colorbar(label='RETRASO')\n",
        "plt.legend(*scatter.legend_elements())\n",
        "plt.show()"
      ]
    },
    {
      "cell_type": "code",
      "execution_count": null,
      "metadata": {
        "colab": {
          "base_uri": "https://localhost:8080/"
        },
        "id": "E5xKXBVaTjtJ",
        "outputId": "26b34fae-9e79-411d-975e-3aa5699e4677"
      },
      "outputs": [
        {
          "name": "stdout",
          "output_type": "stream",
          "text": [
            "Aerolínea: AA\n",
            "Destinos únicos: 111\n",
            "Orígenes únicos: 110\n",
            "\n",
            "Aerolínea: XE\n",
            "Destinos únicos: 129\n",
            "Orígenes únicos: 128\n",
            "\n",
            "Aerolínea: OH\n",
            "Destinos únicos: 112\n",
            "Orígenes únicos: 111\n",
            "\n",
            "Aerolínea: OO\n",
            "Destinos únicos: 264\n",
            "Orígenes únicos: 263\n",
            "\n",
            "Aerolínea: WN\n",
            "Destinos únicos: 91\n",
            "Orígenes únicos: 91\n",
            "\n",
            "Aerolínea: EV\n",
            "Destinos únicos: 200\n",
            "Orígenes únicos: 198\n",
            "\n",
            "Aerolínea: YV\n",
            "Destinos únicos: 137\n",
            "Orígenes únicos: 135\n",
            "\n",
            "Aerolínea: NW\n",
            "Destinos únicos: 99\n",
            "Orígenes únicos: 100\n",
            "\n",
            "Aerolínea: UA\n",
            "Destinos únicos: 114\n",
            "Orígenes únicos: 115\n",
            "\n",
            "Aerolínea: MQ\n",
            "Destinos únicos: 166\n",
            "Orígenes únicos: 166\n",
            "\n",
            "Aerolínea: F9\n",
            "Destinos únicos: 106\n",
            "Orígenes únicos: 107\n",
            "\n",
            "Aerolínea: US\n",
            "Destinos únicos: 91\n",
            "Orígenes únicos: 91\n",
            "\n",
            "Aerolínea: FL\n",
            "Destinos únicos: 75\n",
            "Orígenes únicos: 75\n",
            "\n",
            "Aerolínea: CO\n",
            "Destinos únicos: 75\n",
            "Orígenes únicos: 78\n",
            "\n",
            "Aerolínea: AS\n",
            "Destinos únicos: 73\n",
            "Orígenes únicos: 73\n",
            "\n",
            "Aerolínea: DL\n",
            "Destinos únicos: 169\n",
            "Orígenes únicos: 170\n",
            "\n",
            "Aerolínea: B6\n",
            "Destinos únicos: 68\n",
            "Orígenes únicos: 68\n",
            "\n",
            "Aerolínea: HA\n",
            "Destinos únicos: 17\n",
            "Orígenes únicos: 17\n",
            "\n",
            "Aerolínea: 9E\n",
            "Destinos únicos: 164\n",
            "Orígenes únicos: 168\n",
            "\n",
            "Aerolínea: VX\n",
            "Destinos únicos: 31\n",
            "Orígenes únicos: 31\n",
            "\n",
            "Aerolínea: NK\n",
            "Destinos únicos: 39\n",
            "Orígenes únicos: 39\n",
            "\n"
          ]
        }
      ],
      "source": [
        "aerolineas = df['OP_CARRIER'].unique()\n",
        "\n",
        "for aerolinea in aerolineas:\n",
        "    aero_data = df[df['OP_CARRIER'] == aerolinea]\n",
        "    destinos = aero_data['DEST'].nunique()\n",
        "    origenes = aero_data['ORIGIN'].nunique()\n",
        "    print(f\"Aerolínea: {aerolinea}\")\n",
        "    print(f\"Destinos únicos: {destinos}\")\n",
        "    print(f\"Orígenes únicos: {origenes}\")\n",
        "    print()"
      ]
    },
    {
      "cell_type": "markdown",
      "metadata": {
        "id": "6u30awaa74xw"
      },
      "source": [
        "<div style=\"background-color: #dfe4ef; color: #616671; padding: 10px; border-radius: 15px; font-size: 8px; text-align:center\">\n",
        "  <h2>Conslusión de análisis exploratorio</h2>\n",
        "  <h2>En general la distribución de los datos es buena, no requieren de tratamientos mayores para su procesamiento, el mayor inconveniente detectado es la gran cantidad de datos, por lo cual, se optará por la selección de una muestra característica del conjunto. Se han detectado características relacionables como es el numero de vuelo, los origenes y destinos únicos por aerolinea y la cantidad de repeticiones más comunes. Estas consideraciones pueden mejorar el procesamiento que se hace a los datos previo al desarrollo de los modelos.</h2>\n",
        "</div>"
      ]
    },
    {
      "cell_type": "markdown",
      "metadata": {
        "id": "m3RLEk3F-GPc"
      },
      "source": [
        "# Limpieza de datos"
      ]
    },
    {
      "cell_type": "markdown",
      "metadata": {
        "id": "5Ay2FxTLgz-F"
      },
      "source": [
        "Ya que se cuenta con un panorama completo de los datos y su distribución, se procede con la limpieza. El primer proceso consiste en la eliminación de los duplicados. Posteriormenre, y debido a que en el PCA se detectó que el número ideal de componentes como 4, se tomo este criterio para su aplicación. Adicionalmente se eliminaron los valores atípicos detectados para las columnas de interés."
      ]
    },
    {
      "cell_type": "code",
      "execution_count": null,
      "metadata": {
        "colab": {
          "base_uri": "https://localhost:8080/"
        },
        "id": "Mj1TvpyB6xm3",
        "outputId": "633e5cc6-cc0d-44b4-a704-29b72d6819b6"
      },
      "outputs": [
        {
          "name": "stdout",
          "output_type": "stream",
          "text": [
            "Componentes principales:\n",
            " [[ 3.33572749 -0.12727165 -0.72378492  0.67086285]\n",
            " [ 0.54073106 -0.35333499  1.20866199  2.14096654]\n",
            " [-2.10272734 -1.68484901 -0.3595073   0.60817595]\n",
            " ...\n",
            " [ 3.67702808 -0.00823656  2.21907388  0.72064439]\n",
            " [-2.25304414  4.11077059 -0.45368905 -1.42138292]\n",
            " [ 1.47954732 -0.32271022  0.78037399  0.30427289]]\n",
            "      FL_DATE OP_CARRIER  OP_CARRIER_FL_NUM ORIGIN DEST  CRS_DEP_TIME  \\\n",
            "0  2009-05-08         XE               2926    IAH  ELP        2115.0   \n",
            "1  2009-03-16         OH               6433    CVG  DSM        1430.0   \n",
            "2  2009-03-04         OO               5439    LAX  SBA         820.0   \n",
            "3  2009-06-12         WN                615    LAS  MCI        1235.0   \n",
            "4  2009-08-04         WN                 94    OAK  PHX         600.0   \n",
            "\n",
            "   DEP_TIME  DEP_DELAY  TAXI_OUT  WHEELS_OFF  CRS_ARR_TIME  ARR_DELAY  \\\n",
            "0    2112.0       -3.0      17.0      2129.0        2219.0      -15.0   \n",
            "1    1425.0       -5.0      25.0      1450.0        1518.0        7.0   \n",
            "2     814.0       -6.0      15.0       829.0         905.0      -11.0   \n",
            "3    1234.0       -1.0      13.0      1247.0        1735.0      -26.0   \n",
            "4     603.0        3.0       9.0       612.0         805.0       -8.0   \n",
            "\n",
            "   CRS_ELAPSED_TIME  DISTANCE       PC1       PC2       PC3       PC4  \n",
            "0             124.0     667.0  3.335727 -0.127272 -0.723785  0.670863  \n",
            "1             108.0     505.0  0.540731 -0.353335  1.208662  2.140967  \n",
            "2              45.0      89.0 -2.102727 -1.684849 -0.359507  0.608176  \n",
            "3             180.0    1140.0  0.024642  0.951427 -1.223234 -0.435733  \n",
            "4             125.0     646.0 -2.753604 -0.355199  0.428124 -1.341709  \n"
          ]
        }
      ],
      "source": [
        "from sklearn.decomposition import PCA\n",
        "from sklearn.preprocessing import StandardScaler\n",
        "\n",
        "df_limpio = df.drop_duplicates()\n",
        "\n",
        "def eliminar_outliers(df, columnas):\n",
        "    for columna in columnas:\n",
        "        Q1 = df[columna].quantile(0.25)\n",
        "        Q3 = df[columna].quantile(0.75)\n",
        "        IQR = Q3 - Q1\n",
        "        limite_inferior = Q1 - 1.5 * IQR\n",
        "        limite_superior = Q3 + 1.5 * IQR\n",
        "        df = df[(df[columna] >= limite_inferior) & (df[columna] <= limite_superior)]\n",
        "    return df\n",
        "\n",
        "columnas_outliers = ['ARR_DELAY', 'DEP_DELAY', 'TAXI_OUT']\n",
        "df_limpio = eliminar_outliers(df_limpio, columnas_outliers)\n",
        "\n",
        "X = df_limpio[['DEP_DELAY', 'ARR_DELAY', 'CRS_DEP_TIME', 'DISTANCE', 'CRS_ELAPSED_TIME', 'CRS_ARR_TIME', 'WHEELS_OFF', 'TAXI_OUT', 'DEP_TIME']]\n",
        "scaler = StandardScaler()\n",
        "X_scaled = scaler.fit_transform(X)\n",
        "\n",
        "pca = PCA(n_components=4)\n",
        "X_pca = pca.fit_transform(X_scaled)\n",
        "\n",
        "print(\"Componentes principales:\\n\", X_pca)\n",
        "\n",
        "df_pca = pd.DataFrame(X_pca, columns=['PC1', 'PC2', 'PC3', 'PC4'])\n",
        "df_final = pd.concat([df_limpio.reset_index(drop=True), df_pca], axis=1)\n",
        "\n",
        "print(df_final.head())"
      ]
    },
    {
      "cell_type": "markdown",
      "metadata": {
        "id": "6270tR5RhpZV"
      },
      "source": [
        "# Extracción y selección de carcterísticas\n"
      ]
    },
    {
      "cell_type": "markdown",
      "metadata": {
        "id": "zqmHHl9XhyL5"
      },
      "source": [
        "Durante el análisis exploratorio se identificaron valores relacionables entre sí como es los destinos únicos de origen y destino para las diferentes aerolíneas. Esto implicá la transformación de características categóricas a numericas para los casos de aerolinea, destino y origen.\n",
        "\n",
        "NOTA: Se tomó una muestra aleatoria de los datos limpios para los procesamientos posteriores debido a que por la gran cantidad disponible el procesamiento se vuelve tardado y en ocaciones no se puede realizar efectivamente (mata el kernel)."
      ]
    },
    {
      "cell_type": "markdown",
      "metadata": {
        "id": "nrV6D4dKoKqj"
      },
      "source": [
        "Se aplicó un muestreo estratificado al conservando el 20 % de los datos."
      ]
    },
    {
      "cell_type": "code",
      "execution_count": null,
      "metadata": {
        "colab": {
          "base_uri": "https://localhost:8080/"
        },
        "id": "7ndtzU4QoLOL",
        "outputId": "52e33522-6806-4bfd-d017-cb24c29c3ee0"
      },
      "outputs": [
        {
          "name": "stdout",
          "output_type": "stream",
          "text": [
            "Tamaño de la muestra estratificada: (1402178, 14)\n"
          ]
        }
      ],
      "source": [
        "datos, _ = train_test_split(df_limpio, test_size=0.8, stratify=df_final['ARR_DELAY'], random_state=42)\n",
        "print(f'Tamaño de la muestra estratificada: {datos.shape}')"
      ]
    },
    {
      "cell_type": "markdown",
      "metadata": {
        "id": "MOA7hJloutmn"
      },
      "source": [
        "Se aplicó una codificación de las variables categóricas de Aerolínea, Origen y Destino utilizando el valor de la media de la variable objetivo"
      ]
    },
    {
      "cell_type": "code",
      "execution_count": null,
      "metadata": {
        "colab": {
          "base_uri": "https://localhost:8080/"
        },
        "id": "__5qilvSfKP2",
        "outputId": "058f24fc-3502-4950-917b-b9fa6c5555e3"
      },
      "outputs": [
        {
          "name": "stdout",
          "output_type": "stream",
          "text": [
            "            FL_DATE OP_CARRIER  OP_CARRIER_FL_NUM ORIGIN DEST  CRS_DEP_TIME  \\\n",
            "1499179  2010-11-15         WN                489    MCO  FLL        1550.0   \n",
            "2681849  2011-02-01         CO                208    PDX  IAH        2350.0   \n",
            "7450641  2016-04-23         WN               3760    LAX  RNO        1940.0   \n",
            "7102482  2016-09-08         AA               2591    BOS  ORD        1630.0   \n",
            "1741494  2010-02-14         WN                921    PHX  AUS         905.0   \n",
            "\n",
            "         DEP_TIME  DEP_DELAY  TAXI_OUT  WHEELS_OFF  CRS_ARR_TIME  ARR_DELAY  \\\n",
            "1499179    1605.0       15.0       8.0      1613.0        1645.0        8.0   \n",
            "2681849    2341.0       -9.0      11.0      2352.0         537.0       -6.0   \n",
            "7450641    1939.0       -1.0      10.0      1949.0        2055.0       -3.0   \n",
            "7102482    1621.0       -9.0      26.0      1647.0        1824.0       -6.0   \n",
            "1741494     906.0        1.0      10.0       916.0        1215.0       -7.0   \n",
            "\n",
            "         CRS_ELAPSED_TIME  DISTANCE ARR_DELAY_Category  OP_CARRIER_CODIFICADO  \\\n",
            "1499179              55.0     178.0            On time              -0.037209   \n",
            "2681849             227.0    1825.0            On time               4.424527   \n",
            "7450641              75.0     391.0            On time              -0.037209   \n",
            "7102482             174.0     867.0            On time              -0.527374   \n",
            "1741494             130.0     872.0            On time              -0.037209   \n",
            "\n",
            "         ORIGIN_TARGET_COFIFICADO  DEST_TARGET_CODIFICADO  \n",
            "1499179                 -1.375019                0.478589  \n",
            "2681849                 -0.927204                0.876087  \n",
            "7450641                  0.753280                0.324739  \n",
            "7102482                 -2.245723               -2.305468  \n",
            "1741494                  1.279359               -0.385015  \n"
          ]
        }
      ],
      "source": [
        "medialinea = datos.groupby('OP_CARRIER')['ARR_DELAY'].mean()\n",
        "mediaorigen = datos.groupby('ORIGIN')['ARR_DELAY'].mean()\n",
        "mediadest = datos.groupby('DEST')['ARR_DELAY'].mean()\n",
        "\n",
        "datos['OP_CARRIER_CODIFICADO'] = datos['OP_CARRIER'].map(medialinea)\n",
        "datos['ORIGIN_TARGET_COFIFICADO'] = datos['ORIGIN'].map(mediaorigen)\n",
        "datos['DEST_TARGET_CODIFICADO'] = datos['DEST'].map(mediadest)\n",
        "\n",
        "print(datos.head())"
      ]
    },
    {
      "cell_type": "markdown",
      "metadata": {
        "id": "vOhcEUHN0aiy"
      },
      "source": [
        "Se agrega la categorización de la variable objetivo."
      ]
    },
    {
      "cell_type": "code",
      "execution_count": null,
      "metadata": {
        "colab": {
          "base_uri": "https://localhost:8080/"
        },
        "id": "zQAg_eldt-IL",
        "outputId": "df6e9a60-4442-41c2-b895-2cf65f0cc1da"
      },
      "outputs": [
        {
          "name": "stdout",
          "output_type": "stream",
          "text": [
            "ARR_DELAY_Category\n",
            "On time    1049326\n",
            "Early       310899\n",
            "Delay        41953\n",
            "Name: count, dtype: int64\n"
          ]
        }
      ],
      "source": [
        "conditions = [\n",
        "    datos['ARR_DELAY'] < -15,\n",
        "    datos['ARR_DELAY'] > 15,\n",
        "    (datos['ARR_DELAY'] >= -15) & (datos['ARR_DELAY'] <= 15)\n",
        "]\n",
        "values = ['Early', 'Delay', 'On time']\n",
        "\n",
        "datos['ARR_DELAY_Category'] = np.select(conditions, values)\n",
        "print(datos['ARR_DELAY_Category'].value_counts())"
      ]
    },
    {
      "cell_type": "markdown",
      "metadata": {
        "id": "_tDu0J4B1MYo"
      },
      "source": [
        "# MODELOS DE INFERENCIA\n",
        "### 1. REGRESIÓN LOGÍSTICA"
      ]
    },
    {
      "cell_type": "code",
      "execution_count": null,
      "metadata": {
        "colab": {
          "base_uri": "https://localhost:8080/"
        },
        "id": "YqmVOuE50ur6",
        "outputId": "f4daac71-6793-4671-c8cd-3a3c6862f7b5"
      },
      "outputs": [
        {
          "name": "stderr",
          "output_type": "stream",
          "text": [
            "/usr/local/lib/python3.10/dist-packages/sklearn/linear_model/_logistic.py:469: ConvergenceWarning: lbfgs failed to converge (status=1):\n",
            "STOP: TOTAL NO. of ITERATIONS REACHED LIMIT.\n",
            "\n",
            "Increase the number of iterations (max_iter) or scale the data as shown in:\n",
            "    https://scikit-learn.org/stable/modules/preprocessing.html\n",
            "Please also refer to the documentation for alternative solver options:\n",
            "    https://scikit-learn.org/stable/modules/linear_model.html#logistic-regression\n",
            "  n_iter_i = _check_optimize_result(\n"
          ]
        },
        {
          "name": "stdout",
          "output_type": "stream",
          "text": [
            "Matriz de confusión:\n",
            " [[  5744   1141   1506]\n",
            " [  4814  45336  12030]\n",
            " [ 49503  50218 110144]]\n",
            "Reporte de clasificación:\n",
            "               precision    recall  f1-score   support\n",
            "\n",
            "       Early       0.10      0.68      0.17      8391\n",
            "     On time       0.47      0.73      0.57     62180\n",
            "       Delay       0.89      0.52      0.66    209865\n",
            "\n",
            "    accuracy                           0.57    280436\n",
            "   macro avg       0.49      0.65      0.47    280436\n",
            "weighted avg       0.77      0.57      0.63    280436\n",
            "\n",
            "F1 Score (Macro): 0.4663276906178893\n"
          ]
        }
      ],
      "source": [
        "from sklearn.model_selection import train_test_split\n",
        "from sklearn.linear_model import LogisticRegression\n",
        "from sklearn.metrics import classification_report\n",
        "from sklearn.metrics import confusion_matrix, classification_report, f1_score\n",
        "\n",
        "X = datos.drop(columns=['ARR_DELAY_Category', 'FL_DATE','OP_CARRIER', 'ORIGIN', 'DEST'])\n",
        "y = datos['ARR_DELAY']\n",
        "\n",
        "X_train, X_test, y_train, y_test = train_test_split(X, y, test_size=0.2, stratify=y)\n",
        "\n",
        "model = LogisticRegression(class_weight='balanced', max_iter=1000)\n",
        "model.fit(X_train, y_train)\n",
        "\n",
        "y_pred = model.predict(X_test)\n",
        "\n",
        "# Matriz de confusión\n",
        "conf_matrix = confusion_matrix(y_test, y_pred)\n",
        "print(\"Matriz de confusión:\\n\", conf_matrix)\n",
        "\n",
        "# Reporte de clasificación con métricas\n",
        "report = classification_report(y_test, y_pred, target_names=['Early', 'On time', 'Delay'])\n",
        "print(\"Reporte de clasificación:\\n\", report)\n",
        "\n",
        "# F1-score macro\n",
        "f1_macro = f1_score(y_test, y_pred, average='macro')\n",
        "print(\"F1 Score (Macro):\", f1_macro)"
      ]
    },
    {
      "cell_type": "markdown",
      "metadata": {
        "id": "_3exlE8C2Cfi"
      },
      "source": [
        "# SUBPROCESAMIENTO"
      ]
    },
    {
      "cell_type": "markdown",
      "metadata": {
        "id": "ylafgamBoCsJ"
      },
      "source": [
        "El resultado de la regresión logística indica que el modelo no rinde como era esperado, por lo cual se procede con análisis y procesamientos adicionales que permitan mejorar las métricas. Se detectó un sesgo hacia los datos de OnTime después de la categorización, por lo cual se procede a realizar un conteo y con base en ese dato, se procederá a realizar el muestreo."
      ]
    },
    {
      "cell_type": "code",
      "execution_count": null,
      "metadata": {
        "colab": {
          "base_uri": "https://localhost:8080/"
        },
        "id": "lUQYPSeovBU2",
        "outputId": "1395611f-9a79-41e9-8acd-e870952750bf"
      },
      "outputs": [
        {
          "name": "stdout",
          "output_type": "stream",
          "text": [
            "Porcentaje de la clase \"Delay\" en el DataFrame: 2.99%\n",
            "Número de muestras para la clase \"Delay\": 209761\n"
          ]
        }
      ],
      "source": [
        "total_filas = len(df_limpio)\n",
        "delay_filas = len(df_limpio[df_limpio['ARR_DELAY_Category'] == 'Delay'])\n",
        "\n",
        "porcentaje_delay = (delay_filas / total_filas) * 100\n",
        "\n",
        "print(f'Porcentaje de la clase \"Delay\" en el DataFrame: {porcentaje_delay:.2f}%')\n",
        "num_delay = len(df_limpio[df_limpio['ARR_DELAY_Category'] == 'Delay'])\n",
        "print(f'Número de muestras para la clase \"Delay\": {num_delay}')"
      ]
    },
    {
      "cell_type": "code",
      "execution_count": null,
      "metadata": {
        "colab": {
          "base_uri": "https://localhost:8080/"
        },
        "id": "PVO-srTWtWBg",
        "outputId": "65835677-f0f4-4502-963f-6438cbf7f08e"
      },
      "outputs": [
        {
          "name": "stdout",
          "output_type": "stream",
          "text": [
            "ARR_DELAY_Category\n",
            "On time    0.333632\n",
            "Early      0.333632\n",
            "Delay      0.332736\n",
            "Name: proportion, dtype: float64\n"
          ]
        }
      ],
      "source": [
        "total_rows = len(df_limpio)\n",
        "sample_size = int(total_rows * 0.03)\n",
        "\n",
        "df_on_time = df_limpio[df_limpio['ARR_DELAY_Category'] == 'On time']\n",
        "df_early = df_limpio[df_limpio['ARR_DELAY_Category'] == 'Early']\n",
        "df_delay = df_limpio[df_limpio['ARR_DELAY_Category'] == 'Delay']\n",
        "\n",
        "sample_on_time = min(sample_size, len(df_on_time))\n",
        "sample_early = min(sample_size, len(df_early))\n",
        "sample_delay = min(sample_size, len(df_delay))\n",
        "\n",
        "df_on_time_sample = df_on_time.sample(n=sample_on_time, random_state=42)\n",
        "df_early_sample = df_early.sample(n=sample_early, random_state=42)\n",
        "df_delay_sample = df_delay.sample(n=sample_delay, random_state=42)\n",
        "\n",
        "datos = pd.concat([df_on_time_sample, df_early_sample, df_delay_sample])\n",
        "\n",
        "print(datos['ARR_DELAY_Category'].value_counts(normalize=True))"
      ]
    },
    {
      "cell_type": "code",
      "execution_count": null,
      "metadata": {
        "colab": {
          "base_uri": "https://localhost:8080/"
        },
        "id": "uinR-kDaz2ba",
        "outputId": "efb9f56b-a651-463c-8d1c-4e09b115613e"
      },
      "outputs": [
        {
          "name": "stdout",
          "output_type": "stream",
          "text": [
            "            FL_DATE OP_CARRIER  OP_CARRIER_FL_NUM ORIGIN DEST  CRS_DEP_TIME  \\\n",
            "1499179  2010-11-15         WN                489    MCO  FLL        1550.0   \n",
            "2681849  2011-02-01         CO                208    PDX  IAH        2350.0   \n",
            "7450641  2016-04-23         WN               3760    LAX  RNO        1940.0   \n",
            "7102482  2016-09-08         AA               2591    BOS  ORD        1630.0   \n",
            "1741494  2010-02-14         WN                921    PHX  AUS         905.0   \n",
            "\n",
            "         DEP_TIME  DEP_DELAY  TAXI_OUT  WHEELS_OFF  CRS_ARR_TIME  ARR_DELAY  \\\n",
            "1499179    1605.0       15.0       8.0      1613.0        1645.0        8.0   \n",
            "2681849    2341.0       -9.0      11.0      2352.0         537.0       -6.0   \n",
            "7450641    1939.0       -1.0      10.0      1949.0        2055.0       -3.0   \n",
            "7102482    1621.0       -9.0      26.0      1647.0        1824.0       -6.0   \n",
            "1741494     906.0        1.0      10.0       916.0        1215.0       -7.0   \n",
            "\n",
            "         CRS_ELAPSED_TIME  DISTANCE ARR_DELAY_Category  OP_CARRIER_CODIFICADO  \\\n",
            "1499179              55.0     178.0            On time              -0.037209   \n",
            "2681849             227.0    1825.0            On time               4.424527   \n",
            "7450641              75.0     391.0            On time              -0.037209   \n",
            "7102482             174.0     867.0            On time              -0.527374   \n",
            "1741494             130.0     872.0            On time              -0.037209   \n",
            "\n",
            "         ORIGIN_TARGET_COFIFICADO  DEST_TARGET_CODIFICADO  \n",
            "1499179                 -1.375019                0.478589  \n",
            "2681849                 -0.927204                0.876087  \n",
            "7450641                  0.753280                0.324739  \n",
            "7102482                 -2.245723               -2.305468  \n",
            "1741494                  1.279359               -0.385015  \n"
          ]
        }
      ],
      "source": [
        "print (datos.head())"
      ]
    },
    {
      "cell_type": "markdown",
      "metadata": {
        "id": "SxZSrveldNU3"
      },
      "source": [
        "Este nuevo análsis de las carcaterísticas de los datos y su distribución permiten identificar su comportamiento en la base de datos."
      ]
    },
    {
      "cell_type": "markdown",
      "metadata": {
        "id": "HpvdCOPTqMux"
      },
      "source": [
        "<div style=\"background-color: #dfe4ef; color: #616671; padding: 10px; border-radius: 15px; font-size: 8px; text-align:center\">\n",
        "  <h2>Nota: con el fin de afinar el modelo se unifican los procesamientos a los datos que mejoran las metricas de los modelos de clasificación en un sólo código.</h2>"
      ]
    },
    {
      "cell_type": "markdown",
      "metadata": {
        "id": "ZBmZvyz-dfBi"
      },
      "source": [
        "# PROCESAMIENTO\n",
        "### Normalización y limpieza de datos"
      ]
    },
    {
      "cell_type": "code",
      "execution_count": null,
      "metadata": {
        "colab": {
          "base_uri": "https://localhost:8080/"
        },
        "id": "SUfGceJhYQBA",
        "outputId": "28183879-6ef6-4dbc-e864-d717575b9588"
      },
      "outputs": [
        {
          "name": "stdout",
          "output_type": "stream",
          "text": [
            "ARR_DELAY_Category\n",
            "On time    0.333632\n",
            "Early      0.333632\n",
            "Delay      0.332736\n",
            "Name: proportion, dtype: float64\n",
            "Número de filas: 630413\n",
            "            FL_DATE OP_CARRIER  OP_CARRIER_FL_NUM ORIGIN DEST  CRS_DEP_TIME  \\\n",
            "1167680  2010-11-15         WN                489    MCO  FLL         950.0   \n",
            "2094980  2011-02-01         CO                208    PDX  IAH        1430.0   \n",
            "5807682  2016-04-23         WN               3760    LAX  RNO        1180.0   \n",
            "5533411  2016-09-08         AA               2591    BOS  ORD         990.0   \n",
            "1357679  2010-02-14         WN                921    PHX  AUS         545.0   \n",
            "\n",
            "         DEP_TIME  DEP_DELAY  TAXI_OUT  WHEELS_OFF  CRS_ARR_TIME  ARR_DELAY  \\\n",
            "1167680     965.0       15.0       8.0       973.0        1005.0        8.0   \n",
            "2094980    1421.0       -9.0      11.0      1432.0         337.0       -6.0   \n",
            "5807682    1179.0       -1.0      10.0      1189.0        1255.0       -3.0   \n",
            "5533411     981.0       -9.0      26.0      1007.0        1104.0       -6.0   \n",
            "1357679     546.0        1.0      10.0       556.0         735.0       -7.0   \n",
            "\n",
            "         CRS_ELAPSED_TIME  DISTANCE       PC1       PC2       PC3       PC4  \\\n",
            "1167680              55.0     178.0  1.454108 -1.558934  2.404221 -2.248645   \n",
            "2094980             227.0    1825.0  2.463485  1.748235 -1.213966  0.002324   \n",
            "5807682              75.0     391.0  2.681880 -1.188191 -0.056517 -0.516153   \n",
            "5533411             174.0     867.0  1.348759  0.765303 -0.130927  2.530632   \n",
            "1357679             130.0     872.0 -1.420800 -0.032502  0.201800 -0.990544   \n",
            "\n",
            "        ARR_DELAY_Category  \n",
            "1167680            On time  \n",
            "2094980            On time  \n",
            "5807682            On time  \n",
            "5533411            On time  \n",
            "1357679            On time  \n"
          ]
        }
      ],
      "source": [
        "from sklearn.decomposition import PCA\n",
        "from sklearn.preprocessing import StandardScaler\n",
        "import numpy as np\n",
        "import pandas as pd\n",
        "\n",
        "df = pd.read_csv('/content/drive/My Drive/train_airlines_delay_challenge (1).csv')\n",
        "df_limpio = df.drop_duplicates()\n",
        "\n",
        "def eliminar_outliers(df, columnas):\n",
        "    for columna in columnas:\n",
        "        Q1 = df[columna].quantile(0.25)\n",
        "        Q3 = df[columna].quantile(0.75)\n",
        "        IQR = Q3 - Q1\n",
        "        limite_inferior = Q1 - 1.5 * IQR\n",
        "        limite_superior = Q3 + 1.5 * IQR\n",
        "        df = df[(df[columna] >= limite_inferior) & (df[columna] <= limite_superior)]\n",
        "    return df\n",
        "\n",
        "columnas_outliers = ['ARR_DELAY', 'DEP_DELAY', 'TAXI_OUT']\n",
        "df_limpio = eliminar_outliers(df_limpio, columnas_outliers)\n",
        "\n",
        "X = df_limpio[['DEP_DELAY', 'ARR_DELAY', 'CRS_DEP_TIME', 'DISTANCE', 'CRS_ELAPSED_TIME', 'CRS_ARR_TIME', 'WHEELS_OFF', 'TAXI_OUT', 'DEP_TIME']]\n",
        "scaler = StandardScaler()\n",
        "X_scaled = scaler.fit_transform(X)\n",
        "\n",
        "pca = PCA(n_components=4)\n",
        "X_pca = pca.fit_transform(X_scaled)\n",
        "\n",
        "df_pca = pd.DataFrame(X_pca, columns=['PC1', 'PC2', 'PC3', 'PC4'])\n",
        "df_limpio = pd.concat([df_limpio.reset_index(drop=True), df_pca], axis=1)\n",
        "\n",
        "conditions = [\n",
        "    df_limpio['ARR_DELAY'] < -15,\n",
        "    df_limpio['ARR_DELAY'] > 15,\n",
        "    (df_limpio['ARR_DELAY'] >= -15) & (df_limpio['ARR_DELAY'] <= 15)\n",
        "]\n",
        "values = ['Early', 'Delay', 'On time']\n",
        "df_limpio['ARR_DELAY_Category'] = np.select(conditions, values)\n",
        "\n",
        "sample_size = int(len(df_limpio) * 0.03)\n",
        "\n",
        "df_on_time = df_limpio[df_limpio['ARR_DELAY_Category'] == 'On time']\n",
        "df_early = df_limpio[df_limpio['ARR_DELAY_Category'] == 'Early']\n",
        "df_delay = df_limpio[df_limpio['ARR_DELAY_Category'] == 'Delay']\n",
        "\n",
        "df_on_time_sample = df_on_time.sample(n=min(sample_size, len(df_on_time)), random_state=42)\n",
        "df_early_sample = df_early.sample(n=min(sample_size, len(df_early)), random_state=42)\n",
        "df_delay_sample = df_delay.sample(n=min(sample_size, len(df_delay)), random_state=42)\n",
        "\n",
        "datos = pd.concat([df_on_time_sample, df_early_sample, df_delay_sample])\n",
        "datos['CRS_DEP_TIME'] = (datos['CRS_DEP_TIME'] // 100) * 60 + (datos['CRS_DEP_TIME'] % 100)\n",
        "datos['DEP_TIME'] = (datos['DEP_TIME'] // 100) * 60 + (datos['DEP_TIME'] % 100)\n",
        "datos['WHEELS_OFF'] = (datos['WHEELS_OFF'] // 100) * 60 + (datos['WHEELS_OFF'] % 100)\n",
        "datos['CRS_ARR_TIME'] = (datos['CRS_ARR_TIME'] // 100) * 60 + (datos['CRS_ARR_TIME'] % 100)\n",
        "\n",
        "scaler = StandardScaler()\n",
        "X_scaled = scaler.fit_transform(X)\n",
        "print(datos['ARR_DELAY_Category'].value_counts(normalize=True))\n",
        "num_filas = len(datos)\n",
        "print(f'Número de filas: {num_filas}')\n",
        "print(datos.head())\n"
      ]
    },
    {
      "cell_type": "markdown",
      "metadata": {
        "id": "VbCizJ46--ey"
      },
      "source": [
        "# MODELOS DE INFERENCIA\n",
        "### 1. REGRESIÓN LOGÍSTICA"
      ]
    },
    {
      "cell_type": "code",
      "execution_count": null,
      "metadata": {
        "colab": {
          "base_uri": "https://localhost:8080/"
        },
        "id": "bI47vSNr_Avm",
        "outputId": "61706987-75cc-4964-806d-4bc460ed4617"
      },
      "outputs": [
        {
          "name": "stdout",
          "output_type": "stream",
          "text": [
            "Matriz de confusión:\n",
            "[[42214     0     0]\n",
            " [    0 41939     0]\n",
            " [  209     0 41721]]\n",
            "F1-score macro: 0.9983440516671241\n",
            "Sensibilidad (Recall): 0.9983385006757294\n",
            "Especificidad (macro): 0.9983385006757294\n"
          ]
        }
      ],
      "source": [
        "import pandas as pd\n",
        "from sklearn.model_selection import train_test_split\n",
        "from sklearn.preprocessing import StandardScaler, OneHotEncoder\n",
        "from sklearn.compose import ColumnTransformer\n",
        "from sklearn.pipeline import Pipeline\n",
        "from sklearn.linear_model import LogisticRegression\n",
        "from sklearn.metrics import classification_report, confusion_matrix\n",
        "\n",
        "X = datos.drop(columns=['ARR_DELAY_Category', 'FL_DATE', 'OP_CARRIER', 'ORIGIN', 'DEST'])\n",
        "y = datos['ARR_DELAY_Category']\n",
        "\n",
        "X_train, X_test, y_train, y_test = train_test_split(X, y, test_size=0.2, random_state=42)\n",
        "\n",
        "num_features = X_train.select_dtypes(include=['float64', 'int64']).columns\n",
        "cat_features = X_train.select_dtypes(include=['object']).columns\n",
        "\n",
        "preprocessor = ColumnTransformer(\n",
        "    transformers=[\n",
        "        ('num', StandardScaler(), num_features),\n",
        "        ('cat', OneHotEncoder(), cat_features)\n",
        "    ])\n",
        "\n",
        "pipeline = Pipeline(steps=[\n",
        "    ('preprocessor', preprocessor),\n",
        "    ('logistic', LogisticRegression(max_iter=3000))\n",
        "])\n",
        "\n",
        "pipeline.fit(X_train, y_train)\n",
        "\n",
        "y_pred = pipeline.predict(X_test)\n",
        "\n",
        "print(\"Matriz de confusión:\")\n",
        "print(confusion_matrix(y_test, y_pred))\n",
        "\n",
        "f1_macro = classification_report(y_test, y_pred, output_dict=True)['macro avg']['f1-score']\n",
        "print(f\"F1-score macro: {f1_macro}\")\n",
        "\n",
        "sensitivity = classification_report(y_test, y_pred, output_dict=True)['macro avg']['recall']\n",
        "print(f\"Sensibilidad (Recall): {sensitivity}\")\n",
        "\n",
        "cm = confusion_matrix(y_test, y_pred)\n",
        "specificity = cm.diagonal() / cm.sum(axis=1)\n",
        "specificity_macro = specificity.mean()\n",
        "print(f\"Especificidad (macro): {specificity_macro}\")\n",
        "\n",
        "def clasificar_nuevos_datos(nuevos_datos):\n",
        "    return pipeline.predict(nuevos_datos)"
      ]
    },
    {
      "cell_type": "markdown",
      "metadata": {
        "id": "eRUeecJ0b3Vb"
      },
      "source": [
        "### VALIDACIÓN CRUZADA"
      ]
    },
    {
      "cell_type": "code",
      "execution_count": null,
      "metadata": {
        "colab": {
          "base_uri": "https://localhost:8080/"
        },
        "id": "IGJLmny6WBRa",
        "outputId": "7cf5b8b1-0bd1-4dc8-8fb6-1911c6fa41c8"
      },
      "outputs": [
        {
          "name": "stdout",
          "output_type": "stream",
          "text": [
            "F1-scores para cada pliegue: [0.99821465 0.99824638 0.99815912 0.99816701 0.9981829 ]\n",
            "F1-score promedio: 0.9981940150915865 ± 3.2368786931060075e-05\n"
          ]
        }
      ],
      "source": [
        "from sklearn.model_selection import cross_val_score\n",
        "from sklearn.pipeline import Pipeline\n",
        "from sklearn.linear_model import LogisticRegression\n",
        "\n",
        "n_pliegues = 5\n",
        "\n",
        "pipeline = Pipeline(steps=[\n",
        "    ('preprocessor', preprocessor),\n",
        "    ('logistic', LogisticRegression(max_iter=3000))\n",
        "])\n",
        "\n",
        "scores = cross_val_score(pipeline, X, y, cv=n_pliegues, scoring='f1_macro')\n",
        "\n",
        "print(f\"F1-scores para cada pliegue: {scores}\")\n",
        "print(f\"F1-score promedio: {scores.mean()} ± {scores.std()}\")"
      ]
    },
    {
      "cell_type": "markdown",
      "metadata": {
        "id": "FPM3CMLtKrCk"
      },
      "source": [
        "### 2. RANDOM FOREST"
      ]
    },
    {
      "cell_type": "code",
      "execution_count": null,
      "metadata": {
        "colab": {
          "base_uri": "https://localhost:8080/"
        },
        "id": "HWNHVePN9kxD",
        "outputId": "ef18c043-6dfc-4588-c258-cc020499d4c0"
      },
      "outputs": [
        {
          "name": "stdout",
          "output_type": "stream",
          "text": [
            "Matriz de confusión:\n",
            "[[42199     0    15]\n",
            " [    0 41926    13]\n",
            " [   10     5 41915]]\n",
            "F1-score macro: 0.9996588581404993\n",
            "Sensibilidad (Recall): 0.9996589848489918\n",
            "Especificidad (macro): 0.9996589848489918\n"
          ]
        }
      ],
      "source": [
        "from sklearn.ensemble import RandomForestClassifier\n",
        "from sklearn.model_selection import train_test_split\n",
        "from sklearn.compose import ColumnTransformer\n",
        "from sklearn.preprocessing import OneHotEncoder\n",
        "from sklearn.metrics import classification_report, confusion_matrix\n",
        "from sklearn.pipeline import Pipeline\n",
        "\n",
        "X = datos.drop(columns=['ARR_DELAY_Category'])\n",
        "y = datos['ARR_DELAY_Category']\n",
        "\n",
        "X_train, X_test, y_train, y_test = train_test_split(X, y, test_size=0.2, random_state=42)\n",
        "\n",
        "num_features = X_train.select_dtypes(include=['float64', 'int64']).columns\n",
        "cat_features = X_train.select_dtypes(include=['object']).columns\n",
        "\n",
        "preprocessor = ColumnTransformer(\n",
        "    transformers=[\n",
        "        ('num', StandardScaler(), num_features),\n",
        "        ('cat', OneHotEncoder(handle_unknown='ignore'), cat_features)\n",
        "    ])\n",
        "\n",
        "pipeline = Pipeline(steps=[\n",
        "    ('preprocessor', preprocessor),\n",
        "    ('forest', RandomForestClassifier(class_weight='balanced', random_state=42))\n",
        "])\n",
        "\n",
        "pipeline.fit(X_train, y_train)\n",
        "\n",
        "y_pred = pipeline.predict(X_test)\n",
        "\n",
        "print(\"Matriz de confusión:\")\n",
        "print(confusion_matrix(y_test, y_pred))\n",
        "\n",
        "f1_macro = classification_report(y_test, y_pred, output_dict=True)['macro avg']['f1-score']\n",
        "print(f\"F1-score macro: {f1_macro}\")\n",
        "\n",
        "sensitivity = classification_report(y_test, y_pred, output_dict=True)['macro avg']['recall']\n",
        "print(f\"Sensibilidad (Recall): {sensitivity}\")\n",
        "\n",
        "cm = confusion_matrix(y_test, y_pred)\n",
        "specificity = cm.diagonal() / cm.sum(axis=1)\n",
        "specificity_macro = specificity.mean()\n",
        "print(f\"Especificidad (macro): {specificity_macro}\")\n",
        "\n",
        "def clasificar_nuevos_datos(nuevos_datos):\n",
        "    return pipeline.predict(nuevos_datos)\n"
      ]
    },
    {
      "cell_type": "markdown",
      "metadata": {
        "id": "aeMFus2DfIdk"
      },
      "source": [
        "### VALIDACIÓN CRUZADA"
      ]
    },
    {
      "cell_type": "code",
      "execution_count": null,
      "metadata": {
        "colab": {
          "base_uri": "https://localhost:8080/"
        },
        "id": "yiMQbO12fHs3",
        "outputId": "2ae5458a-70c3-4b92-b4fd-bbb0ae3b0c2d"
      },
      "outputs": [
        {
          "name": "stdout",
          "output_type": "stream",
          "text": [
            "Matriz de confusión:\n",
            "[[209673      0     88]\n",
            " [     0 210272     54]\n",
            " [   102     24 210200]]\n",
            "F1-score macro: 0.9995748656962804\n",
            "Accuracy: 0.9995748818631596\n",
            "Sensibilidad (Recall): 0.9995748868713816\n"
          ]
        }
      ],
      "source": [
        "from sklearn.ensemble import RandomForestClassifier\n",
        "from sklearn.model_selection import cross_val_predict\n",
        "from sklearn.metrics import confusion_matrix, f1_score, accuracy_score, recall_score\n",
        "\n",
        "n_pliegues = 5\n",
        "\n",
        "pipeline = Pipeline(steps=[\n",
        "    ('preprocessor', preprocessor),\n",
        "    ('RandomForest', RandomForestClassifier(n_estimators=100, random_state=42))\n",
        "])\n",
        "\n",
        "y_pred = cross_val_predict(pipeline, X, y, cv=n_pliegues)\n",
        "\n",
        "f1 = f1_score(y, y_pred, average='macro')\n",
        "accuracy = accuracy_score(y, y_pred)\n",
        "sensitivity = recall_score(y, y_pred, average='macro')\n",
        "cm = confusion_matrix(y, y_pred)\n",
        "\n",
        "print(\"Matriz de confusión:\")\n",
        "print(cm)\n",
        "print(f\"F1-score macro: {f1}\")\n",
        "print(f\"Accuracy: {accuracy}\")\n",
        "print(f\"Sensibilidad (Recall): {sensitivity}\")"
      ]
    },
    {
      "cell_type": "markdown",
      "metadata": {
        "id": "SnKjjVY0Ayy4"
      },
      "source": [
        "### 3. Máquinas de soporte vectorial (SVM)"
      ]
    },
    {
      "cell_type": "code",
      "execution_count": null,
      "metadata": {
        "colab": {
          "base_uri": "https://localhost:8080/"
        },
        "id": "Z4TYFssLtGO_",
        "outputId": "5634f0f5-020d-4366-8e44-f3644b1c7b6b"
      },
      "outputs": [
        {
          "name": "stdout",
          "output_type": "stream",
          "text": [
            "Matriz de confusión:\n",
            "[[42214     0     0]\n",
            " [    0 41939     0]\n",
            " [  284   167 41479]]\n",
            "F1-score macro: 0.9964177810768379\n",
            "Sensibilidad (Recall): 0.9964146593528898\n",
            "Especificidad (macro): 0.9964146593528898\n"
          ]
        }
      ],
      "source": [
        "import pandas as pd\n",
        "from sklearn.model_selection import train_test_split\n",
        "from sklearn.preprocessing import StandardScaler, OneHotEncoder\n",
        "from sklearn.compose import ColumnTransformer\n",
        "from sklearn.pipeline import Pipeline\n",
        "from sklearn.svm import SVC\n",
        "from sklearn.metrics import classification_report, confusion_matrix\n",
        "\n",
        "X = datos.drop(columns=['ARR_DELAY_Category', 'FL_DATE', 'OP_CARRIER', 'ORIGIN', 'DEST'])\n",
        "y = datos['ARR_DELAY_Category']\n",
        "\n",
        "X_train, X_test, y_train, y_test = train_test_split(X, y, test_size=0.2, random_state=42)\n",
        "\n",
        "num_features = X_train.select_dtypes(include=['float64', 'int64']).columns\n",
        "cat_features = X_train.select_dtypes(include=['object']).columns\n",
        "\n",
        "preprocessor = ColumnTransformer(\n",
        "    transformers=[\n",
        "        ('num', StandardScaler(), num_features),\n",
        "        ('cat', OneHotEncoder(), cat_features)\n",
        "    ])\n",
        "\n",
        "pipeline = Pipeline(steps=[\n",
        "    ('preprocessor', preprocessor),\n",
        "    ('svm', SVC())\n",
        "])\n",
        "\n",
        "pipeline.fit(X_train, y_train)\n",
        "\n",
        "y_pred = pipeline.predict(X_test)\n",
        "\n",
        "print(\"Matriz de confusión:\")\n",
        "print(confusion_matrix(y_test, y_pred))\n",
        "\n",
        "f1_macro = classification_report(y_test, y_pred, output_dict=True)['macro avg']['f1-score']\n",
        "print(f\"F1-score macro: {f1_macro}\")\n",
        "\n",
        "sensitivity = classification_report(y_test, y_pred, output_dict=True)['macro avg']['recall']\n",
        "print(f\"Sensibilidad (Recall): {sensitivity}\")\n",
        "\n",
        "cm = confusion_matrix(y_test, y_pred)\n",
        "specificity = cm.diagonal() / cm.sum(axis=1)\n",
        "specificity_macro = specificity.mean()\n",
        "print(f\"Especificidad (macro): {specificity_macro}\")\n",
        "\n",
        "def clasificar_nuevos_datos(nuevos_datos):\n",
        "    return pipeline.predict(nuevos_datos)\n",
        "\n",
        "\n"
      ]
    },
    {
      "cell_type": "markdown",
      "metadata": {
        "id": "37VjSd81A2uU"
      },
      "source": [
        "### 4. Aprendizaje basado en árboles de decisión (C4.5)"
      ]
    },
    {
      "cell_type": "code",
      "execution_count": null,
      "metadata": {
        "colab": {
          "base_uri": "https://localhost:8080/"
        },
        "id": "yotqt4siAKlV",
        "outputId": "36f2f835-e194-490c-f187-d32bc39ff1cb"
      },
      "outputs": [
        {
          "name": "stdout",
          "output_type": "stream",
          "text": [
            "Matriz de confusión:\n",
            "[[42214     0     0]\n",
            " [    0 41939     0]\n",
            " [    0     0 41930]]\n",
            "F1-score macro: 1.0\n",
            "Sensibilidad (Recall): 1.0\n",
            "Especificidad (macro): 1.0\n"
          ]
        }
      ],
      "source": [
        "import pandas as pd\n",
        "from sklearn.model_selection import train_test_split\n",
        "from sklearn.preprocessing import StandardScaler, OneHotEncoder\n",
        "from sklearn.compose import ColumnTransformer\n",
        "from sklearn.pipeline import Pipeline\n",
        "from sklearn.tree import DecisionTreeClassifier\n",
        "from sklearn.metrics import classification_report, confusion_matrix\n",
        "\n",
        "X = datos.drop(columns=['ARR_DELAY_Category', 'FL_DATE', 'OP_CARRIER', 'ORIGIN', 'DEST'])\n",
        "y = datos['ARR_DELAY_Category']\n",
        "\n",
        "X_train, X_test, y_train, y_test = train_test_split(X, y, test_size=0.2, random_state=42)\n",
        "\n",
        "num_features = X_train.select_dtypes(include=['float64', 'int64']).columns\n",
        "cat_features = X_train.select_dtypes(include=['object']).columns\n",
        "\n",
        "preprocessor = ColumnTransformer(\n",
        "    transformers=[\n",
        "        ('num', StandardScaler(), num_features),\n",
        "        ('cat', OneHotEncoder(), cat_features)\n",
        "    ])\n",
        "\n",
        "pipeline = Pipeline(steps=[\n",
        "    ('preprocessor', preprocessor),\n",
        "    ('tree', DecisionTreeClassifier(criterion='entropy'))\n",
        "])\n",
        "\n",
        "pipeline.fit(X_train, y_train)\n",
        "\n",
        "y_pred = pipeline.predict(X_test)\n",
        "\n",
        "print(\"Matriz de confusión:\")\n",
        "print(confusion_matrix(y_test, y_pred))\n",
        "\n",
        "f1_macro = classification_report(y_test, y_pred, output_dict=True)['macro avg']['f1-score']\n",
        "print(f\"F1-score macro: {f1_macro}\")\n",
        "\n",
        "sensitivity = classification_report(y_test, y_pred, output_dict=True)['macro avg']['recall']\n",
        "print(f\"Sensibilidad (Recall): {sensitivity}\")\n",
        "\n",
        "cm = confusion_matrix(y_test, y_pred)\n",
        "specificity = cm.diagonal() / cm.sum(axis=1)\n",
        "specificity_macro = specificity.mean()\n",
        "print(f\"Especificidad (macro): {specificity_macro}\")\n",
        "\n",
        "def clasificar_nuevos_datos(nuevos_datos):\n",
        "    return pipeline.predict(nuevos_datos)\n",
        "\n"
      ]
    },
    {
      "cell_type": "markdown",
      "metadata": {
        "id": "qzQySfT-hiRw"
      },
      "source": [
        "### VALIDACIÓN CRUZADA"
      ]
    },
    {
      "cell_type": "code",
      "execution_count": null,
      "metadata": {
        "colab": {
          "base_uri": "https://localhost:8080/"
        },
        "id": "X6f9B5xwhPFz",
        "outputId": "4e2e3d16-7018-4978-ec8b-35a77363862b"
      },
      "outputs": [
        {
          "name": "stdout",
          "output_type": "stream",
          "text": [
            "Matriz de confusión:\n",
            "[[209761      0      0]\n",
            " [     0 210326      0]\n",
            " [     0      0 210326]]\n",
            "F1-score macro: 1.0\n",
            "Accuracy: 1.0\n",
            "Sensibilidad (Recall): 1.0\n"
          ]
        }
      ],
      "source": [
        "from sklearn.model_selection import cross_val_predict\n",
        "from sklearn.metrics import confusion_matrix, f1_score, accuracy_score, recall_score\n",
        "from sklearn.pipeline import Pipeline\n",
        "from sklearn.tree import DecisionTreeClassifier\n",
        "\n",
        "n_pliegues = 5\n",
        "\n",
        "pipeline = Pipeline(steps=[\n",
        "    ('preprocessor', preprocessor),\n",
        "    ('tree', DecisionTreeClassifier(criterion='entropy'))\n",
        "])\n",
        "\n",
        "y_pred = cross_val_predict(pipeline, X, y, cv=n_pliegues)\n",
        "\n",
        "f1 = f1_score(y, y_pred, average='macro')\n",
        "accuracy = accuracy_score(y, y_pred)\n",
        "sensitivity = recall_score(y, y_pred, average='macro')\n",
        "cm = confusion_matrix(y, y_pred)\n",
        "\n",
        "print(\"Matriz de confusión:\")\n",
        "print(cm)\n",
        "print(f\"F1-score macro: {f1}\")\n",
        "print(f\"Accuracy: {accuracy}\")\n",
        "print(f\"Sensibilidad (Recall): {sensitivity}\")"
      ]
    },
    {
      "cell_type": "markdown",
      "metadata": {
        "id": "wh-xCRCRENYt"
      },
      "source": [
        "### ¡RIESGO DE SOBREAJUSTE!"
      ]
    },
    {
      "cell_type": "markdown",
      "metadata": {
        "id": "iYYXGxl4E6i6"
      },
      "source": [
        "### 6. Aprendizaje Bayesiano"
      ]
    },
    {
      "cell_type": "code",
      "execution_count": null,
      "metadata": {
        "colab": {
          "base_uri": "https://localhost:8080/"
        },
        "id": "vWwIeUsPEV-E",
        "outputId": "9498aa1b-8a00-4ad9-c55e-d46cb60c57aa"
      },
      "outputs": [
        {
          "name": "stdout",
          "output_type": "stream",
          "text": [
            "Matriz de confusión:\n",
            "[[ 8353     0   107]\n",
            " [    0 41169   867]\n",
            " [ 1301  3846 36878]]\n",
            "F1-score macro: 0.9304996906934075\n",
            "Sensibilidad (Recall): 0.9480841166714282\n",
            "Especificidad (macro): 0.9480841166714282\n"
          ]
        }
      ],
      "source": [
        "import pandas as pd\n",
        "from sklearn.model_selection import train_test_split\n",
        "from sklearn.preprocessing import StandardScaler, OneHotEncoder\n",
        "from sklearn.compose import ColumnTransformer\n",
        "from sklearn.pipeline import Pipeline\n",
        "from sklearn.naive_bayes import GaussianNB\n",
        "from sklearn.metrics import classification_report, confusion_matrix\n",
        "\n",
        "X = datos.drop(columns=['ARR_DELAY_Category', 'FL_DATE', 'OP_CARRIER', 'ORIGIN', 'DEST'])\n",
        "y = datos['ARR_DELAY_Category']\n",
        "\n",
        "X_train, X_test, y_train, y_test = train_test_split(X, y, test_size=0.2, random_state=42)\n",
        "\n",
        "num_features = X_train.select_dtypes(include=['float64', 'int64']).columns\n",
        "cat_features = X_train.select_dtypes(include=['object']).columns\n",
        "\n",
        "preprocessor = ColumnTransformer(\n",
        "    transformers=[\n",
        "        ('num', StandardScaler(), num_features),\n",
        "        ('cat', OneHotEncoder(), cat_features)\n",
        "    ])\n",
        "\n",
        "pipeline = Pipeline(steps=[\n",
        "    ('preprocessor', preprocessor),\n",
        "    ('naive_bayes', GaussianNB())\n",
        "])\n",
        "\n",
        "pipeline.fit(X_train, y_train)\n",
        "\n",
        "y_pred = pipeline.predict(X_test)\n",
        "\n",
        "print(\"Matriz de confusión:\")\n",
        "print(confusion_matrix(y_test, y_pred))\n",
        "\n",
        "f1_macro = classification_report(y_test, y_pred, output_dict=True)['macro avg']['f1-score']\n",
        "print(f\"F1-score macro: {f1_macro}\")\n",
        "\n",
        "sensitivity = classification_report(y_test, y_pred, output_dict=True)['macro avg']['recall']\n",
        "print(f\"Sensibilidad (Recall): {sensitivity}\")\n",
        "\n",
        "cm = confusion_matrix(y_test, y_pred)\n",
        "specificity = cm.diagonal() / cm.sum(axis=1)\n",
        "specificity_macro = specificity.mean()\n",
        "print(f\"Especificidad (macro): {specificity_macro}\")\n",
        "\n",
        "def clasificar_nuevos_datos(nuevos_datos):\n",
        "    return pipeline.predict(nuevos_datos)"
      ]
    },
    {
      "cell_type": "markdown",
      "metadata": {
        "id": "grbwWHbJFxdA"
      },
      "source": [
        "### 7. Aprendizaje basado en instancias (KNN - K-Nearest Neighbors)"
      ]
    },
    {
      "cell_type": "code",
      "execution_count": null,
      "metadata": {
        "colab": {
          "base_uri": "https://localhost:8080/"
        },
        "id": "3XeRoGRmFn1S",
        "outputId": "58300123-a35f-46e8-d45a-0225237ad7c2"
      },
      "outputs": [
        {
          "name": "stdout",
          "output_type": "stream",
          "text": [
            "Matriz de confusión:\n",
            "[[ 8236     0   224]\n",
            " [    0 41422   614]\n",
            " [  588  2550 38887]]\n",
            "F1-score macro: 0.955865590999669\n",
            "Sensibilidad (Recall): 0.9614153638364639\n",
            "Especificidad (macro): 0.9614153638364639\n"
          ]
        }
      ],
      "source": [
        "import pandas as pd\n",
        "from sklearn.model_selection import train_test_split\n",
        "from sklearn.preprocessing import StandardScaler, OneHotEncoder\n",
        "from sklearn.compose import ColumnTransformer\n",
        "from sklearn.pipeline import Pipeline\n",
        "from sklearn.neighbors import KNeighborsClassifier\n",
        "from sklearn.metrics import classification_report, confusion_matrix\n",
        "\n",
        "\n",
        "X = datos.drop(columns=['ARR_DELAY_Category', 'FL_DATE', 'OP_CARRIER', 'ORIGIN', 'DEST'])\n",
        "y = datos['ARR_DELAY_Category']\n",
        "\n",
        "X_train, X_test, y_train, y_test = train_test_split(X, y, test_size=0.2, random_state=42)\n",
        "\n",
        "num_features = X_train.select_dtypes(include=['float64', 'int64']).columns\n",
        "cat_features = X_train.select_dtypes(include=['object']).columns\n",
        "\n",
        "preprocessor = ColumnTransformer(\n",
        "    transformers=[\n",
        "        ('num', StandardScaler(), num_features),\n",
        "        ('cat', OneHotEncoder(), cat_features)\n",
        "    ])\n",
        "\n",
        "pipeline = Pipeline(steps=[\n",
        "    ('preprocessor', preprocessor),\n",
        "    ('knn', KNeighborsClassifier(n_neighbors=5))\n",
        "])\n",
        "\n",
        "pipeline.fit(X_train, y_train)\n",
        "\n",
        "y_pred = pipeline.predict(X_test)\n",
        "\n",
        "print(\"Matriz de confusión:\")\n",
        "print(confusion_matrix(y_test, y_pred))\n",
        "\n",
        "f1_macro = classification_report(y_test, y_pred, output_dict=True)['macro avg']['f1-score']\n",
        "print(f\"F1-score macro: {f1_macro}\")\n",
        "\n",
        "sensitivity = classification_report(y_test, y_pred, output_dict=True)['macro avg']['recall']\n",
        "print(f\"Sensibilidad (Recall): {sensitivity}\")\n",
        "\n",
        "cm = confusion_matrix(y_test, y_pred)\n",
        "specificity = cm.diagonal() / cm.sum(axis=1)\n",
        "specificity_macro = specificity.mean()\n",
        "print(f\"Especificidad (macro): {specificity_macro}\")\n",
        "\n",
        "def clasificar_nuevos_datos(nuevos_datos):\n",
        "    return pipeline.predict(nuevos_datos)\n"
      ]
    },
    {
      "cell_type": "markdown",
      "metadata": {
        "id": "KScitMtPsjAD"
      },
      "source": [
        "### Gráfico de rendimiento del modelo KNN"
      ]
    },
    {
      "cell_type": "code",
      "execution_count": null,
      "metadata": {
        "colab": {
          "base_uri": "https://localhost:8080/",
          "height": 564
        },
        "id": "r1vKocfGGsFU",
        "outputId": "ae72180c-5800-40c3-c7be-59a7e446cc8c"
      },
      "outputs": [
        {
          "data": {
            "image/png": "[encoded data removed]",
            "text/plain": [
              "<Figure size 1000x600 with 1 Axes>"
            ]
          },
          "metadata": {},
          "output_type": "display_data"
        }
      ],
      "source": [
        "import pandas as pd\n",
        "import numpy as np\n",
        "import matplotlib.pyplot as plt\n",
        "from sklearn.model_selection import train_test_split\n",
        "from sklearn.preprocessing import StandardScaler, OneHotEncoder\n",
        "from sklearn.compose import ColumnTransformer\n",
        "from sklearn.pipeline import Pipeline\n",
        "from sklearn.neighbors import KNeighborsClassifier\n",
        "from sklearn.metrics import f1_score\n",
        "\n",
        "X = datos.drop(columns=['ARR_DELAY_Category', 'FL_DATE', 'OP_CARRIER', 'ORIGIN', 'DEST'])\n",
        "y = datos['ARR_DELAY_Category']\n",
        "\n",
        "X_train, X_test, y_train, y_test = train_test_split(X, y, test_size=0.2, random_state=42)\n",
        "\n",
        "num_features = X_train.select_dtypes(include=['float64', 'int64']).columns\n",
        "cat_features = X_train.select_dtypes(include=['object']).columns\n",
        "\n",
        "preprocessor = ColumnTransformer(\n",
        "    transformers=[\n",
        "        ('num', StandardScaler(), num_features),\n",
        "        ('cat', OneHotEncoder(), cat_features)\n",
        "    ])\n",
        "\n",
        "k_values = range(1, 21)\n",
        "f1_scores = []\n",
        "\n",
        "for k in k_values:\n",
        "    pipeline = Pipeline(steps=[\n",
        "        ('preprocessor', preprocessor),\n",
        "        ('knn', KNeighborsClassifier(n_neighbors=k))\n",
        "    ])\n",
        "\n",
        "    pipeline.fit(X_train, y_train)\n",
        "\n",
        "    y_pred = pipeline.predict(X_test)\n",
        "    f1 = f1_score(y_test, y_pred, average='macro')\n",
        "    f1_scores.append(f1)\n",
        "\n",
        "plt.figure(figsize=(10, 6))\n",
        "plt.plot(k_values, f1_scores, marker='o')\n",
        "plt.title('Rendimiento de KNN en función de k')\n",
        "plt.xlabel('Número de vecinos (k)')\n",
        "plt.ylabel('F1-score (macro)')\n",
        "plt.xticks(k_values)\n",
        "plt.grid()\n",
        "plt.show()\n"
      ]
    },
    {
      "cell_type": "markdown",
      "metadata": {
        "id": "TuZwaE99suIv"
      },
      "source": [
        "### 8. Gradient Boosting"
      ]
    },
    {
      "cell_type": "code",
      "execution_count": null,
      "metadata": {
        "colab": {
          "base_uri": "https://localhost:8080/"
        },
        "id": "aZJiRI6wss8N",
        "outputId": "f3c2122d-8034-4cf3-bc26-91401f2fd975"
      },
      "outputs": [
        {
          "name": "stdout",
          "output_type": "stream",
          "text": [
            "Matriz de confusión:\n",
            "[[42214     0     0]\n",
            " [    0 41939     0]\n",
            " [    0     0 41930]]\n",
            "F1-score macro: 1.0\n",
            "Sensibilidad (Recall): 1.0\n",
            "Especificidad (macro): 1.0\n"
          ]
        }
      ],
      "source": [
        "import pandas as pd\n",
        "from sklearn.model_selection import train_test_split\n",
        "from sklearn.preprocessing import StandardScaler, OneHotEncoder\n",
        "from sklearn.compose import ColumnTransformer\n",
        "from sklearn.pipeline import Pipeline\n",
        "from sklearn.ensemble import GradientBoostingClassifier\n",
        "from sklearn.metrics import classification_report, confusion_matrix\n",
        "\n",
        "X = datos.drop(columns=['ARR_DELAY_Category', 'FL_DATE', 'OP_CARRIER', 'ORIGIN', 'DEST'])\n",
        "y = datos['ARR_DELAY_Category']\n",
        "\n",
        "X_train, X_test, y_train, y_test = train_test_split(X, y, test_size=0.2, random_state=42)\n",
        "\n",
        "num_features = X_train.select_dtypes(include=['float64', 'int64']).columns\n",
        "cat_features = X_train.select_dtypes(include=['object']).columns\n",
        "\n",
        "preprocessor = ColumnTransformer(\n",
        "    transformers=[\n",
        "        ('num', StandardScaler(), num_features),\n",
        "        ('cat', OneHotEncoder(), cat_features)\n",
        "    ])\n",
        "\n",
        "pipeline = Pipeline(steps=[\n",
        "    ('preprocessor', preprocessor),\n",
        "    ('gradient_boosting', GradientBoostingClassifier(n_estimators=100, learning_rate=0.1, random_state=42))\n",
        "])\n",
        "\n",
        "pipeline.fit(X_train, y_train)\n",
        "\n",
        "y_pred = pipeline.predict(X_test)\n",
        "\n",
        "print(\"Matriz de confusión:\")\n",
        "print(confusion_matrix(y_test, y_pred))\n",
        "\n",
        "f1_macro = classification_report(y_test, y_pred, output_dict=True)['macro avg']['f1-score']\n",
        "print(f\"F1-score macro: {f1_macro}\")\n",
        "\n",
        "sensitivity = classification_report(y_test, y_pred, output_dict=True)['macro avg']['recall']\n",
        "print(f\"Sensibilidad (Recall): {sensitivity}\")\n",
        "\n",
        "cm = confusion_matrix(y_test, y_pred)\n",
        "specificity = cm.diagonal() / cm.sum(axis=1)\n",
        "specificity_macro = specificity.mean()\n",
        "print(f\"Especificidad (macro): {specificity_macro}\")\n",
        "\n",
        "def clasificar_nuevos_datos(nuevos_datos):\n",
        "    return pipeline.predict(nuevos_datos)"
      ]
    },
    {
      "cell_type": "markdown",
      "metadata": {
        "id": "chqLRh6TMkZ9"
      },
      "source": [
        "#### RIESGO DE SOBREAJUSTE"
      ]
    },
    {
      "cell_type": "code",
      "execution_count": null,
      "metadata": {
        "id": "zIneAvhlsPqE"
      },
      "outputs": [],
      "source": [
        "from sklearn.model_selection import cross_val_score\n",
        "from sklearn.ensemble import GradientBoostingClassifier\n",
        "from sklearn.pipeline import Pipeline\n",
        "from sklearn.compose import ColumnTransformer\n",
        "from sklearn.preprocessing import StandardScaler, OneHotEncoder\n",
        "\n",
        "X = datos.drop(columns=['ARR_DELAY_Category', 'FL_DATE', 'OP_CARRIER', 'ORIGIN', 'DEST'])\n",
        "y = datos['ARR_DELAY_Category']\n",
        "\n",
        "num_features = X.select_dtypes(include=['float64', 'int64']).columns\n",
        "cat_features = X.select_dtypes(include=['object']).columns\n",
        "\n",
        "preprocessor = ColumnTransformer(\n",
        "    transformers=[\n",
        "        ('num', StandardScaler(), num_features),\n",
        "        ('cat', OneHotEncoder(), cat_features)\n",
        "    ])\n",
        "pipeline = Pipeline(steps=[\n",
        "    ('preprocessor', preprocessor),\n",
        "    ('gbc', GradientBoostingClassifier(n_estimators=100, learning_rate=0.1, max_depth=3))\n",
        "])\n",
        "from sklearn.model_selection import cross_val_score\n",
        "\n",
        "n_pliegues = 5\n",
        "\n",
        "f1_scores = cross_val_score(pipeline, X, y, cv=n_pliegues, scoring='f1_macro')\n",
        "\n",
        "print(f\"F1-scores por pliegue: {f1_scores}\")\n",
        "print(f\"F1-score promedio: {f1_scores.mean()}\")\n",
        "from sklearn.model_selection import cross_val_predict\n",
        "from sklearn.metrics import recall_score, confusion_matrix\n",
        "\n",
        "y_pred = cross_val_predict(pipeline, X, y, cv=n_pliegues)\n",
        "\n",
        "sensitivity = recall_score(y, y_pred, average='macro')\n",
        "\n",
        "cm = confusion_matrix(y, y_pred)\n",
        "\n",
        "print(f\"Sensibilidad (Recall): {sensitivity}\")\n",
        "print(\"Matriz de confusión:\")\n",
        "print(cm)\n"
      ]
    },
    {
      "cell_type": "markdown",
      "metadata": {
        "id": "lWCknmqrGndr"
      },
      "source": [
        "### 9. Regresión lineal"
      ]
    },
    {
      "cell_type": "code",
      "execution_count": null,
      "metadata": {
        "colab": {
          "base_uri": "https://localhost:8080/"
        },
        "id": "WePG02QAK2vM",
        "outputId": "e1df06d8-ca90-4bf4-cf91-05ed09bb2896"
      },
      "outputs": [
        {
          "name": "stdout",
          "output_type": "stream",
          "text": [
            "Mean Squared Error: 0.2662823895214786\n",
            "R-squared: 0.9992690478604519\n"
          ]
        }
      ],
      "source": [
        "import pandas as pd\n",
        "from sklearn.model_selection import train_test_split\n",
        "from sklearn.preprocessing import StandardScaler, OneHotEncoder\n",
        "from sklearn.compose import ColumnTransformer\n",
        "from sklearn.pipeline import Pipeline\n",
        "from sklearn.linear_model import Lasso\n",
        "from sklearn.metrics import mean_squared_error, r2_score\n",
        "\n",
        "X = datos.drop(columns=['ARR_DELAY', 'FL_DATE', 'OP_CARRIER', 'ORIGIN', 'DEST'])\n",
        "y = datos['ARR_DELAY']\n",
        "\n",
        "X_train, X_test, y_train, y_test = train_test_split(X, y, test_size=0.2, random_state=42)\n",
        "\n",
        "num_features = X_train.select_dtypes(include=['float64', 'int64']).columns\n",
        "cat_features = X_train.select_dtypes(include=['object']).columns\n",
        "\n",
        "preprocessor = ColumnTransformer(\n",
        "    transformers=[\n",
        "        ('num', StandardScaler(), num_features),\n",
        "        ('cat', OneHotEncoder(), cat_features)\n",
        "    ])\n",
        "\n",
        "pipeline = Pipeline(steps=[\n",
        "    ('preprocessor', preprocessor),\n",
        "    ('lasso', Lasso(alpha=0.1, max_iter=10000))\n",
        "])\n",
        "\n",
        "pipeline.fit(X_train, y_train)\n",
        "\n",
        "y_pred = pipeline.predict(X_test)\n",
        "\n",
        "mse = mean_squared_error(y_test, y_pred)\n",
        "r2 = r2_score(y_test, y_pred)\n",
        "\n",
        "print(f\"Mean Squared Error: {mse}\")\n",
        "print(f\"R-squared: {r2}\")\n",
        "\n",
        "def predecir_nuevos_datos(nuevos_datos):\n",
        "    return pipeline.predict(nuevos_datos)"
      ]
    },
    {
      "cell_type": "markdown",
      "metadata": {
        "id": "lEfLdk1OMxS9"
      },
      "source": [
        "### 10. Bootstrap Aggregating"
      ]
    },
    {
      "cell_type": "code",
      "execution_count": null,
      "metadata": {
        "colab": {
          "base_uri": "https://localhost:8080/"
        },
        "id": "cFK2jqgoRFMo",
        "outputId": "8a533115-3726-4923-cdd2-1bef4995f4c5"
      },
      "outputs": [
        {
          "name": "stdout",
          "output_type": "stream",
          "text": [
            "Matriz de confusión:\n",
            "[[42214     0     0]\n",
            " [    0 41939     0]\n",
            " [    0     0 41930]]\n",
            "F1-score macro: 1.0\n",
            "Sensibilidad (Recall): 1.0\n",
            "Especificidad (macro): 1.0\n"
          ]
        }
      ],
      "source": [
        "import pandas as pd\n",
        "from sklearn.model_selection import train_test_split\n",
        "from sklearn.preprocessing import StandardScaler, OneHotEncoder\n",
        "from sklearn.compose import ColumnTransformer\n",
        "from sklearn.pipeline import Pipeline\n",
        "from sklearn.ensemble import BaggingClassifier\n",
        "from sklearn.tree import DecisionTreeClassifier\n",
        "from sklearn.metrics import classification_report, confusion_matrix\n",
        "\n",
        "X = datos.drop(columns=['ARR_DELAY_Category', 'FL_DATE', 'OP_CARRIER', 'ORIGIN', 'DEST'])\n",
        "y = datos['ARR_DELAY_Category']\n",
        "\n",
        "X_train, X_test, y_train, y_test = train_test_split(X, y, test_size=0.2, random_state=42)\n",
        "\n",
        "num_features = X_train.select_dtypes(include=['float64', 'int64']).columns\n",
        "cat_features = X_train.select_dtypes(include=['object']).columns\n",
        "\n",
        "preprocessor = ColumnTransformer(\n",
        "    transformers=[\n",
        "        ('num', StandardScaler(), num_features),\n",
        "        ('cat', OneHotEncoder(), cat_features)\n",
        "    ])\n",
        "\n",
        "estimator = DecisionTreeClassifier(criterion='entropy', random_state=42)\n",
        "bagging = BaggingClassifier(estimator=estimator, n_estimators=50, random_state=42)\n",
        "\n",
        "pipeline = Pipeline(steps=[\n",
        "    ('preprocessor', preprocessor),\n",
        "    ('bagging', bagging)\n",
        "])\n",
        "\n",
        "pipeline.fit(X_train, y_train)\n",
        "\n",
        "y_pred = pipeline.predict(X_test)\n",
        "\n",
        "print(\"Matriz de confusión:\")\n",
        "print(confusion_matrix(y_test, y_pred))\n",
        "\n",
        "f1_macro = classification_report(y_test, y_pred, output_dict=True)['macro avg']['f1-score']\n",
        "print(f\"F1-score macro: {f1_macro}\")\n",
        "\n",
        "sensitivity = classification_report(y_test, y_pred, output_dict=True)['macro avg']['recall']\n",
        "print(f\"Sensibilidad (Recall): {sensitivity}\")\n",
        "\n",
        "cm = confusion_matrix(y_test, y_pred)\n",
        "specificity = cm.diagonal() / cm.sum(axis=1)\n",
        "specificity_macro = specificity.mean()\n",
        "print(f\"Especificidad (macro): {specificity_macro}\")\n",
        "\n",
        "def clasificar_nuevos_datos(nuevos_datos):\n",
        "    return pipeline.predict(nuevos_datos)"
      ]
    },
    {
      "cell_type": "code",
      "execution_count": null,
      "metadata": {
        "colab": {
          "base_uri": "https://localhost:8080/"
        },
        "id": "xtHgCUQlMz1w",
        "outputId": "aa54ccf6-8793-43ce-a18e-4044e12c7c13"
      },
      "outputs": [
        {
          "name": "stdout",
          "output_type": "stream",
          "text": [
            "Matriz de confusión:\n",
            "[[42214     0     0]\n",
            " [    0 41939     0]\n",
            " [  223     0 41707]]\n",
            "F1-score macro: 0.9982331234045759\n",
            "Sensibilidad (Recall): 0.9982272040702759\n",
            "Especificidad (macro): 0.9982272040702759\n"
          ]
        }
      ],
      "source": [
        "import pandas as pd\n",
        "from sklearn.model_selection import train_test_split\n",
        "from sklearn.preprocessing import StandardScaler, OneHotEncoder\n",
        "from sklearn.compose import ColumnTransformer\n",
        "from sklearn.pipeline import Pipeline\n",
        "from sklearn.ensemble import BaggingClassifier\n",
        "from sklearn.linear_model import LogisticRegression\n",
        "from sklearn.metrics import classification_report, confusion_matrix\n",
        "\n",
        "X = datos.drop(columns=['ARR_DELAY_Category', 'FL_DATE', 'OP_CARRIER', 'ORIGIN', 'DEST'])\n",
        "y = datos['ARR_DELAY_Category']\n",
        "\n",
        "X_train, X_test, y_train, y_test = train_test_split(X, y, test_size=0.2, random_state=42)\n",
        "\n",
        "num_features = X_train.select_dtypes(include=['float64', 'int64']).columns\n",
        "cat_features = X_train.select_dtypes(include=['object']).columns\n",
        "\n",
        "preprocessor = ColumnTransformer(\n",
        "    transformers=[\n",
        "        ('num', StandardScaler(), num_features),\n",
        "        ('cat', OneHotEncoder(), cat_features)\n",
        "    ])\n",
        "\n",
        "estimator = LogisticRegression(max_iter=3000, random_state=42)\n",
        "bagging = BaggingClassifier(estimator=estimator, n_estimators=50, random_state=42)\n",
        "\n",
        "\n",
        "pipeline = Pipeline(steps=[\n",
        "    ('preprocessor', preprocessor),\n",
        "    ('bagging', bagging)\n",
        "])\n",
        "\n",
        "pipeline.fit(X_train, y_train)\n",
        "\n",
        "y_pred = pipeline.predict(X_test)\n",
        "\n",
        "print(\"Matriz de confusión:\")\n",
        "print(confusion_matrix(y_test, y_pred))\n",
        "\n",
        "f1_macro = classification_report(y_test, y_pred, output_dict=True)['macro avg']['f1-score']\n",
        "print(f\"F1-score macro: {f1_macro}\")\n",
        "\n",
        "sensitivity = classification_report(y_test, y_pred, output_dict=True)['macro avg']['recall']\n",
        "print(f\"Sensibilidad (Recall): {sensitivity}\")\n",
        "\n",
        "cm = confusion_matrix(y_test, y_pred)\n",
        "specificity = cm.diagonal() / cm.sum(axis=1)\n",
        "specificity_macro = specificity.mean()\n",
        "print(f\"Especificidad (macro): {specificity_macro}\")\n",
        "\n",
        "def clasificar_nuevos_datos(nuevos_datos):\n",
        "    return pipeline.predict(nuevos_datos)"
      ]
    },
    {
      "cell_type": "markdown",
      "metadata": {
        "id": "Qul880m0E9iU"
      },
      "source": [
        "Prueba sin los componentes principales"
      ]
    },
    {
      "cell_type": "code",
      "execution_count": null,
      "metadata": {
        "id": "Iv98GJ1Jd3CX"
      },
      "outputs": [],
      "source": [
        "from sklearn.ensemble import RandomForestClassifier\n",
        "from sklearn.model_selection import train_test_split\n",
        "from sklearn.compose import ColumnTransformer\n",
        "from sklearn.preprocessing import OneHotEncoder\n",
        "from sklearn.metrics import classification_report, confusion_matrix\n",
        "from sklearn.pipeline import Pipeline\n",
        "\n",
        "X = datos.drop(columns=['ARR_DELAY_Category', 'PC1', 'PC2', 'PC3', 'PC4'])\n",
        "y = datos['ARR_DELAY_Category']\n",
        "\n",
        "X_train, X_test, y_train, y_test = train_test_split(X, y, test_size=0.2, random_state=42)\n",
        "\n",
        "num_features = X_train.select_dtypes(include=['float64', 'int64']).columns\n",
        "cat_features = X_train.select_dtypes(include=['object']).columns\n",
        "\n",
        "preprocessor = ColumnTransformer(\n",
        "    transformers=[\n",
        "        ('num', StandardScaler(), num_features),\n",
        "        ('cat', OneHotEncoder(handle_unknown='ignore'), cat_features)\n",
        "    ])\n",
        "\n",
        "pipeline = Pipeline(steps=[\n",
        "    ('preprocessor', preprocessor),\n",
        "    ('forest', RandomForestClassifier(class_weight='balanced', random_state=42))\n",
        "])\n",
        "\n",
        "pipeline.fit(X_train, y_train)\n",
        "\n",
        "y_pred = pipeline.predict(X_test)\n",
        "\n",
        "print(\"Matriz de confusión:\")\n",
        "print(confusion_matrix(y_test, y_pred))\n",
        "\n",
        "f1_macro = classification_report(y_test, y_pred, output_dict=True)['macro avg']['f1-score']\n",
        "print(f\"F1-score macro: {f1_macro}\")\n",
        "\n",
        "sensitivity = classification_report(y_test, y_pred, output_dict=True)['macro avg']['recall']\n",
        "print(f\"Sensibilidad (Recall): {sensitivity}\")\n",
        "\n",
        "cm = confusion_matrix(y_test, y_pred)\n",
        "specificity = cm.diagonal() / cm.sum(axis=1)\n",
        "specificity_macro = specificity.mean()\n",
        "print(f\"Especificidad (macro): {specificity_macro}\")\n",
        "\n",
        "def clasificar_nuevos_datos(nuevos_datos):\n",
        "    return pipeline.predict(nuevos_datos)"
      ]
    },
    {
      "cell_type": "markdown",
      "metadata": {
        "id": "iDHpZ7p5FBoj"
      },
      "source": [
        "Codigo con componentes principales"
      ]
    },
    {
      "cell_type": "code",
      "execution_count": null,
      "metadata": {
        "colab": {
          "base_uri": "https://localhost:8080/"
        },
        "id": "_PZEnBz_sM0g",
        "outputId": "91e91a59-b24a-4a24-ca99-ae74dc4d14fd"
      },
      "outputs": [
        {
          "name": "stdout",
          "output_type": "stream",
          "text": [
            "Matriz de confusión:\n",
            "[[40198     5  2011]\n",
            " [    6 38547  3386]\n",
            " [ 4324  4968 32638]]\n",
            "F1-score macro: 0.881754818157568\n",
            "Sensibilidad (Recall): 0.8832521727337506\n",
            "Especificidad (macro): 0.8832521727337506\n"
          ]
        }
      ],
      "source": [
        "from sklearn.ensemble import RandomForestClassifier\n",
        "from sklearn.model_selection import train_test_split\n",
        "from sklearn.compose import ColumnTransformer\n",
        "from sklearn.preprocessing import OneHotEncoder\n",
        "from sklearn.metrics import classification_report, confusion_matrix\n",
        "from sklearn.pipeline import Pipeline\n",
        "from sklearn.ensemble import RandomForestClassifier\n",
        "from sklearn.model_selection import train_test_split\n",
        "from sklearn.metrics import classification_report, confusion_matrix\n",
        "from sklearn.pipeline import Pipeline\n",
        "\n",
        "X = datos[['OP_CARRIER', 'ORIGIN', 'DEST', 'PC1', 'PC2', 'PC3', 'PC4']]\n",
        "y = datos['ARR_DELAY_Category']\n",
        "\n",
        "X_train, X_test, y_train, y_test = train_test_split(X, y, test_size=0.2, random_state=42)\n",
        "\n",
        "num_features = X_train.select_dtypes(include=['float64', 'int64']).columns\n",
        "cat_features = X_train.select_dtypes(include=['object']).columns\n",
        "\n",
        "preprocessor = ColumnTransformer(\n",
        "    transformers=[\n",
        "        ('num', StandardScaler(), num_features),\n",
        "        ('cat', OneHotEncoder(handle_unknown='ignore'), cat_features)\n",
        "    ])\n",
        "\n",
        "pipeline = Pipeline(steps=[\n",
        "    ('preprocessor', preprocessor),\n",
        "    ('forest', RandomForestClassifier(class_weight='balanced', random_state=42))\n",
        "])\n",
        "\n",
        "pipeline.fit(X_train, y_train)\n",
        "\n",
        "y_pred = pipeline.predict(X_test)\n",
        "\n",
        "print(\"Matriz de confusión:\")\n",
        "print(confusion_matrix(y_test, y_pred))\n",
        "\n",
        "f1_macro = classification_report(y_test, y_pred, output_dict=True)['macro avg']['f1-score']\n",
        "print(f\"F1-score macro: {f1_macro}\")\n",
        "\n",
        "sensitivity = classification_report(y_test, y_pred, output_dict=True)['macro avg']['recall']\n",
        "print(f\"Sensibilidad (Recall): {sensitivity}\")\n",
        "\n",
        "cm = confusion_matrix(y_test, y_pred)\n",
        "specificity = cm.diagonal() / cm.sum(axis=1)\n",
        "specificity_macro = specificity.mean()\n",
        "print(f\"Especificidad (macro): {specificity_macro}\")\n",
        "\n",
        "def clasificar_nuevos_datos(nuevos_datos):\n",
        "    return pipeline.predict(nuevos_datos)"
      ]
    },
    {
      "cell_type": "markdown",
      "metadata": {
        "id": "CYWb389TUCmh"
      },
      "source": [
        "### CONCLUSIÓN\n",
        "\n",
        "Los modelos de árboles de decisión y los ensambles con árboles de decisión como estimador principal mostraron un rendimiento perfecto, con métricas de F1, Sensibilidad y Especificidad de 1, además de matrices sin errores. Este rendimiento podría indicar que el modelo se sobreajustó a los datos de entrenamiento. Esto se confirmó con el uso del modelo de ensamble Bagging (Bootstrap Aggregating), que, al ser entrenado con un árbol de decisión como estimador, mostró una mejora significativa en comparación con el uso de regresión logística. Los modelos de ensamble, como Random Forest, demostraron un rendimiento superior a otros modelos como SVM, que, además de tener métricas ligeramente inferiores, requirieron un tiempo de procesamiento considerablemente mayor. Asimismo, el análisis de componentes principales resultó ser menos efectivo para el modelo, ya que las métricas generadas con estos datos fueron significativamente inferiores a las obtenidas con Random Forest."
      ]
    },
    {
      "cell_type": "markdown",
      "metadata": {
        "id": "y3ka89yqWQ0m"
      },
      "source": [
        "### PRUEBA CON DATOS SIN ETIQUETA DEL MODELO QUE DEMOSTRÓ MEJOR RENDIMIENTO (RANDOM FOREST)"
      ]
    },
    {
      "cell_type": "code",
      "execution_count": null,
      "metadata": {
        "id": "0KGPJTmvWgnP"
      },
      "outputs": [],
      "source": [
        "import numpy as np\n",
        "import pandas as pd\n",
        "from sklearn.decomposition import PCA\n",
        "from sklearn.preprocessing import StandardScaler\n",
        "from sklearn.ensemble import RandomForestClassifier\n",
        "from sklearn.model_selection import train_test_split\n",
        "from sklearn.compose import ColumnTransformer\n",
        "from sklearn.preprocessing import OneHotEncoder\n",
        "from sklearn.metrics import classification_report, confusion_matrix\n",
        "from sklearn.pipeline import Pipeline\n",
        "\n",
        "df = pd.read_csv('/content/drive/My Drive/train_airlines_delay_challenge (1).csv')\n",
        "df_limpio = df.drop_duplicates()\n",
        "\n",
        "def eliminar_outliers(df, columnas):\n",
        "    for columna in columnas:\n",
        "        Q1 = df[columna].quantile(0.25)\n",
        "        Q3 = df[columna].quantile(0.75)\n",
        "        IQR = Q3 - Q1\n",
        "        limite_inferior = Q1 - 1.5 * IQR\n",
        "        limite_superior = Q3 + 1.5 * IQR\n",
        "        df = df[(df[columna] >= limite_inferior) & (df[columna] <= limite_superior)]\n",
        "    return df\n",
        "\n",
        "columnas_outliers = ['ARR_DELAY', 'DEP_DELAY', 'TAXI_OUT']\n",
        "df_limpio = eliminar_outliers(df_limpio, columnas_outliers)\n",
        "\n",
        "X = df_limpio[['DEP_DELAY', 'ARR_DELAY', 'CRS_DEP_TIME', 'DISTANCE', 'CRS_ELAPSED_TIME', 'CRS_ARR_TIME', 'WHEELS_OFF', 'TAXI_OUT', 'DEP_TIME']]\n",
        "scaler = StandardScaler()\n",
        "X_scaled = scaler.fit_transform(X)\n",
        "\n",
        "pca = PCA(n_components=4)\n",
        "X_pca = pca.fit_transform(X_scaled)\n",
        "\n",
        "df_pca = pd.DataFrame(X_pca, columns=['PC1', 'PC2', 'PC3', 'PC4'])\n",
        "df_limpio = pd.concat([df_limpio.reset_index(drop=True), df_pca], axis=1)\n",
        "\n",
        "conditions = [\n",
        "    df_limpio['ARR_DELAY'] < -15,\n",
        "    df_limpio['ARR_DELAY'] > 15,\n",
        "    (df_limpio['ARR_DELAY'] >= -15) & (df_limpio['ARR_DELAY'] <= 15)\n",
        "]\n",
        "values = ['Early', 'Delay', 'On time']\n",
        "df_limpio['ARR_DELAY_Category'] = np.select(conditions, values)\n",
        "\n",
        "sample_size = int(len(df_limpio) * 0.03)\n",
        "df_on_time = df_limpio[df_limpio['ARR_DELAY_Category'] == 'On time']\n",
        "df_early = df_limpio[df_limpio['ARR_DELAY_Category'] == 'Early']\n",
        "df_delay = df_limpio[df_limpio['ARR_DELAY_Category'] == 'Delay']\n",
        "\n",
        "df_on_time_sample = df_on_time.sample(n=min(sample_size, len(df_on_time)), random_state=42)\n",
        "df_early_sample = df_early.sample(n=min(sample_size, len(df_early)), random_state=42)\n",
        "df_delay_sample = df_delay.sample(n=min(sample_size, len(df_delay)), random_state=42)\n",
        "\n",
        "datos = pd.concat([df_on_time_sample, df_early_sample, df_delay_sample])\n",
        "\n",
        "datos['CRS_DEP_TIME'] = (datos['CRS_DEP_TIME'] // 100) * 60 + (datos['CRS_DEP_TIME'] % 100)\n",
        "datos['DEP_TIME'] = (datos['DEP_TIME'] // 100) * 60 + (datos['DEP_TIME'] % 100)\n",
        "datos['WHEELS_OFF'] = (datos['WHEELS_OFF'] // 100) * 60 + (datos['WHEELS_OFF'] % 100)\n",
        "datos['CRS_ARR_TIME'] = (datos['CRS_ARR_TIME'] // 100) * 60 + (datos['CRS_ARR_TIME'] % 100)\n",
        "\n",
        "X = datos.drop(columns=['ARR_DELAY_Category', 'PC1', 'PC2', 'PC3', 'PC4'])\n",
        "y = datos['ARR_DELAY_Category']\n",
        "\n",
        "X_train, X_test, y_train, y_test = train_test_split(X, y, test_size=0.2, random_state=42)\n",
        "\n",
        "num_features = X_train.select_dtypes(include=['float64', 'int64']).columns\n",
        "cat_features = X_train.select_dtypes(include=['object']).columns\n",
        "\n",
        "preprocessor = ColumnTransformer(\n",
        "    transformers=[\n",
        "        ('num', StandardScaler(), num_features),\n",
        "        ('cat', OneHotEncoder(handle_unknown='ignore'), cat_features)\n",
        "    ])\n",
        "\n",
        "pipeline = Pipeline(steps=[\n",
        "    ('preprocessor', preprocessor),\n",
        "    ('forest', RandomForestClassifier(class_weight='balanced', random_state=42))\n",
        "])\n",
        "\n",
        "pipeline.fit(X_train, y_train)\n",
        "\n",
        "y_pred = pipeline.predict(X_test)\n",
        "\n",
        "print(\"Matriz de confusión:\")\n",
        "print(confusion_matrix(y_test, y_pred))\n",
        "\n",
        "f1_macro = classification_report(y_test, y_pred, output_dict=True)['macro avg']['f1-score']\n",
        "print(f\"F1-score macro: {f1_macro}\")\n",
        "\n",
        "sensitivity = classification_report(y_test, y_pred, output_dict=True)['macro avg']['recall']\n",
        "print(f\"Sensibilidad (Recall): {sensitivity}\")\n",
        "\n",
        "cm = confusion_matrix(y_test, y_pred)\n",
        "specificity = cm.diagonal() / cm.sum(axis=1)\n",
        "specificity_macro = specificity.mean()\n",
        "print(f\"Especificidad (macro): {specificity_macro}\")\n",
        "\n",
        "def clasificar_nuevos_datos(nuevos_datos):\n",
        "    return pipeline.predict(nuevos_datos)"
      ]
    },
    {
      "cell_type": "code",
      "execution_count": null,
      "metadata": {
        "colab": {
          "base_uri": "https://localhost:8080/"
        },
        "id": "M4Ty__63rMFY",
        "outputId": "47b32a56-ca5c-4cd2-f122-78f6e450f04f"
      },
      "outputs": [
        {
          "name": "stdout",
          "output_type": "stream",
          "text": [
            "      FL_DATE OP_CARRIER  OP_CARRIER_FL_NUM ORIGIN DEST  CRS_DEP_TIME  \\\n",
            "0  2018-07-13         B6                574    TPA  EWR           929   \n",
            "1  2018-09-11         UA                256    DEN  SFO           750   \n",
            "2  2018-07-22         WN               3252    AUS  PHX          1710   \n",
            "3  2018-04-30         AA               1422    BOS  JFK          1440   \n",
            "4  2018-05-09         WN                187    HOU  ATL           710   \n",
            "\n",
            "   DEP_TIME  DEP_DELAY  TAXI_OUT  WHEELS_OFF  CRS_ARR_TIME  CRS_ELAPSED_TIME  \\\n",
            "0     924.0       -5.0      13.0       937.0          1215             166.0   \n",
            "1     750.0        0.0      18.0       808.0           928             158.0   \n",
            "2    1820.0       70.0       8.0      1828.0          1730             140.0   \n",
            "3    1431.0       -9.0      17.0      1448.0          1607              87.0   \n",
            "4     709.0       -1.0      11.0       720.0          1010             120.0   \n",
            "\n",
            "   DISTANCE  \n",
            "0     997.0  \n",
            "1     967.0  \n",
            "2     872.0  \n",
            "3     187.0  \n",
            "4     696.0  \n"
          ]
        }
      ],
      "source": [
        "nuevos_datos = pd.read_csv('//content/drive/My Drive/test_airlines_delay_challenge.csv')\n",
        "print(nuevos_datos.head())"
      ]
    },
    {
      "cell_type": "markdown",
      "metadata": {
        "id": "DGDsIrRVGKgt"
      },
      "source": [
        "# PRUEBA DE RENDIMIENTO CON EL MODELO FINAL (YGGDRASIL)\n",
        "### Entrenamiento de YGGDRASIL"
      ]
    },
    {
      "cell_type": "code",
      "execution_count": null,
      "metadata": {
        "colab": {
          "background_save": true
        },
        "id": "PQRu2lHGKrsi"
      },
      "outputs": [],
      "source": [
        "from sklearn.ensemble import RandomForestClassifier, RandomForestRegressor\n",
        "from sklearn.compose import ColumnTransformer\n",
        "from sklearn.preprocessing import OneHotEncoder, StandardScaler\n",
        "from sklearn.pipeline import Pipeline\n",
        "import numpy as np\n",
        "\n",
        "datos_sample = datos.sample(frac=0.5, random_state=42)\n",
        "\n",
        "X = datos_sample.drop(columns=['ARR_DELAY_Category', 'PC1', 'PC2', 'PC3', 'PC4'])\n",
        "y = datos_sample['ARR_DELAY_Category']\n",
        "\n",
        "num_features = X.select_dtypes(include=['float64', 'int64']).columns\n",
        "cat_features = X.select_dtypes(include=['object']).columns\n",
        "\n",
        "preprocessor = ColumnTransformer(\n",
        "    transformers=[\n",
        "        ('num', StandardScaler(), num_features),\n",
        "        ('cat', OneHotEncoder(handle_unknown='ignore'), cat_features)\n",
        "    ])\n",
        "\n",
        "pipeline = Pipeline(steps=[\n",
        "    ('preprocessor', preprocessor),\n",
        "    ('forest', RandomForestClassifier(class_weight='balanced', random_state=42))\n",
        "])\n",
        "\n",
        "pipeline.fit(X, y)\n",
        "\n",
        "regression_features = ['DEP_DELAY', 'CRS_DEP_TIME', 'DISTANCE', 'CRS_ELAPSED_TIME', 'CRS_ARR_TIME', 'WHEELS_OFF', 'TAXI_OUT', 'DEP_TIME']\n",
        "X_reg = datos_sample[regression_features]\n",
        "y_reg = datos_sample['ARR_DELAY']\n",
        "\n",
        "reg_pipeline = Pipeline(steps=[\n",
        "    ('preprocessor', StandardScaler()),\n",
        "    ('regressor', RandomForestRegressor(random_state=42))\n",
        "])\n",
        "\n",
        "reg_pipeline.fit(X_reg, y_reg)\n",
        "\n",
        "def clasificar_nuevos_datos(nuevos_datos):\n",
        "    if 'ARR_DELAY' not in nuevos_datos.columns:\n",
        "        nuevos_datos['ARR_DELAY'] = reg_pipeline.predict(nuevos_datos[regression_features])\n",
        "\n",
        "    conditions = [\n",
        "        nuevos_datos['ARR_DELAY'] < -15,\n",
        "        nuevos_datos['ARR_DELAY'] > 15,\n",
        "        (nuevos_datos['ARR_DELAY'] >= -15) & (nuevos_datos['ARR_DELAY'] <= 15)\n",
        "    ]\n",
        "    values = ['Early', 'Delay', 'On time']\n",
        "    nuevos_datos['ARR_DELAY_Category'] = np.select(conditions, values)\n",
        "\n",
        "    return pipeline.predict(nuevos_datos)"
      ]
    },
    {
      "cell_type": "code",
      "execution_count": null,
      "metadata": {
        "colab": {
          "base_uri": "https://localhost:8080/"
        },
        "id": "uzds62AQyspp",
        "outputId": "b6f1c49a-0ce9-42d1-ad01-7e9fe9e39f72"
      },
      "outputs": [
        {
          "name": "stdout",
          "output_type": "stream",
          "text": [
            "         DEP_DELAY  ARR_DELAY ARR_DELAY_Category_Predicted\n",
            "0             -5.0  -2.620034                      On time\n",
            "1              0.0   0.000000                      On time\n",
            "2             70.0  36.680482                        Delay\n",
            "3             -9.0  -4.716062                      On time\n",
            "4             -1.0  -0.524007                      On time\n",
            "...            ...        ...                          ...\n",
            "2249995       -2.0  -1.048014                      On time\n",
            "2249996       -3.0  -1.572021                      On time\n",
            "2249997       -3.0  -1.572021                      On time\n",
            "2249998        2.0   1.048014                      On time\n",
            "2249999       -5.0  -2.620034                      On time\n",
            "\n",
            "[2250000 rows x 3 columns]\n"
          ]
        }
      ],
      "source": [
        "nuevos_datos = pd.read_csv('//content/drive/My Drive/test_airlines_delay_challenge.csv')\n",
        "factor = 0.524006891451514\n",
        "nuevos_datos['ARR_DELAY'] = nuevos_datos['DEP_DELAY'] * factor\n",
        "nuevos_datos['CRS_DEP_TIME'] = (nuevos_datos['CRS_DEP_TIME'] // 100) * 60 + (nuevos_datos['CRS_DEP_TIME'] % 100)\n",
        "nuevos_datos['DEP_TIME'] = (nuevos_datos['DEP_TIME'] // 100) * 60 + (nuevos_datos['DEP_TIME'] % 100)\n",
        "nuevos_datos['WHEELS_OFF'] = (nuevos_datos['WHEELS_OFF'] // 100) * 60 + (nuevos_datos['WHEELS_OFF'] % 100)\n",
        "nuevos_datos['CRS_ARR_TIME'] = (nuevos_datos['CRS_ARR_TIME'] // 100) * 60 + (nuevos_datos['CRS_ARR_TIME'] % 100)\n",
        "\n",
        "X_nuevos = nuevos_datos[['DEP_DELAY', 'ARR_DELAY', 'CRS_DEP_TIME', 'DISTANCE',\n",
        "                           'CRS_ELAPSED_TIME', 'CRS_ARR_TIME', 'WHEELS_OFF',\n",
        "                           'TAXI_OUT', 'DEP_TIME','ORIGIN', 'FL_DATE', 'OP_CARRIER', 'OP_CARRIER_FL_NUM', 'DEST']]\n",
        "nuevas_predicciones = clasificar_nuevos_datos(X_nuevos)\n",
        "\n",
        "nuevos_datos['ARR_DELAY_Category_Predicted'] = nuevas_predicciones\n",
        "\n",
        "print(nuevos_datos[['DEP_DELAY', 'ARR_DELAY', 'ARR_DELAY_Category_Predicted']])\n",
        "nuevos_datos[['ARR_DELAY', 'ARR_DELAY_Category_Predicted']].to_csv('/content/drive/My Drive/ResultadosPredicciones.csv', index=False)"
      ]
    }
  ],
  "metadata": {
    "colab": {
      "provenance": []
    },
    "kernelspec": {
      "display_name": "Python 3",
      "name": "python3"
    },
    "language_info": {
      "name": "python"
    }
  },
  "nbformat": 4,
  "nbformat_minor": 0
}